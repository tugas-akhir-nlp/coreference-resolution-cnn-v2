{
 "cells": [
  {
   "cell_type": "code",
   "execution_count": 11,
   "metadata": {},
   "outputs": [],
   "source": [
    "import json\n",
    "import pandas as pd\n",
    "import numpy as np\n",
    "from utils.data_helper import get_markable_dataframe, get_embedding_variables, get_sentence_variables, get_document_id_variables, get_phrases_and_nodes\n",
    "from model_builders.coreference_classifier import CoreferenceClassifierModelBuilder\n",
    "from functools import reduce\n",
    "from tensorflow.keras.utils import to_categorical\n",
    "from tensorflow.keras.preprocessing.sequence import pad_sequences\n",
    "from tensorflow.keras.models import load_model\n",
    "from utils.clusterers import BestFirstClusterer, get_anaphora_scores_by_antecedent, ClosestFirstClusterer\n",
    "from utils.scorers import MUCScorer, B3Scorer, CEAFeScorer, AverageScorer\n",
    "from utils.data_structures import UFDS\n",
    "from xml.etree import ElementTree\n",
    "from string import punctuation\n",
    "from IPython.display import HTML, display\n",
    "from tabulate import tabulate\n",
    "from html import escape"
   ]
  },
  {
   "cell_type": "code",
   "execution_count": 22,
   "metadata": {},
   "outputs": [],
   "source": [
    "pairs = pd.read_csv(\"data/testing/mention_pairs.csv\")\n",
    "\n",
    "label = np.vstack(to_categorical(pairs.is_coreference, num_classes=2))\n",
    "label_chains = ClosestFirstClusterer().get_chains(get_anaphora_scores_by_antecedent(pairs.m1_id, pairs.m2_id, label))\n",
    "label_chains = sorted(list(filter(lambda x: len(x) > 1, label_chains)))"
   ]
  },
  {
   "cell_type": "code",
   "execution_count": 23,
   "metadata": {},
   "outputs": [],
   "source": [
    "sentence_id_by_markable_id, markable_ids_by_sentence_id = get_sentence_variables('data/full.xml')\n",
    "document_id_by_sentence_id, document_id_by_markable_id, sentence_ids_by_document_id, markable_ids_by_document_id = get_document_id_variables('data/document_id.csv', markable_ids_by_sentence_id)\n",
    "\n",
    "data = ElementTree.parse('data/full.xml')\n",
    "\n",
    "root = data.getroot()\n",
    "parent_map = {c: p for p in root.iter() for c in p}\n",
    "\n",
    "phrases, nodes, phrase_id_by_node_id = get_phrases_and_nodes(UFDS(), root)\n",
    "\n",
    "phrases_by_sentence_id = {}\n",
    "\n",
    "aneh = []\n",
    "for phrase in phrases:\n",
    "    sentence = parent_map[phrase]\n",
    "    sentence_id = int(sentence.attrib['id'])\n",
    "    \n",
    "    if sentence_id not in phrases_by_sentence_id:\n",
    "        phrases_by_sentence_id[sentence_id] = []\n",
    "    \n",
    "    if 'coref' in phrase.attrib:\n",
    "        if document_id_by_markable_id[int(phrase.attrib['coref'])] != document_id_by_sentence_id[sentence_id]:\n",
    "            aneh.append(document_id_by_markable_id[int(phrase.attrib['coref'])])\n",
    "            aneh.append(document_id_by_sentence_id[sentence_id])\n",
    "            \n",
    "    phrases_by_sentence_id[sentence_id].append(phrase)"
   ]
  },
  {
   "cell_type": "code",
   "execution_count": 40,
   "metadata": {},
   "outputs": [
    {
     "name": "stdout",
     "output_type": "stream",
     "text": [
      "MUC:  (1.0, 0.3333333333333333, 0.5)\n",
      "B3:  (1.0, 0.25, 0.4)\n",
      "Average:  (0.45, 0.45, 0.45)\n"
     ]
    }
   ],
   "source": [
    "baseline_result_file_path = 'baseline/suherik_and_purwarianti/test_result.txt'\n",
    "\n",
    "baseline_ufds = UFDS()\n",
    "\n",
    "for m1, m2 in zip(pairs.m1_id, pairs.m2_id):\n",
    "    baseline_ufds.init_id(m1, m2)\n",
    "    \n",
    "for line in open(baseline_result_file_path, 'r').readlines():\n",
    "    line = line.split(', ')\n",
    "    m1_id, m2_id = int(line[0]), int(line[1])\n",
    "    \n",
    "    if document_id_by_markable_id[m1_id] == document_id_by_markable_id[m2_id]:\n",
    "        baseline_ufds.join(m1_id, m2_id)\n",
    "\n",
    "baseline_chains = baseline_ufds.get_chain_list()\n",
    "\n",
    "label_chains = [[2655, 2677, 2693, 2697]]\n",
    "baseline_chains = [[  2693, 2697]]\n",
    "\n",
    "print('MUC: ', MUCScorer().get_scores(baseline_chains, label_chains))\n",
    "print('B3: ', B3Scorer().get_scores(baseline_chains, label_chains))\n",
    "print('Average: ', AverageScorer([MUCScorer(), B3Scorer()]).get_scores(baseline_chains, label_chains))"
   ]
  },
  {
   "cell_type": "code",
   "execution_count": 25,
   "metadata": {},
   "outputs": [],
   "source": [
    "data = ElementTree.parse('data/testing/data.xml')\n",
    "\n",
    "root = data.getroot()\n",
    "\n",
    "test_document_ids = set()\n",
    "for sentence in root:\n",
    "    test_document_ids.add(document_id_by_sentence_id[int(sentence.attrib['id'])])\n",
    "\n",
    "test_document_ids = list(test_document_ids)"
   ]
  },
  {
   "cell_type": "code",
   "execution_count": 26,
   "metadata": {},
   "outputs": [],
   "source": [
    "def get_text_without_pos_tag(text):\n",
    "    words = text.split()\n",
    "\n",
    "    for i in range(len(words)):\n",
    "        words[i] = ''.join(words[i].split('\\\\')[:-1])\n",
    "    \n",
    "    return ' '.join(words)\n",
    "    \n",
    "def get_sentence(sentence_id):\n",
    "    phrases = phrases_by_sentence_id[sentence_id]\n",
    "    \n",
    "    splitted_sentence = []\n",
    "    for phrase in phrases:\n",
    "        text = get_text_without_pos_tag(phrase.text)\n",
    "        \n",
    "        if 'id' in phrase.attrib:\n",
    "            splitted_sentence.append(f'({text})[{phrase.attrib[\"id\"]}]')\n",
    "        else:\n",
    "            splitted_sentence.append(text)\n",
    "            \n",
    "    sentence = ' '.join(splitted_sentence)\n",
    "    return sentence\n",
    "\n",
    "def get_document_text(document_id):\n",
    "    sentence_ids = sentence_ids_by_document_id[document_id]\n",
    "    sentences = [get_sentence(sentence_id) for sentence_id in sentence_ids]\n",
    "    \n",
    "    document_text = ''\n",
    "    for sentence in sentences:\n",
    "        document_text += sentence\n",
    "        document_text += ' ' if sentence[-1] in punctuation else '\\n'\n",
    "        \n",
    "    return document_text"
   ]
  },
  {
   "cell_type": "markdown",
   "metadata": {},
   "source": [
    "# Get Baseline Chains"
   ]
  },
  {
   "cell_type": "code",
   "execution_count": 27,
   "metadata": {},
   "outputs": [],
   "source": [
    "baseline_result_file_path = 'baseline/suherik_and_purwarianti/test_result.txt'\n",
    "\n",
    "baseline_ufds = UFDS()\n",
    "\n",
    "for m1, m2 in zip(pairs.m1_id, pairs.m2_id):\n",
    "    baseline_ufds.init_id(m1, m2)\n",
    "    \n",
    "for line in open(baseline_result_file_path, 'r').readlines():\n",
    "    line = line.split(', ')\n",
    "    baseline_ufds.join(int(line[0]), int(line[1]))\n",
    "\n",
    "baseline_chains = sorted(list(filter(lambda x: len(x) > 1, baseline_ufds.get_chain_list())))"
   ]
  },
  {
   "cell_type": "markdown",
   "metadata": {},
   "source": [
    "# Get Predicted Chains"
   ]
  },
  {
   "cell_type": "code",
   "execution_count": 28,
   "metadata": {},
   "outputs": [],
   "source": [
    "predicted_result_wo_sc_file_path = 'result/without_singleton_classifier.json'\n",
    "predicted_result_w_sc_file_path = 'result/with_singleton_classifier.json'\n",
    "predicted_result_w_label_sc_file_path = 'result/with_label_singleton_classifier.json'\n",
    "\n",
    "wo_sc_chains = sorted(list(map(lambda chain: [markable[0] for markable in chain], json.load(open(predicted_result_wo_sc_file_path)))))\n",
    "w_sc_chains = sorted(list(map(lambda chain: [markable[0] for markable in chain], json.load(open(predicted_result_w_sc_file_path)))))\n",
    "w_label_sc_chains = sorted(list(map(lambda chain: [markable[0] for markable in chain], json.load(open(predicted_result_w_label_sc_file_path)))))"
   ]
  },
  {
   "cell_type": "markdown",
   "metadata": {},
   "source": [
    "# Analysis for Each Document"
   ]
  },
  {
   "cell_type": "code",
   "execution_count": 29,
   "metadata": {},
   "outputs": [],
   "source": [
    "def get_chains_by_document_id(chains, document_id):\n",
    "    filtered_chains = []\n",
    "    \n",
    "    for chain in chains:\n",
    "        filtered_chain = [markable_id for markable_id in chain if document_id_by_markable_id[markable_id] == document_id]\n",
    "        if len(filtered_chain) > 1:\n",
    "            filtered_chains.append(filtered_chain)\n",
    "    \n",
    "    return filtered_chains"
   ]
  },
  {
   "cell_type": "code",
   "execution_count": 30,
   "metadata": {},
   "outputs": [
    {
     "name": "stdout",
     "output_type": "stream",
     "text": [
      "(PT Astra Otoparts Tbk)[1916] menjual kepemilikan saham (nya)[1917] di (PT Exedy Indonesia)[1918] (sebanyak 7.072 saham)[1919] dengan (harga)[1920] (Rp 1.835.000)[1921] per (saham)[1922] atau total (nya)[1923] (senilai Rp 12,977 miliar)[1924] kepada (Exedy Corporation)[1925] yang berkedudukan di (Jepang.)[1926] (Kami)[1927] telah menandatangani (perjanjian pengikatan)[1928] untuk penjualan (seluruh saham)[1929] milik (PT Astra Otoparts)[1930] di (PT Exedy Indonesia)[1931] kepada (Exedy Corporation,)[1932] kata (Sekretaris Perusahaan Astra Otoparts,)[1933] (Kartina Rahayu)[1934] di (Jakarta,)[1935] (Senin.)[1936] Menurut (dia,)[1937] (penjualan saham tersebut)[1938] akan berlaku efektif apabila syarat-syarat sebagaimana termuat dalam (perjanjian pengikatan jual beli saham)[1939] telah terpenuhi. (Dia)[1940] mengatakan (transaksi tersebut)[1941] tidak mengandung (unsur benturan kepentingan)[1942] dilihat dari sisi (direksi,)[1943] (komisaris)[1944] dan (pemegang saham utama.)[1945] Lagi pula nilai (nya)[1946] (tidak cukup material)[1947] yakni (kurang 10 persen)[1948] dari (pendapatan)[1949] dan (20 persen)[1950] dari (ekuitas,)[1951] tambah (nya.)[1952] \n"
     ]
    },
    {
     "data": {
      "text/html": [
       "<table>\n",
       "<tbody>\n",
       "<tr><td>[1916, 1917, 1927, 1930]<br />[1918, 1925, 1931, 1932]<br />[1933, 1934, 1937, 1940, 1952]<br /></td><td>[1916, 1930]<br />[1918, 1931]<br />[1927, 1933, 1934, 1937, 1940, 1946, 1952]<br /></td><td>[1916, 1917, 1918, 1931]<br />[1933, 1934, 1937, 1940, 1952]<br /></td><td>[1933, 1934, 1937, 1940, 1952]<br /></td><td>[1916, 1917, 1918, 1931]<br />[1933, 1934, 1937, 1940, 1952]<br /></td></tr>\n",
       "</tbody>\n",
       "</table>"
      ],
      "text/plain": [
       "<IPython.core.display.HTML object>"
      ]
     },
     "metadata": {},
     "output_type": "display_data"
    },
    {
     "name": "stdout",
     "output_type": "stream",
     "text": [
      "\n",
      "(Menkeu Sri Mulyani Indrawati)[1953] membebaskan (tarif akhir)[1954] (bea masuk)[1955] (BM)[1956] atas (impor bahan baku)[1957] untuk (pembuatan komponen kendaraan bermotor)[1958] oleh (industri komponen kendaraan bermotor.)[1959] (Ketentuan tersebut)[1960] diatur dalam (Permenkeu No. 34/ PMK.011/ 2007)[1961] tanggal 3 April 2007 dan mulai berlaku (30 hari)[1962] setelah ditetapkan selama (satu tahun)[1963] sejak tanggal berlaku. (Dia)[1964] menambahkan, (permohonan pembebasan BM)[1965] harus diajukan kepada (Dirjen Bea Cukai Depkeu)[1966] dengan melampirkan antara lain NPWP ; (surat izin usaha)[1967] dari (departemen/ instansi)[1968] terkait ; daftar (jumlah,)[1969] (jenis spesifikasi)[1970] dan (harga barang)[1971] ; dan (keterangan verifikasi)[1972] oleh (surveyor)[1973] yang ditunjuk (pemerintah.)[1974] \n"
     ]
    },
    {
     "data": {
      "text/html": [
       "<table>\n",
       "<tbody>\n",
       "<tr><td>[1953, 1964]<br /></td><td>[1953, 1964]<br /></td><td>[1953, 1964]<br /></td><td>[1953, 1964]<br /></td><td>[1953, 1964]<br /></td></tr>\n",
       "</tbody>\n",
       "</table>"
      ],
      "text/plain": [
       "<IPython.core.display.HTML object>"
      ]
     },
     "metadata": {},
     "output_type": "display_data"
    },
    {
     "name": "stdout",
     "output_type": "stream",
     "text": [
      "\n",
      "Kredit bermasalah (non performing loan)[2245] - NPL industri (tekstil)[2246] dan (produk tekstil)[2247] (TPT)[2248] pada (Maret 2007)[2249] mencapai (23,37 persen,)[2250] (demikian)[2251] dikemukakan (Deputi Gubernur)[2252] (Bank Indonesia)[2253] (BI,)[2254] (Hartadi A Sarwono)[2255] di (Jakarta,)[2256] (Rabu.)[2257] (Ia)[2258] mengatakan (persentase tersebut)[2259] termasuk tinggi karena NPL untuk (industri perbankan)[2260] pada (Maret 2007)[2261] (sebesar 6,6 persen.)[2262] (Kenyataan ini)[2263] melahirkan persepsi bahwa (industri TPT)[2264] termasuk kategori (sunset)[2265] industri, kata (Hartadi)[2266] dalam acara sosialisasi program peningkatan (teknologi industri TPT)[2267] di (BI)[2268] (Jakarta.)[2269] (Hartadi)[2270] mengatakan bahwa (industri TPT)[2271] sebenarnya merupakan salah satu dari sepuluh (komoditas unggulan)[2272] yang ditetapkan (pemerintah)[2273] untuk dikembangkan, namun perkembangan peningkatan kapasitas produksi (nya)[2274] menghadapi (kendala besar)[2275] sementara (persaingan)[2276] semakin meningkat. (Data perbankan)[2277] menunjukkan besar (nya)[2278] (penyaluran kredit)[2279] pada industri TPT (non - kulit)[2280] pada (Maret 2007)[2281] mencapai (Rp 27,5 triliun)[2282] atau (sekitar 32,6 persen)[2283] dari total (kredit perbankan nasional)[2284] yang mencapai (RP 843 triliun.)[2285] (Hartadi)[2286] menjelaskan (keengganan perbankan)[2287] untuk memberikan (pembiayaan)[2288] pada (industri)[2289] tersebut membuat perkembangan (nya)[2290] sungguh sangat memprihatinkan. Upaya yang dilakukan (pemerintah)[2291] untuk memberikan subsidi (harga pembelian mesin)[2292] diharapkan menjadi (langkah konkret)[2293] untuk mengatasi kesulitan yang dihadapi (industri TPT.)[2294] Dana yang disediakan (pemerintah)[2295] (tahun 2007)[2296] untuk (potongan harga)[2297] dan (bantuan kredit)[2298] guna pembelian (mesin atau peralatan)[2299] (industri TPT)[2300] dalam (pelaksanaan program tersebut)[2301] mencapai (Rp 255 miliar.)[2302] (Ia)[2303] berharap (forum ini)[2304] (acara sosialisasi)[2305] dapat memberikan (akses informasi)[2306] kepada (perbankan)[2307] khusus (nya)[2308] mengenai (bidang-bidang usaha)[2309] yang memiliki prospek yang baik dan potensial untuk dibiayai. Sementara (itu,)[2310] (Dirjend Industri Logam Mesin Tekstil Departemen Perindustrian Ansari Bukhari)[2311] mengatakan sebenarnya (pembiayaan perbankan)[2312] ke (sektor TPT)[2313] masih cukup baik karena (banyak nasabah)[2314] dari (industri TPT)[2315] yang cukup bagus. (Ansari)[2316] mengatakan secara (keseluruhan)[2317] (program modernisasi mesin)[2318] membutuhkan dana (sekitar Rp 50 triliun)[2319] dengan (pembiayaan)[2320] dari (perbankan)[2321] diperkirakan mencapai (Rp 2 triliun.)[2322] Menurut (Ansari)[2323] pada (2006)[2324] (kontribusi industri TPT)[2325] terhadap (ekspor)[2326] mencapai (9,4 miliar dolar AS,)[2327] sedangkan pada (tahun ini)[2328] ditargetkan mencapai (10 miliar dolar AS.)[2329] \n"
     ]
    },
    {
     "data": {
      "text/html": [
       "<table>\n",
       "<tbody>\n",
       "<tr><td>[2255, 2258, 2266, 2270, 2286, 2303]<br />[2311, 2316, 2323]<br /></td><td>[2252, 2253]<br />[2255, 2258, 2266, 2269, 2270, 2286]<br />[2303, 2311, 2316, 2323]<br /></td><td>[2252, 2255, 2258, 2266, 2270, 2278, 2286, 2290, 2303]<br />[2254, 2268]<br />[2316, 2323]<br /></td><td>[2254, 2268]<br />[2255, 2258, 2266, 2270, 2290, 2303]<br />[2316, 2323]<br /></td><td>[2255, 2258, 2266, 2270, 2286, 2303]<br />[2316, 2323]<br /></td></tr>\n",
       "</tbody>\n",
       "</table>"
      ],
      "text/plain": [
       "<IPython.core.display.HTML object>"
      ]
     },
     "metadata": {},
     "output_type": "display_data"
    },
    {
     "name": "stdout",
     "output_type": "stream",
     "text": [
      "\n",
      "(Menteri Keuangan Sri Mulyani)[2330] mengungkapkan bahwa (kontribusi pasar modal)[2331] terhadap (Produk domestik Bruto)[2332] (PDB)[2333] pada (saat ini)[2334] mencapai (40 persen)[2335] dengan kapitalisasi (Rp 1.400 triliun.)[2336] (Sri Mulyani)[2337] dalam (acara pembukaan)[2338] (Indonesia Investor Forum)[2339] II di (Jakarta,)[2340] (Selasa,)[2341] mengatakan (kontribusi pasar modal)[2342] terhadap (PDB)[2343] ini menunjukkan (trend)[2344] naik dibanding pada (akhir 2006)[2345] yang (hanya sebesar 37,4 persen)[2346] dari (PDB)[2347] dengan kapitalisasi (Rp 1.250 triliun.)[2348] (Peningkatan ini)[2349] juga ditunjukkan dari naiknya (Indeks Harga Saham Gabungan)[2350] (IHSG)[2351] (Bursa Efek Jakarta)[2352] (BEJ)[2353] yang pada (akhir 2006)[2354] telah menyentuh (level 1.805,)[2355] hingga (kuartal pertama 2007)[2356] ini telah berhasil ke (level)[2357] di (atas 2.000.)[2358] Dari (sisi transaksi)[2359] juga menunjukkan (peningkatan)[2360] pada (saat ini)[2361] rata-rata di atas (Rp 3 triliun)[2362] per (hari)[2363] dibanding pada (akhir 2006)[2364] yang rata-rata (senilai Rp 1,48 triliun)[2365] per (hari.)[2366] (Mulyani)[2367] berharap, dengan diadakannya (Indonesia Investor Forum)[2368] II dapat dijadikan sebagai (sosialisasi dan edukasi)[2369] kepada (masyarakat)[2370] tentang (pasar modal.)[2371] Dengan adanya (sosialisasi dan edukasi)[2372] ini diharapkan (pasar modal)[2373] dapat terus berkembang pada (saat ini)[2374] dan masa mendatang serta mampu mendukung pembangunan ekonomi yang kuat dan berkelanjutan, harap (Mulyani.)[2375] \n"
     ]
    },
    {
     "data": {
      "text/html": [
       "<table>\n",
       "<tbody>\n",
       "<tr><td>[2330, 2337, 2367, 2375]<br />[2333, 2343, 2347]<br /></td><td>[2330, 2337, 2367]<br />[2339, 2368]<br /></td><td>[2330, 2337, 2367, 2375]<br /></td><td>[2330, 2337, 2375]<br /></td><td>[2330, 2337, 2367, 2375]<br /></td></tr>\n",
       "</tbody>\n",
       "</table>"
      ],
      "text/plain": [
       "<IPython.core.display.HTML object>"
      ]
     },
     "metadata": {},
     "output_type": "display_data"
    },
    {
     "name": "stdout",
     "output_type": "stream",
     "text": [
      "\n",
      "(Perolehan laba bersih)[2376] (PT Astra Agro Lestari Tbk)[2377] (AALI)[2378] sampai (kuartal pertama 2007)[2379] naik (47,6 persen)[2380] menjadi (Rp 266,8 miliar)[2381] dibanding (periode yang sama)[2382] tahun sebelum (nya.)[2383] (Kenaikan laba bersih ini)[2384] dipicu oleh (naiknya penjualan)[2385] (sebesar 16,4 persen)[2386] menjadi (Rp 1 triliun.)[2387] (Hal ini)[2388] disebabkan (naiknya harga jual rata-rata)[2389] di (semua komoditi)[2390] terutama harga (minyak sawit mentah)[2391] (CPO,)[2392] kata (Direktur AALI,)[2393] (Santosa)[2394] dalam (keterbukaan informasi)[2395] kepada (Bursa Efek Jakarta)[2396] (BEJ,)[2397] (Selasa.)[2398] Menurut (nya)[2399] harga (CPO)[2400] naik tajam menjadi (Rp 4.591)[2401] per (kilogram)[2402] atau naik (37,5 persen)[2403] dibanding (periode sama)[2404] sebelum (nya)[2405] (Rp 3.340)[2406] per (kilogram.)[2407] Sampai dengan (April 2007)[2408] (volume penjualan)[2409] AALI turun (sebesar 9,6 persen)[2410] menjadi (263.956 ton)[2411] dibanding (periode sama)[2412] sebelum (nya)[2413] (290.956 ton.)[2414] Namun di (sisi harga,)[2415] kenaikan harga (CPO)[2416] dunia yang cukup tinggi menyebabkan (harga jual rata-rata)[2417] (CPO)[2418] dan (kernel)[2419] AALI meningkat (masing-masing)[2420] (sebesar 43 persen)[2421] dan (22,9 persen.)[2422] \n"
     ]
    },
    {
     "data": {
      "text/html": [
       "<table>\n",
       "<tbody>\n",
       "<tr><td>[2393, 2394, 2399]<br /></td><td>[2393, 2394, 2399, 2405]<br /></td><td>[2393, 2394, 2399]<br /></td><td>[2393, 2394, 2399]<br /></td><td>[2393, 2394, 2399]<br /></td></tr>\n",
       "</tbody>\n",
       "</table>"
      ],
      "text/plain": [
       "<IPython.core.display.HTML object>"
      ]
     },
     "metadata": {},
     "output_type": "display_data"
    },
    {
     "name": "stdout",
     "output_type": "stream",
     "text": [
      "\n",
      "(Deputi Senior)[2423] (Bank Indonesia)[2424] (BI)[2425] (Miranda S. Goeltom)[2426] memprediksi pertumbuhan ekspor non - (migas)[2427] (minyak dan gas)[2428] pada (tahun ini)[2429] (sebesar sembilan persen.)[2430] Dalam acara (Seminar Nasional)[2431] (Peran Diplomasi Ekonomi)[2432] dalam Mendorong (Pertumbuhan Ekspor)[2433] di (Jakarta,)[2434] (Selasa,)[2435] (Miranda)[2436] mengatakan, kecilnya pertumbuhan ekspor (non migas)[2437] ini karena (neraca pembayaran 2007)[2438] akan menghadapi melemahnya (pertumbuhan ekonomi global)[2439] dan anjloknya (harga ekspor komoditi.)[2440] Impor (non - migas)[2441] diprediksi tumbuh (14,5 persen)[2442] pada (tahun ini.)[2443] (Hal ini)[2444] berbeda dengan (tahun 2006)[2445] yang mencatat (surplus perdagangan)[2446] (senilai 15 juta dolar AS)[2447] yang merupakan (rekor tertinggi)[2448] selama (ini.)[2449] (Miranda)[2450] menyoroti peran ekspor (non - migas)[2451] ini, karena (ekspor)[2452] sebagai (mesin utama)[2453] (penggerak pertumbuhan ekonomi.)[2454] (Pertumbuhan ekonomi Indonesia)[2455] (saat ini)[2456] masih didorong oleh (sektor konsumsi,)[2457] sementara dari (sisi investasi)[2458] masih rendah, walaupun ada (prospek positif.)[2459] (Kami)[2460] mengakui bahwa (pentingnya ekspor)[2461] memegang peranan penting sebagai (pendorong pertumbuhan ekonomi)[2462] dan (pendapatan cadangan devisa,)[2463] tambah (nya.)[2464] Untuk meningkatkan (ekspor ini)[2465] ,kata (nya,)[2466] perlu (adanya regulasi)[2467] untuk meningkatkan dan dapat menghilangkan hambatan (ekspor.)[2468] \n"
     ]
    },
    {
     "data": {
      "text/html": [
       "<table>\n",
       "<tbody>\n",
       "<tr><td>[2426, 2436, 2450, 2464, 2466]<br /></td><td>[2423, 2424, 2426, 2436, 2450, 2460, 2466]<br /></td><td>[2423, 2426, 2436, 2450]<br /></td><td>[2423, 2426, 2436, 2450]<br /></td><td>[2426, 2436, 2450]<br /></td></tr>\n",
       "</tbody>\n",
       "</table>"
      ],
      "text/plain": [
       "<IPython.core.display.HTML object>"
      ]
     },
     "metadata": {},
     "output_type": "display_data"
    },
    {
     "name": "stdout",
     "output_type": "stream",
     "text": [
      "\n",
      "(Deputi Gubernur Senior BI,)[2469] (Miranda S. Goeltom)[2470] mengatakan, (pertumbuhan ekonomi Indonesia)[2471] yang paling optimistik pada (2007)[2472] adalah (6,2 persen,)[2473] meski (pemerintah)[2474] tetap mengajukan angka (6,3 persen)[2475] pada (rancangan APBN Perubahan)[2476] 2007. Dalam Rapat Kerja (Komisi XI DPR)[2477] di (Jakarta,)[2478] (Selasa,)[2479] (Miranda)[2480] mengatakan, (pemerintah)[2481] harus menganalisis (sumber-sumber pertumbuhan ekonomi)[2482] pada (triwulan I)[2483] hingga mencapai (5,97 persen,)[2484] apakah (sumber-sumber pertumbuhan tersebut)[2485] mempunyai (multiplier effect)[2486] yang besar atau tidak, serta apakah memiliki (trend)[2487] meningkat atau tidak. Namun ,tambah (nya,)[2488] (itung-itungan BI)[2489] masih bisa berubah dengan melihat (angka perkembangan)[2490] dari (triwulan)[2491] ke (triwulan.)[2492] Sementara untuk (2008,)[2493] (BI)[2494] memperkirakan (pertumbuhan ekonomi Indonesia)[2495] mencapai (6,2 - 6,8 persen)[2496] dengan inflasi (5 plus minus 1 persen,)[2497] (rata-rata suku bunga)[2498] SBI (3 bulan)[2499] (7,5 - 8,0 persen,)[2500] (rata-rata kurs)[2501] (Rp 9.000 - 9.300)[2502] per (dolar AS,)[2503] (harga minyak)[2504] (56 dolar AS)[2505] per (barel)[2506] dan (lifting)[2507] minyak (1,034 - 1,040 juta barel)[2508] per (hari.)[2509] \n"
     ]
    },
    {
     "data": {
      "text/html": [
       "<table>\n",
       "<tbody>\n",
       "<tr><td>[2469, 2470, 2480, 2488]<br /></td><td>[2469, 2470, 2480]<br />[2471, 2495]<br /></td><td>[2469, 2470, 2480, 2488, 2489]<br /></td><td>[2469, 2470, 2480, 2488, 2489]<br /></td><td>[2469, 2470, 2480, 2488]<br /></td></tr>\n",
       "</tbody>\n",
       "</table>"
      ],
      "text/plain": [
       "<IPython.core.display.HTML object>"
      ]
     },
     "metadata": {},
     "output_type": "display_data"
    },
    {
     "name": "stdout",
     "output_type": "stream",
     "text": [
      "\n",
      "(Bank Mandiri)[2510] menyiapkan anggaran untuk belanja (teknologi informasi)[2511] (TI)[2512] (sebesar 35 juta dolar AS)[2513] pada (2008,)[2514] guna (pemeliharaan dan penambahan)[2515] (kapasitas teknologi informasi)[2516] (nya.)[2517] (Ini)[2518] ada dalam (draft)[2519] (kami,)[2520] tapi pasti (nya)[2521] bisa saja bertambah, karena (situasi yang khusus)[2522] di mana membutuhkan belanja (teknologi yang baru,)[2523] kata (Direktur Teknologi dan Operasional Bank Mandiri,)[2524] (Sasmita)[2525] di (Jakarta,)[2526] (Jumat.)[2527] Menurut (dia,)[2528] (investasi TI)[2529] (Bank Mandiri)[2530] dimulai sejak (tahun 2000,)[2531] dengan dana yang dipersiapkan (sebesar 200 juta dolar.)[2532] Namun (dana tersebut)[2533] baru terpakai (168 juta dolar AS.)[2534] (Ia)[2535] mengatakan, (belanja TI)[2536] sejak (tahun 2004)[2537] hingga (2007,)[2538] (rata-rata)[2539] per (tahun)[2540] mencapai (30 - 35 juta dolar AS.)[2541] Dan (Tahun 2008)[2542] dalam rencana (kita)[2543] meski bisa berubah masih sekitar (itu,)[2544] kata (nya.)[2545] (Bank Mandiri)[2546] (saat ini)[2547] mampu mengurangi (biaya TI)[2548] (hingga 5 - 10 persen)[2549] per (tahun,)[2550] karena semakin kuat (nya)[2551] kapasitas terpasang. Sebelum (nya,)[2552] pada (2007)[2553] pihak (nya)[2554] menambah (400 unit)[2555] (ATM)[2556] dari jumlah yang ada (saat ini,)[2557] (2650 unit)[2558] di (seluruh Indonesia)[2559] serta menambah menjadi (25.000 unit)[2560] (EDC)[2561] dari (21.500)[2562] (EDC)[2563] yang ada (saat ini.)[2564] \n"
     ]
    },
    {
     "data": {
      "text/html": [
       "<table>\n",
       "<tbody>\n",
       "<tr><td>[2510, 2517, 2520, 2530, 2546, 2554]<br />[2524, 2525, 2528, 2535, 2545]<br /></td><td>[2510, 2530, 2546]<br />[2517, 2524, 2525, 2528, 2535, 2543, 2545]<br /></td><td>[2510, 2512, 2517, 2520, 2521, 2524, 2525, 2528, 2530, 2535, 2543, 2545, 2546, 2551]<br /></td><td>[2510, 2524, 2525, 2528, 2530, 2535, 2545, 2546]<br /></td><td>[2510, 2517, 2520, 2524, 2525, 2528, 2530, 2535, 2545, 2546]<br /></td></tr>\n",
       "</tbody>\n",
       "</table>"
      ],
      "text/plain": [
       "<IPython.core.display.HTML object>"
      ]
     },
     "metadata": {},
     "output_type": "display_data"
    },
    {
     "name": "stdout",
     "output_type": "stream",
     "text": [
      "\n",
      "(Menteri Keuangan Sri Mulyani Indrawati)[2565] memperkirakan defisit (APBNP 2007)[2566] menurun dari (Rp 58,3 triliun)[2567] atau (1,5 persen)[2568] menjadi (Rp 49,5 triliun)[2569] atau (1,3 persen PDB)[2570] meski terjadi peningkatan subsidi (BBM dan listrik)[2571] akibat kenaikan (harga minyak dunia.)[2572] (APBNP 2007)[2573] akan ditutup dengan (defisit)[2574] (sebesar Rp 49,5 triliun)[2575] atau lebih kecil dari sasaran (Rp 58,3 triliun,)[2576] kata (Menkeu)[2577] dalam (jumpa pers)[2578] usai (sidang kabinet paripurna)[2579] di (Kantor Presiden)[2580] (Jakarta,)[2581] (Selasa.)[2582] Dijelaskan (Menkeu,)[2583] (penurunan defisit ini)[2584] terjadi karena meski ada (peningkatan belanja negara)[2585] dan (penerimaan yang lebih kecil,)[2586] (pemerintah)[2587] berhasil melakukan (penghematan)[2588] pada (belanja kementerian)[2589] (sebesar Rp 24,9 triliun.)[2590] (Penerimaan negara)[2591] ,lanjut (nya)[2592] meningkat dari (Rp 690 triliun)[2593] menjadi (Rp 724,5 triliun,)[2594] sementara (belanja negara)[2595] meningkat menjadi (Rp 774 triliun,)[2596] akibat (kenaikan subsidi BBM)[2597] yang membengkak dari (Rp 55 triliun)[2598] menjadi (Rp 88,2 triliun)[2599] dan (subsidi listrik)[2600] yang melejit dari (Rp 32,4 triliun)[2601] menjadi (Rp 43,5 triliun.)[2602] Sementara (Menko Perekonomian Boediono)[2603] di (tempat yang sama)[2604] mengatakan secara umum (APBNP 2007)[2605] aman, meskipun terjadi kenaikan (harga minyak dunia.)[2606] Sedangkan untuk (tahun 2008,)[2607] (pemerintah)[2608] telah menyiapkan (perubahan parameter)[2609] yang mungkin terjadi dengan membuat (beberapa perhitungan)[2610] (harga minyak,)[2611] (konsumsi minyak,)[2612] (produksi minyak)[2613] dan (nilai tukar rupiah.)[2614] Secara umum (semua)[2615] terkendali, dengan (pemerintah)[2616] melakukan (langkah-langkah)[2617] untuk (penghematan subsidi)[2618] seperti penghematan penggunaan (BBM dan listrik,)[2619] kata (nya.)[2620] Menurut (Boediono,)[2621] (APBN 2008)[2622] akan aman jika (produksi minyak)[2623] bisa dijaga sesuai sasaran (sebesar 1.034 juta barel)[2624] per (hari)[2625] atau kalau bisa ditingkatkan. (Wapres)[2626] akan langsung mengawasi (produksi minyak)[2627] dengan membentuk (tim khusus)[2628] dari (antardepartemen,)[2629] kata (nya.)[2630] Dalam (kesempatan itu,)[2631] (Menkeu)[2632] mengatakan bahwa (Pemerintah)[2633] sudah menyiapkan perubahan (semua asumsi ekonomi)[2634] pada (APBN 2008)[2635] sebagai akibat tinggi (nya)[2636] (harga minyak dunia)[2637] yang menyentuh (100 dolar AS)[2638] per (barel.)[2639] Menurut (nya,)[2640] dengan mengasumsikan (harga minyak)[2641] akan mencapai (100 dolar AS)[2642] per (barel)[2643] (sepanjang tahun)[2644] maka defisit (APBN 2008)[2645] akan melonjak dari (Rp 73,3 triliun)[2646] atau (1,7 persen)[2647] menjadi (Rp 75,8 triliun)[2648] atau (1,8 persen)[2649] dari (PDB.)[2650] \n"
     ]
    },
    {
     "data": {
      "text/html": [
       "<table>\n",
       "<tbody>\n",
       "<tr><td>[2565, 2592, 2640]<br />[2603, 2620, 2621, 2630]<br /></td><td>[2592, 2603, 2620, 2621, 2630, 2640]<br />[2638, 2642]<br /></td><td>[2565, 2592, 2603, 2620, 2621, 2630, 2640]<br /></td><td>[2565, 2592, 2603, 2620, 2621, 2630, 2640]<br /></td><td>[2565, 2592, 2603, 2620, 2621, 2630, 2640]<br /></td></tr>\n",
       "</tbody>\n",
       "</table>"
      ],
      "text/plain": [
       "<IPython.core.display.HTML object>"
      ]
     },
     "metadata": {},
     "output_type": "display_data"
    },
    {
     "name": "stdout",
     "output_type": "stream",
     "text": [
      "\n",
      "(Pemeringkat Efek Indonesia)[2651] (Pefindo)[2652] memberikan peringkat (idBBB +)[2653] untuk (PT Truba Jaya Engineering)[2654] (TRJE)[2655] dan (rencana penerbitan)[2656] (Obligasi I/ 2007)[2657] berjangka (waktu)[2658] (2,5 tahun)[2659] (sebesar maksimum Rp 300 miliar)[2660] dengan (prospek stabil.)[2661] (Peringkat tersebut)[2662] mencerminkan berkembangnya (permintaan)[2663] untuk (usaha konstruksi)[2664] dan (posisi usaha perusahaan)[2665] yang kuat dalam bisnis pembangunan (pembangkit listrik)[2666] dan (pabrik industri,)[2667] kata (analis Pefindo Ronald Hertanto,)[2668] dalam sebuah pernyataan (nya)[2669] di (Jakarta,)[2670] (Rabu.)[2671] Namun ,kata (dia,)[2672] (peringkat tersebut)[2673] dibatasi oleh rata-rata (stabilitas bisnis perusahaan)[2674] dan (kebutuhan modal kerja besar)[2675] pada waktu mendatang yang dapat mendorong melemahnya (profil keuangan perusahaan.)[2676] (TRJE)[2677] adalah (sebuah perusahaan)[2678] yang bergerak di (bidang usaha)[2679] (penyediaan manajemen proyek,)[2680] (rancang bangun,)[2681] (pengadaan,)[2682] (pembuatan pabrikasi)[2683] dan pembangunan (industri,)[2684] (pembangkit listrik,)[2685] pabrik (minyak dan gas,)[2686] (pabrik pertambangan)[2687] dan (pabrik pupuk.)[2688] TRJE didirikan pada (1976)[2689] merupakan sebuah perusahaan patungan antara (Jurong Engineering Limited of Singapore)[2690] (JEL)[2691] dan (PT Tri Usaha Bhakti.)[2692] (TRJE)[2693] sebelum (nya)[2694] dikenal sebagai (PT Truba Jurong Engineering.)[2695] Efektif sejak (Agustus 2007,)[2696] (TRJE)[2697] berubah (nama)[2698] menjadi (PT Truba Jaya Engineering,)[2699] setelah (PT Manunggal Infrasolusi)[2700] mengakuisisi (45 persen saham)[2701] (nya)[2702] dari (JEL.)[2703] (PT Manunggal Infrasolusi,)[2704] (sebuah perusahaan)[2705] yang dikuasai oleh (PT Truba Alam Manunggal Engineering Tbk)[2706] (TRBA,)[2707] yang merupakan (pemilik utama)[2708] TRJE dengan (total kepemilikan saham)[2709] (96 persen.)[2710] Sisa (nya,)[2711] dimiliki oleh (PT Multi Energi Persada)[2712] (2,3 persen)[2713] dan (PT Kurnia Unggul Sejahtera)[2714] (1,7 persen.)[2715] \n"
     ]
    },
    {
     "data": {
      "text/html": [
       "<table>\n",
       "<tbody>\n",
       "<tr><td>[2655, 2677, 2693, 2697]<br />[2668, 2669, 2672]<br />[2691, 2703]<br /></td><td>[2652, 2655, 2668, 2669, 2672, 2677, 2693, 2697, 2702]<br />[2690, 2691]<br /></td><td>[2652, 2668, 2669, 2672]<br />[2655, 2677, 2692, 2693, 2697]<br /></td><td>[2652, 2668, 2669, 2672]<br />[2693, 2697]<br /></td><td>[2655, 2677, 2693, 2697]<br />[2668, 2669, 2672]<br /></td></tr>\n",
       "</tbody>\n",
       "</table>"
      ],
      "text/plain": [
       "<IPython.core.display.HTML object>"
      ]
     },
     "metadata": {},
     "output_type": "display_data"
    },
    {
     "name": "stdout",
     "output_type": "stream",
     "text": [
      "\n",
      "(Indonesia)[2716] meminta perpanjangan masa pinjaman (Bank Pembangunan Asia)[2717] (ADB)[2718] untuk (sejumlah proyek PLTA)[2719] dengan (nilai total)[2720] (sekitar 7,5 juta dolar AS)[2721] yang seharusnya berakhir pada (2008)[2722] menjadi (2011)[2723] karena adanya (beberapa keterlambatan.)[2724] (ADB)[2725] (sendiri)[2726] mempertimbangkan untuk menyetujui (nya)[2727] karena (ini)[2728] menggunakan (' renewable energy ')[2729] dan juga digunakan sebagai (bagian)[2730] dari (clean development mechanism)[2731] (CDM,)[2732] kata (Direktur Pendanaan Luar Negeri Multilateral Bappenas,)[2733] (RM Dewo Broto Joko P.)[2734] di ruang kerja (nya)[2735] di (Gedung Bappenas Jakarta,)[2736] (akhir pekan ini.)[2737] Ditambahkan (nya,)[2738] perpanjangan proyek (Renewable Energy Development)[2739] (RED)[2740] itu dikarenakan adanya keterlambatan yang tidak mungkin diselesaikan dalam (waktu singkat.)[2741] Seperti di (PLTA Poigar)[2742] di (Sulawesi utara)[2743] ,tambah (nya,)[2744] (keterlambatan)[2745] disebabkan belum selesainya (Land Aquisition and Resettlement Plan)[2746] (LARP)[2747] dan belum adanya persetujuan (penggunaan lahan hutan)[2748] dari (Menhut)[2749] Di (PLTA Genyem,)[2750] (Papua)[2751] ,tambah (nya)[2752] (keterlambatan)[2753] disebabkan karena (Pemda Papua)[2754] meminta adanya (porsi kepemilikan saham)[2755] dalam (PLTA tersebut)[2756] dan (hal itu)[2757] belum disepakati. Di (luar itu,)[2758] masih proyek PLTA lain (nya)[2759] yang dibiayai (ADB)[2760] yaitu berada di (Kalimantan Barat,)[2761] (Gorontalo,)[2762] (Lombok,)[2763] dan (Flores)[2764] yang (kita)[2765] mintakan perpanjangan (nya,)[2766] kata (Dewo.)[2767] \n"
     ]
    },
    {
     "data": {
      "text/html": [
       "<table>\n",
       "<tbody>\n",
       "<tr><td>[2718, 2725, 2760]<br />[2733, 2734, 2735, 2738, 2744, 2752, 2767]<br /></td><td>[2718, 2725, 2726, 2727, 2733, 2734, 2735, 2738, 2744, 2750, 2751, 2752, 2759, 2760, 2762, 2765, 2766, 2767]<br /></td><td>[2718, 2725, 2760]<br />[2734, 2738, 2744, 2750, 2752, 2759, 2766, 2767]<br /></td><td>[2718, 2725, 2760]<br />[2738, 2744, 2752, 2767]<br /></td><td>[2718, 2725, 2760]<br />[2734, 2738, 2744, 2752, 2767]<br /></td></tr>\n",
       "</tbody>\n",
       "</table>"
      ],
      "text/plain": [
       "<IPython.core.display.HTML object>"
      ]
     },
     "metadata": {},
     "output_type": "display_data"
    },
    {
     "name": "stdout",
     "output_type": "stream",
     "text": [
      "\n",
      "(Perusahaan perkebunan)[2768] (PT Bakrie Sumatera Plantations Tbk)[2769] (UNSP)[2770] telah melakukan pembelian (sebanyak 2.700 saham)[2771] dengan nilai nominal (Rp 1.000)[2772] per (saham)[2773] di (PT Nibung Arthamulia)[2774] yang berkedudukan di (Palembang.)[2775] (Sekretaris Perusahaan Bakrie Sumatera Plantations Tbk,)[2776] (Fitri Barnas,)[2777] dalam laporan (nya)[2778] kepada (Ketua Bapepam - LK)[2779] di (Jakarta,)[2780] (Selasa,)[2781] mengatakan (transaksi tersebut)[2782] tidak mengandung (unsur benturan kepentingan)[2783] dan bukan merupakan transaksi yang bersifat (material)[2784] sebagaimana diatur dalam (ketentuan Bapepam.)[2785] Namun (ia)[2786] tidak menyebutkan (nilai transaksi)[2787] dan (porsi kepemilikan saham)[2788] pada (PT Nibung Arthamulia)[2789] tersebut. \n"
     ]
    },
    {
     "data": {
      "text/html": [
       "<table>\n",
       "<tbody>\n",
       "<tr><td>[2774, 2789]<br />[2776, 2777, 2778, 2786]<br /></td><td>[2776, 2777, 2778, 2786]<br />[2774, 2789]<br /></td><td>[2774, 2789]<br />[2777, 2778, 2779, 2786]<br /></td><td>[2777, 2778, 2786]<br /></td><td>[2774, 2789]<br />[2777, 2778, 2786]<br /></td></tr>\n",
       "</tbody>\n",
       "</table>"
      ],
      "text/plain": [
       "<IPython.core.display.HTML object>"
      ]
     },
     "metadata": {},
     "output_type": "display_data"
    },
    {
     "name": "stdout",
     "output_type": "stream",
     "text": [
      "\n",
      "Saham (PT Perusahaan Gas Negara Persero Tbk)[2790] (PGAS)[2791] langsung melejit naik setelah (suspensi)[2792] (penghentian sementara)[2793] dicabut (Bursa Efek Jakarta)[2794] (BEJ.)[2795] (Saham PGAS)[2796] yang pada penutupan sebelum (nya)[2797] ditutup pada (Rp 7.400)[2798] langsung mengalami kenaikan (Rp 850)[2799] atau (11,49 persen)[2800] menjadi (Rp 8.250)[2801] pada (waktu 9.48)[2802] (waktu JATS.)[2803] (Frekuensi perdagangan)[2804] mencapai (2.343 kali)[2805] dengan volume (52,033 juta lembar)[2806] dan nilai (Rp 424,222 miliar.)[2807] (Pencabutan suspensi ini)[2808] setelah (pihak manajemen)[2809] PGAS melakukan (penjelasan)[2810] kepada (publik)[2811] dan (otoritas bursa)[2812] mengenai penurunan harga saham (nya)[2813] yang mencapai (23,32 persen.)[2814] \n"
     ]
    },
    {
     "data": {
      "text/html": [
       "<table>\n",
       "<tbody>\n",
       "<tr><td></td><td>[2791, 2796, 2797]<br /></td><td></td><td></td><td></td></tr>\n",
       "</tbody>\n",
       "</table>"
      ],
      "text/plain": [
       "<IPython.core.display.HTML object>"
      ]
     },
     "metadata": {},
     "output_type": "display_data"
    },
    {
     "name": "stdout",
     "output_type": "stream",
     "text": [
      "\n",
      "(Dirjen Bea dan Cukai Departemen Keuangan Anwar Suprijadi)[2815] menyatakan, tanpa adanya kenaikan (harga jual eceran)[2816] (HJE)[2817] (rokok)[2818] dan (pengenaan tarif cukai)[2819] spesifik pada (2007)[2820] ini maka (target penerimaan cukai)[2821] (APBN 2007)[2822] (sebesar Rp 42,03 triliun)[2823] tidak akan tercapai. Dengan (jumlah produksi)[2824] yang ada (sekarang)[2825] dan tanpa (kenaikan HJE)[2826] dan (penerapan cukai spesifik)[2827] maka (penerimaan negara)[2828] dari (cukai)[2829] tidak bisa mencapai (Rp 42,03 triliun.)[2830] Tanpa (kenaikan HJE)[2831] (penerimaan negara)[2832] (hanya Rp 39 hingga Rp 40 triliun,)[2833] kata (Anwar Suprijadi)[2834] di (Kantor Pusat Ditjen Bea dan Cukai Rawamangun Jakarta,)[2835] (Selasa.)[2836] Lebih lanjut (Anwar)[2837] menjelaskan bahwa (penerapan tarif spesifik)[2838] yaitu (tarif cukai)[2839] untuk per (batang rokok)[2840] ditujukan untuk mengurangi (gap atau ketimpangan)[2841] (golongan tarif cukai)[2842] yang ada (saat ini.)[2843] Ketimpangan (tarif cukai)[2844] antar (golongan rokok)[2845] itu menyebabkan (perusahaan rokok)[2846] cenderung untuk masuk ke golongan yang tarif cukai (nya)[2847] rendah. Sehingga (kita)[2848] mengenalkan (tarif cukai spesifik.)[2849] (Pemerintah)[2850] dan (DPR)[2851] dalam (APBN 2006)[2852] menargetkan (penerimaan cukai)[2853] (sebesar Rp 38,5 triliun)[2854] dan tercapai (sekitar Rp 37,9 triliun.)[2855] Dalam (APBN 2007,)[2856] (DPR)[2857] dan (pemerintah)[2858] meningkatkan (penerimaan cukai)[2859] menjadi (Rp 42,03 triliun)[2860] karena adanya (peningkatan kebutuhan pendanaan.)[2861] Karena adanya peningkatan (kebutuhan pendanaan)[2862] seperti untuk (infrastruktur,)[2863] (pendidikan)[2864] dan lain (nya,)[2865] maka (DPR)[2866] meningkatkan (target penerimaan)[2867] menjadi (Rp 42,03 triliun,)[2868] kata (nya.)[2869] Menurut (dia,)[2870] kebijakan untuk menaikkan (HJE rokok)[2871] dan penerapan (tarif cukai spesifik)[2872] bukan lah merupakan keputusan yang dilakukan secara mendadak. (Keputusan ini)[2873] diambil sejak dari (awal)[2874] supaya ada (kepastian hukum)[2875] bagi (pelaku usaha,)[2876] (ini pun)[2877] tidak mendadak karena (kita)[2878] sudah memberikan (sinyal)[2879] sejak (awal,)[2880] kata (nya.)[2881] (Ia)[2882] menyebutkan, (pemerintah)[2883] merencanakan (kenaikan HJE rokok)[2884] mulai (Maret 2007)[2885] sementara penerapan (cukai spesifik rokok)[2886] akan mulai diberlakukan pada (Juni 2007.)[2887] \n"
     ]
    },
    {
     "data": {
      "text/html": [
       "<table>\n",
       "<tbody>\n",
       "<tr><td>[2815, 2834, 2837, 2869, 2870, 2881, 2882]<br />[2857, 2866]<br /></td><td>[2815, 2834, 2837, 2847, 2848]<br />[2857, 2866, 2869, 2870, 2881, 2882]<br /></td><td>[2837, 2869, 2870, 2881, 2882]<br /></td><td>[2837, 2869, 2870, 2881, 2882]<br /></td><td>[2837, 2869, 2870, 2881, 2882]<br /></td></tr>\n",
       "</tbody>\n",
       "</table>"
      ],
      "text/plain": [
       "<IPython.core.display.HTML object>"
      ]
     },
     "metadata": {},
     "output_type": "display_data"
    },
    {
     "name": "stdout",
     "output_type": "stream",
     "text": [
      "\n",
      "(Lembaga pemeringkat internasional Fitch Ratings,)[2888] (Senin,)[2889] merevisi (outlook)[2890] (prospek)[2891] atas peringkat (mata uang asing)[2892] dan (mata uang lokal)[2893] dari (Indonesia,)[2894] yang disebut (Issuer Default Ratings)[2895] (IDRs)[2896] menjadi positif dari stabil, walaupun tetap mempertahankan (kedua peringkat tersebut)[2897] pada (' BB- ')[2898] (BB minus.)[2899] (Demikian pula)[2900] pada (saat yang sama,)[2901] (Fitch)[2902] mempertahankan (peringkat mata uang)[2903] (rupiah)[2904] (IDR)[2905] (jangka pendek)[2906] Indonesia pada (' B ')[2907] dan (batas negara)[2908] (Country Ceiling)[2909] pada (' BB '.)[2910] (Revisi)[2911] atas (' outlook ')[2912] peringkat (Sovereign)[2913] Indonesia mencerminkan (komitmen otoritas)[2914] untuk menjaga (stabilitas ekonomi)[2915] dan (disiplin fiskal,)[2916] serta (kebijakan menyeluruh pemerintah)[2917] untuk melaksanakan (agenda reformasi struktural)[2918] yang bertujuan untuk memperbaiki (iklim investasi,)[2919] kata (Ai Ling Ngiam,)[2920] (Direktur)[2921] pada (Tim Sovereign Ratings Fitch)[2922] di (Singapura)[2923] dalam (statemen)[2924] (nya.)[2925] Menurut lembaga (rating)[2926] internasional itu, (upaya pemerintah)[2927] untuk mengatasi (kekhawatiran investor)[2928] terhadap (korupsi,)[2929] (birokrasi)[2930] dan (hambatan regulasi)[2931] terutama di bidang (perpajakan dan cukai)[2932] tampak secara perlahan mulai membuahkan (hasil.)[2933] Budaya takut untuk melakukan (korupsi)[2934] secara terbuka telah muncul seraya (investigasi-investigasi antikorupsi)[2935] mengarah ke (beberapa tuntutan hukum)[2936] yang berprofil tinggi, (pemulihan aset)[2937] dan (peningkatan pengaduan)[2938] melalui (program pengaduan.)[2939] Sementara (sistem pengadaan)[2940] dengan tender terbuka elektronis telah memperbaiki (transparansi.)[2941] (Indonesia)[2942] juga telah memperbaiki peringkat (nya)[2943] di (Indeks Daya Saing Global)[2944] dari (World Economic Forum,)[2945] naik menjadi (50)[2946] pada (2006)[2947] dari (69)[2948] pada (2005,)[2949] kata (nya.)[2950] Disebutkan (nya,)[2951] (keuangan publik)[2952] dan (perbaikan pengawasan)[2953] atas (risiko fiskal)[2954] secara luas adalah (kekuatan fundamental peringkat)[2955] Indonesia. (Fitch)[2956] memproyeksikan (defisit anggaran)[2957] akan dapat dipertahankan di (1,1 persen)[2958] dari PDB (tahun ini,)[2959] sementara (rasio utang pemerintah)[2960] terhadap (PDB)[2961] akan turun ke (sekitar 38 persen)[2962] (tahun ini,)[2963] (suatu tingkat)[2964] yang terakhir tercapai hanya pada (tahun 1997)[2965] dan lebih baik dari median (41 persen)[2966] untuk kategori peringkat (' BB '.)[2967] Namun, (rasio utang)[2968] terhadap (pendapatan)[2969] (sebesar 212 persen)[2970] pada (2006)[2971] tidak sebaik median (' BB ')[2972] (sebesar 162 persen)[2973] dan (upaya pajak)[2974] lebih lanjut diperlukan untuk meningkatkan (pendapatan.)[2975] Dikatakan (nya,)[2976] upaya (reprofil utang dalam negeri)[2977] telah berhasil menurunkan risiko (penumpukan pembayaran utang)[2978] pada (periode 2007 - 2009)[2979] dengan mengganti (obligasi-obligasi ini)[2980] menjadi (obligasi-obligasi)[2981] dengan (jangka waktu)[2982] yang lebih panjang yang jatuh tempo pada (2010 dan 2025.)[2983] Pada (sisi eksternal,)[2984] (peningkatan yang besar)[2985] pada (cadangan devisa)[2986] terutama karena (kenaikan harga komoditas,)[2987] (tekanan)[2988] pada (impor)[2989] oleh (sektor manufaktur)[2990] yang lebih tinggi dari (perkiraan)[2991] dan (masuknya dana portofolio)[2992] telah menyediakan (bantalan peredam)[2993] untuk menghadapi (kejutan-kejutan sistemik.)[2994] (Kebutuhan pendanaan bruto)[2995] Indonesia termasuk (utang jangka pendek)[2996] diperkirakan akan turun ke (sekitar 66 persen)[2997] dari (cadangan resmi,)[2998] (selaras)[2999] dengan median (' BB '.)[3000] Namun risiko (neraca eksternal Indonesia)[3001] tetap ada, karena (peningkatan penghindaran risiko)[3002] pada pasar berkembang (emerging market)[3003] dapat mengakibatkan arus keluar investasi portofolio (ekuitas dan utang)[3004] yang disruptif, sementara akumulasi (asset)[3005] eksternal (pribadi)[3006] oleh (residen)[3007] juga membebani (neraca pembayaran.)[3008] Lebih jauh, pada sisi neraca transaksi berjalan, tingkat impor (manufaktur dan konsumen)[3009] yang lebih tinggi yang terjadi karena (pemulihan)[3010] dalam pertumbuhan (PDB riil)[3011] ke (sekitar 5,9 persen)[3012] (tahun ini)[3013] dari (5,6 persen)[3014] pada (2006)[3015] akan mengakibatkan (tekanan)[3016] karena (permintaan)[3017] atas (dollar.)[3018] Fasilitasi (perdagangan)[3019] melalui penciptaan (Zona Ekonomi Khusus,)[3020] upaya untuk mengadakan (Perjanjian Kemitraan Ekonomi)[3021] (Economic Partnership Agreement)[3022] dengan (tujuan ekspor terbesar)[3023] (Jepang)[3024] dan pelaksanaan skema (Satu Jendela Nasional)[3025] (National Single Window)[3026] untuk (pedagang)[3027] pada (2008)[3028] adalah vital untuk meningkatkan (pendapatan eksternal)[3029] Indonesia (CXR.)[3030] Dibandingkan median (' BB ')[3031] (Indonesia)[3032] lemah di rasio-rasio (utang eksternal bruto,)[3033] (pembayaran utang eksternal)[3034] dan (pembayaran bunga.)[3035] Melihat ke depan, (Fitch)[3036] berpendapat bahwa (kekuatan posisi eksternal)[3037] akan membutuhkan percepatan upaya untuk membangun (pemasukan modal)[3038] yang lebih berkesinambungan dalam bentuk (penanaman modal asing langsung)[3039] (PMA,)[3040] yang merupakan (alternatif yang lebih baik)[3041] dibandingkan (arus portofolio)[3042] yang berpotensi tidak stabil. (Kekuatan kompetitif)[3043] Indonesia juga perlu diperkuat dalam (jangka pendek)[3044] dengan perasaan mendesak yang lebih tinggi untuk memperbaiki (profil risiko kredit)[3045] Indonesia. \n"
     ]
    },
    {
     "data": {
      "text/html": [
       "<table>\n",
       "<tbody>\n",
       "<tr><td>[2888, 2902, 2956]<br />[2920, 2925, 2950, 2951, 2976]<br />[2942, 2943]<br /></td><td>[2888, 2902]<br />[2920, 2950]<br /></td><td>[2894, 2942]<br />[2902, 2956]<br /></td><td>[2894, 2942]<br /></td><td>[2902, 2956]<br /></td></tr>\n",
       "</tbody>\n",
       "</table>"
      ],
      "text/plain": [
       "<IPython.core.display.HTML object>"
      ]
     },
     "metadata": {},
     "output_type": "display_data"
    },
    {
     "name": "stdout",
     "output_type": "stream",
     "text": [
      "\n"
     ]
    }
   ],
   "source": [
    "chains_list = [label_chains, baseline_chains, wo_sc_chains, w_sc_chains, w_label_sc_chains]\n",
    "\n",
    "def get_printable_chains(chains):\n",
    "    printable = ''\n",
    "    \n",
    "    for chain in chains:\n",
    "        printable += str(chain)\n",
    "        printable += '<br />'\n",
    "    \n",
    "    return printable\n",
    "    \n",
    "for document_id in test_document_ids:\n",
    "    print(get_document_text(document_id))\n",
    "    \n",
    "    display(HTML(tabulate(\n",
    "        [[get_printable_chains(get_chains_by_document_id(chains, document_id)) for chains in chains_list]], tablefmt='html')))\n",
    "    \n",
    "    print()"
   ]
  },
  {
   "cell_type": "code",
   "execution_count": null,
   "metadata": {},
   "outputs": [],
   "source": []
  },
  {
   "cell_type": "code",
   "execution_count": null,
   "metadata": {},
   "outputs": [],
   "source": []
  },
  {
   "cell_type": "code",
   "execution_count": null,
   "metadata": {},
   "outputs": [],
   "source": []
  }
 ],
 "metadata": {
  "kernelspec": {
   "display_name": "Python TA",
   "language": "python",
   "name": "ta-v2"
  },
  "language_info": {
   "codemirror_mode": {
    "name": "ipython",
    "version": 3
   },
   "file_extension": ".py",
   "mimetype": "text/x-python",
   "name": "python",
   "nbconvert_exporter": "python",
   "pygments_lexer": "ipython3",
   "version": "3.6.8"
  }
 },
 "nbformat": 4,
 "nbformat_minor": 2
}
