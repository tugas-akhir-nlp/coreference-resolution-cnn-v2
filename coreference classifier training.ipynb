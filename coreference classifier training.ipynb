{
 "cells": [
  {
   "cell_type": "code",
   "execution_count": 1,
   "metadata": {},
   "outputs": [],
   "source": [
    "import pandas as pd\n",
    "import numpy as np\n",
    "from utils.data_helper import get_markable_dataframe, get_embedding_variables\n",
    "from model_builders.coreference_classifier import CoreferenceClassifierModelBuilder\n",
    "from functools import reduce\n",
    "from tensorflow.keras.utils import to_categorical\n",
    "from tensorflow.keras.preprocessing.sequence import pad_sequences"
   ]
  },
  {
   "cell_type": "code",
   "execution_count": 2,
   "metadata": {},
   "outputs": [],
   "source": [
    "embedding_indexes_file_path = 'helper_files/embedding/embedding_indexes.txt'\n",
    "indexed_embedding_file_path = 'helper_files/embedding/indexed_embedding.txt'\n",
    "\n",
    "word_vector, embedding_matrix, idx_by_word, word_by_idx = get_embedding_variables(embedding_indexes_file_path, indexed_embedding_file_path)"
   ]
  },
  {
   "cell_type": "code",
   "execution_count": 3,
   "metadata": {},
   "outputs": [
    {
     "data": {
      "text/html": [
       "<div>\n",
       "<style scoped>\n",
       "    .dataframe tbody tr th:only-of-type {\n",
       "        vertical-align: middle;\n",
       "    }\n",
       "\n",
       "    .dataframe tbody tr th {\n",
       "        vertical-align: top;\n",
       "    }\n",
       "\n",
       "    .dataframe thead th {\n",
       "        text-align: right;\n",
       "    }\n",
       "</style>\n",
       "<table border=\"1\" class=\"dataframe\">\n",
       "  <thead>\n",
       "    <tr style=\"text-align: right;\">\n",
       "      <th></th>\n",
       "      <th>id</th>\n",
       "      <th>text</th>\n",
       "      <th>is_pronoun</th>\n",
       "      <th>entity_type</th>\n",
       "      <th>is_proper_name</th>\n",
       "      <th>is_first_person</th>\n",
       "      <th>previous_words</th>\n",
       "      <th>next_words</th>\n",
       "      <th>is_singleton</th>\n",
       "    </tr>\n",
       "  </thead>\n",
       "  <tbody>\n",
       "    <tr>\n",
       "      <th>0</th>\n",
       "      <td>1</td>\n",
       "      <td>[1]</td>\n",
       "      <td>0</td>\n",
       "      <td>[0, 0, 0, 0, 0, 0, 0, 0, 0, 1]</td>\n",
       "      <td>0</td>\n",
       "      <td>0</td>\n",
       "      <td>[]</td>\n",
       "      <td>[2, 3, 4, 5, 6, 7, 8, 9, 10, 2]</td>\n",
       "      <td>[0.0, 1.0]</td>\n",
       "    </tr>\n",
       "    <tr>\n",
       "      <th>1</th>\n",
       "      <td>2</td>\n",
       "      <td>[4, 5]</td>\n",
       "      <td>0</td>\n",
       "      <td>[0, 0, 0, 1, 0, 0, 0, 0, 0, 0]</td>\n",
       "      <td>0</td>\n",
       "      <td>0</td>\n",
       "      <td>[1, 2, 3]</td>\n",
       "      <td>[6, 7, 8, 9, 10, 2, 11, 12, 13, 14]</td>\n",
       "      <td>[0.0, 1.0]</td>\n",
       "    </tr>\n",
       "    <tr>\n",
       "      <th>2</th>\n",
       "      <td>3</td>\n",
       "      <td>[6, 7, 8]</td>\n",
       "      <td>0</td>\n",
       "      <td>[1, 1, 0, 0, 0, 0, 0, 0, 0, 0]</td>\n",
       "      <td>1</td>\n",
       "      <td>0</td>\n",
       "      <td>[1, 2, 3, 4, 5]</td>\n",
       "      <td>[9, 10, 2, 11, 12, 13, 14, 15, 16, 17]</td>\n",
       "      <td>[1.0, 0.0]</td>\n",
       "    </tr>\n",
       "    <tr>\n",
       "      <th>3</th>\n",
       "      <td>4</td>\n",
       "      <td>[10]</td>\n",
       "      <td>0</td>\n",
       "      <td>[0, 0, 0, 1, 0, 0, 0, 0, 0, 0]</td>\n",
       "      <td>0</td>\n",
       "      <td>0</td>\n",
       "      <td>[1, 2, 3, 4, 5, 6, 7, 8, 9]</td>\n",
       "      <td>[2, 11, 12, 13, 14, 15, 16, 17, 18, 19]</td>\n",
       "      <td>[0.0, 1.0]</td>\n",
       "    </tr>\n",
       "    <tr>\n",
       "      <th>4</th>\n",
       "      <td>5</td>\n",
       "      <td>[12, 13]</td>\n",
       "      <td>0</td>\n",
       "      <td>[0, 0, 0, 1, 0, 0, 0, 0, 0, 0]</td>\n",
       "      <td>0</td>\n",
       "      <td>0</td>\n",
       "      <td>[3, 4, 5, 6, 7, 8, 9, 10, 2, 11]</td>\n",
       "      <td>[14, 15, 16, 17, 18, 19, 4, 5, 20, 21]</td>\n",
       "      <td>[0.0, 1.0]</td>\n",
       "    </tr>\n",
       "  </tbody>\n",
       "</table>\n",
       "</div>"
      ],
      "text/plain": [
       "   id       text  is_pronoun                     entity_type  is_proper_name  \\\n",
       "0   1        [1]           0  [0, 0, 0, 0, 0, 0, 0, 0, 0, 1]               0   \n",
       "1   2     [4, 5]           0  [0, 0, 0, 1, 0, 0, 0, 0, 0, 0]               0   \n",
       "2   3  [6, 7, 8]           0  [1, 1, 0, 0, 0, 0, 0, 0, 0, 0]               1   \n",
       "3   4       [10]           0  [0, 0, 0, 1, 0, 0, 0, 0, 0, 0]               0   \n",
       "4   5   [12, 13]           0  [0, 0, 0, 1, 0, 0, 0, 0, 0, 0]               0   \n",
       "\n",
       "   is_first_person                    previous_words  \\\n",
       "0                0                                []   \n",
       "1                0                         [1, 2, 3]   \n",
       "2                0                   [1, 2, 3, 4, 5]   \n",
       "3                0       [1, 2, 3, 4, 5, 6, 7, 8, 9]   \n",
       "4                0  [3, 4, 5, 6, 7, 8, 9, 10, 2, 11]   \n",
       "\n",
       "                                next_words is_singleton  \n",
       "0          [2, 3, 4, 5, 6, 7, 8, 9, 10, 2]   [0.0, 1.0]  \n",
       "1      [6, 7, 8, 9, 10, 2, 11, 12, 13, 14]   [0.0, 1.0]  \n",
       "2   [9, 10, 2, 11, 12, 13, 14, 15, 16, 17]   [1.0, 0.0]  \n",
       "3  [2, 11, 12, 13, 14, 15, 16, 17, 18, 19]   [0.0, 1.0]  \n",
       "4   [14, 15, 16, 17, 18, 19, 4, 5, 20, 21]   [0.0, 1.0]  "
      ]
     },
     "execution_count": 3,
     "metadata": {},
     "output_type": "execute_result"
    }
   ],
   "source": [
    "markables = get_markable_dataframe(\"data/training/markables.csv\", word_vector, idx_by_word)\n",
    "\n",
    "markables.head()"
   ]
  },
  {
   "cell_type": "code",
   "execution_count": 4,
   "metadata": {},
   "outputs": [
    {
     "data": {
      "text/html": [
       "<div>\n",
       "<style scoped>\n",
       "    .dataframe tbody tr th:only-of-type {\n",
       "        vertical-align: middle;\n",
       "    }\n",
       "\n",
       "    .dataframe tbody tr th {\n",
       "        vertical-align: top;\n",
       "    }\n",
       "\n",
       "    .dataframe thead th {\n",
       "        text-align: right;\n",
       "    }\n",
       "</style>\n",
       "<table border=\"1\" class=\"dataframe\">\n",
       "  <thead>\n",
       "    <tr style=\"text-align: right;\">\n",
       "      <th></th>\n",
       "      <th>m1_id</th>\n",
       "      <th>m2_id</th>\n",
       "      <th>is_exact_match</th>\n",
       "      <th>is_words_match</th>\n",
       "      <th>is_substring</th>\n",
       "      <th>is_abbreviation</th>\n",
       "      <th>is_appositive</th>\n",
       "      <th>is_nearest_candidate</th>\n",
       "      <th>sentence_distance</th>\n",
       "      <th>word_distance</th>\n",
       "      <th>markable_distance</th>\n",
       "      <th>is_coreference</th>\n",
       "    </tr>\n",
       "  </thead>\n",
       "  <tbody>\n",
       "    <tr>\n",
       "      <th>0</th>\n",
       "      <td>3</td>\n",
       "      <td>11</td>\n",
       "      <td>0</td>\n",
       "      <td>0</td>\n",
       "      <td>0</td>\n",
       "      <td>0</td>\n",
       "      <td>0</td>\n",
       "      <td>0</td>\n",
       "      <td>2</td>\n",
       "      <td>31</td>\n",
       "      <td>8</td>\n",
       "      <td>1</td>\n",
       "    </tr>\n",
       "    <tr>\n",
       "      <th>1</th>\n",
       "      <td>4</td>\n",
       "      <td>11</td>\n",
       "      <td>0</td>\n",
       "      <td>0</td>\n",
       "      <td>0</td>\n",
       "      <td>0</td>\n",
       "      <td>0</td>\n",
       "      <td>0</td>\n",
       "      <td>2</td>\n",
       "      <td>29</td>\n",
       "      <td>7</td>\n",
       "      <td>0</td>\n",
       "    </tr>\n",
       "    <tr>\n",
       "      <th>2</th>\n",
       "      <td>5</td>\n",
       "      <td>11</td>\n",
       "      <td>0</td>\n",
       "      <td>0</td>\n",
       "      <td>0</td>\n",
       "      <td>0</td>\n",
       "      <td>0</td>\n",
       "      <td>0</td>\n",
       "      <td>2</td>\n",
       "      <td>25</td>\n",
       "      <td>6</td>\n",
       "      <td>0</td>\n",
       "    </tr>\n",
       "    <tr>\n",
       "      <th>3</th>\n",
       "      <td>6</td>\n",
       "      <td>11</td>\n",
       "      <td>0</td>\n",
       "      <td>0</td>\n",
       "      <td>0</td>\n",
       "      <td>0</td>\n",
       "      <td>0</td>\n",
       "      <td>0</td>\n",
       "      <td>2</td>\n",
       "      <td>16</td>\n",
       "      <td>5</td>\n",
       "      <td>0</td>\n",
       "    </tr>\n",
       "    <tr>\n",
       "      <th>4</th>\n",
       "      <td>7</td>\n",
       "      <td>11</td>\n",
       "      <td>0</td>\n",
       "      <td>0</td>\n",
       "      <td>0</td>\n",
       "      <td>0</td>\n",
       "      <td>0</td>\n",
       "      <td>0</td>\n",
       "      <td>1</td>\n",
       "      <td>14</td>\n",
       "      <td>4</td>\n",
       "      <td>0</td>\n",
       "    </tr>\n",
       "  </tbody>\n",
       "</table>\n",
       "</div>"
      ],
      "text/plain": [
       "   m1_id  m2_id  is_exact_match  is_words_match  is_substring  \\\n",
       "0      3     11               0               0             0   \n",
       "1      4     11               0               0             0   \n",
       "2      5     11               0               0             0   \n",
       "3      6     11               0               0             0   \n",
       "4      7     11               0               0             0   \n",
       "\n",
       "   is_abbreviation  is_appositive  is_nearest_candidate  sentence_distance  \\\n",
       "0                0              0                     0                  2   \n",
       "1                0              0                     0                  2   \n",
       "2                0              0                     0                  2   \n",
       "3                0              0                     0                  2   \n",
       "4                0              0                     0                  1   \n",
       "\n",
       "   word_distance  markable_distance  is_coreference  \n",
       "0             31                  8               1  \n",
       "1             29                  7               0  \n",
       "2             25                  6               0  \n",
       "3             16                  5               0  \n",
       "4             14                  4               0  "
      ]
     },
     "execution_count": 4,
     "metadata": {},
     "output_type": "execute_result"
    }
   ],
   "source": [
    "pairs_budi = pd.read_csv(\"data/training/mention_pairs_budi.csv\")\n",
    "pairs_soon = pd.read_csv(\"data/training/mention_pairs_soon.csv\")\n",
    "pairs_gilang = pd.read_csv(\"data/training/mention_pairs_gilang.csv\")\n",
    "\n",
    "pairs_soon.head()"
   ]
  },
  {
   "cell_type": "code",
   "execution_count": 5,
   "metadata": {},
   "outputs": [],
   "source": [
    "max_text_length = 10\n",
    "max_prev_words_length = 10\n",
    "max_next_words_length = 10\n",
    "\n",
    "def get_data(markable_ids):\n",
    "    indices = reduce(lambda a, b: a + [b], map(lambda a: markables.index[markables['id'] == a].tolist()[0], markable_ids), [])\n",
    "    data = markables.loc[indices]\n",
    "    \n",
    "    data_text = pad_sequences(data.text, maxlen=max_text_length, padding='post')\n",
    "    data_previous_words = pad_sequences(data.previous_words.map(lambda seq: seq[(-1*max_prev_words_length):]), maxlen=max_prev_words_length, padding='pre')\n",
    "    data_next_words = pad_sequences(data.next_words.map(lambda seq: seq[:max_next_words_length]), maxlen=max_next_words_length, padding='post')\n",
    "    data_syntactic = data[['is_pronoun', 'entity_type', 'is_proper_name', 'is_first_person']]\n",
    "\n",
    "    data_syntactic = np.array(list(map(lambda p: reduce(lambda x,y: x + y, [i if type(i) is list else [i] for i in p]), data_syntactic.values)))\n",
    "    is_singleton = np.vstack(data.is_singleton)\n",
    "    \n",
    "    return data_text, data_previous_words, data_next_words, data_syntactic, is_singleton\n",
    "\n",
    "def get_pair_data(markable_ids_1, markable_ids_2):\n",
    "    text_1, prev_1, next_1, syntactic_1, is_singleton_1 = get_data(markable_ids_1)\n",
    "    text_2, prev_2, next_2, syntactic_2, is_singleton_2 = get_data(markable_ids_2)\n",
    "    \n",
    "    return text_1, text_2, prev_1, prev_2, next_1, next_2, syntactic_1, syntactic_2, is_singleton_1, is_singleton_2\n",
    "\n",
    "def get_relation_data(mention_pairs):\n",
    "    return mention_pairs[['is_exact_match', 'is_words_match', 'is_substring', 'is_abbreviation', 'is_appositive', 'is_nearest_candidate', 'sentence_distance', 'word_distance', 'markable_distance']]"
   ]
  },
  {
   "cell_type": "markdown",
   "metadata": {},
   "source": [
    "# Soon-Generated"
   ]
  },
  {
   "cell_type": "code",
   "execution_count": 15,
   "metadata": {},
   "outputs": [],
   "source": [
    "text_11, text_21, prev_11, prev_21, next_11, next_21, syntactic_11, syntactic_21, is_singleton_11, is_singleton_21 = get_pair_data(pairs_soon.m1_id, pairs_soon.m2_id)\n",
    "relation_1 = get_relation_data(pairs_soon)\n",
    "label_soon = np.vstack(to_categorical(pairs_soon.is_coreference, num_classes=2))"
   ]
  },
  {
   "cell_type": "markdown",
   "metadata": {},
   "source": [
    "## Build Model"
   ]
  },
  {
   "cell_type": "markdown",
   "metadata": {},
   "source": [
    "### Word"
   ]
  },
  {
   "cell_type": "code",
   "execution_count": 7,
   "metadata": {},
   "outputs": [],
   "source": [
    "words_model_builder = CoreferenceClassifierModelBuilder(\n",
    "    use_words_feature=True, \n",
    "    use_context_feature=False, \n",
    "    use_syntactic_feature=False,\n",
    "    use_relation_feature=False,\n",
    "    embedding_matrix=embedding_matrix\n",
    ")"
   ]
  },
  {
   "cell_type": "code",
   "execution_count": 8,
   "metadata": {},
   "outputs": [
    {
     "name": "stderr",
     "output_type": "stream",
     "text": [
      "WARNING: Logging before flag parsing goes to stderr.\n",
      "W0314 11:36:07.803669 140080703129408 deprecation.py:506] From /usr/local/lib/python3.6/dist-packages/tensorflow/python/keras/initializers.py:111: calling RandomUniform.__init__ (from tensorflow.python.ops.init_ops) with dtype is deprecated and will be removed in a future version.\n",
      "Instructions for updating:\n",
      "Call initializer instance with the dtype argument instead of passing it to the constructor\n",
      "W0314 11:36:09.137536 140080703129408 deprecation.py:506] From /usr/local/lib/python3.6/dist-packages/tensorflow/python/keras/initializers.py:135: calling RandomNormal.__init__ (from tensorflow.python.ops.init_ops) with dtype is deprecated and will be removed in a future version.\n",
      "Instructions for updating:\n",
      "Call initializer instance with the dtype argument instead of passing it to the constructor\n",
      "W0314 11:36:09.194277 140080703129408 deprecation.py:506] From /usr/local/lib/python3.6/dist-packages/tensorflow/python/ops/init_ops.py:1253: calling VarianceScaling.__init__ (from tensorflow.python.ops.init_ops) with dtype is deprecated and will be removed in a future version.\n",
      "Instructions for updating:\n",
      "Call initializer instance with the dtype argument instead of passing it to the constructor\n",
      "W0314 11:36:09.594814 140080703129408 deprecation.py:506] From /usr/local/lib/python3.6/dist-packages/tensorflow/python/keras/engine/base_layer_utils.py:123: calling Zeros.__init__ (from tensorflow.python.ops.init_ops) with dtype is deprecated and will be removed in a future version.\n",
      "Instructions for updating:\n",
      "Call initializer instance with the dtype argument instead of passing it to the constructor\n"
     ]
    }
   ],
   "source": [
    "words_model_1 = words_model_builder.create_model()"
   ]
  },
  {
   "cell_type": "code",
   "execution_count": 9,
   "metadata": {},
   "outputs": [
    {
     "name": "stdout",
     "output_type": "stream",
     "text": [
      "Epoch 1/5\n",
      "5548/5548==============================] - 3s 524us/sample - loss: 0.3153 - acc: 0.8807\n",
      "Epoch 2/5\n",
      "5548/5548==============================] - 2s 324us/sample - loss: 0.2306 - acc: 0.8884\n",
      "Epoch 3/5\n",
      "5548/5548==============================] - 2s 321us/sample - loss: 0.2052 - acc: 0.8888\n",
      "Epoch 4/5\n",
      "5548/5548==============================] - 2s 323us/sample - loss: 0.1902 - acc: 0.8980\n",
      "Epoch 5/5\n",
      "5548/5548==============================] - 2s 321us/sample - loss: 0.1773 - acc: 0.9106\n"
     ]
    }
   ],
   "source": [
    "words_model_1.fit([text_11, text_21], label_soon, epochs=5)\n",
    "words_model_1.save('models/coreference_classifiers/words_soon_5.model')"
   ]
  },
  {
   "cell_type": "code",
   "execution_count": 10,
   "metadata": {},
   "outputs": [
    {
     "name": "stdout",
     "output_type": "stream",
     "text": [
      "Epoch 1/5\n",
      "5548/5548==============================] - 2s 324us/sample - loss: 0.1692 - acc: 0.9230\n",
      "Epoch 2/5\n",
      "5548/5548==============================] - 2s 327us/sample - loss: 0.1512 - acc: 0.9274\n",
      "Epoch 3/5\n",
      "5548/5548==============================] - 2s 322us/sample - loss: 0.1464 - acc: 0.9268\n",
      "Epoch 4/5\n",
      "5548/5548==============================] - 2s 323us/sample - loss: 0.1381 - acc: 0.9328\n",
      "Epoch 5/5\n",
      "5548/5548==============================] - 2s 323us/sample - loss: 0.1257 - acc: 0.9376\n"
     ]
    }
   ],
   "source": [
    "words_model_1.fit([text_11, text_21], label_soon, epochs=5)\n",
    "words_model_1.save('models/coreference_classifiers/words_soon_10.model')"
   ]
  },
  {
   "cell_type": "code",
   "execution_count": 11,
   "metadata": {},
   "outputs": [
    {
     "name": "stdout",
     "output_type": "stream",
     "text": [
      "Epoch 1/10\n",
      "5548/5548==============================] - 2s 323us/sample - loss: 0.1210 - acc: 0.9429\n",
      "Epoch 2/10\n",
      "5548/5548==============================] - 2s 327us/sample - loss: 0.1132 - acc: 0.9411\n",
      "Epoch 3/10\n",
      "5548/5548==============================] - 2s 322us/sample - loss: 0.1217 - acc: 0.9407\n",
      "Epoch 4/10\n",
      "5548/5548==============================] - 2s 322us/sample - loss: 0.1057 - acc: 0.9508\n",
      "Epoch 5/10\n",
      "5548/5548==============================] - 2s 321us/sample - loss: 0.1051 - acc: 0.9506\n",
      "Epoch 6/10\n",
      "5548/5548==============================] - 2s 319us/sample - loss: 0.1005 - acc: 0.9513\n",
      "Epoch 7/10\n",
      "5548/5548==============================] - 2s 323us/sample - loss: 0.1010 - acc: 0.9508\n",
      "Epoch 8/10\n",
      "5548/5548==============================] - 2s 321us/sample - loss: 0.1214 - acc: 0.9557\n",
      "Epoch 9/10\n",
      "5548/5548==============================] - 2s 321us/sample - loss: 0.0977 - acc: 0.9530\n",
      "Epoch 10/10\n",
      "5548/5548==============================] - 2s 322us/sample - loss: 0.0861 - acc: 0.9575\n"
     ]
    }
   ],
   "source": [
    "words_model_1.fit([text_11, text_21], label_soon, epochs=10)\n",
    "words_model_1.save('models/coreference_classifiers/words_soon_20.model')"
   ]
  },
  {
   "cell_type": "markdown",
   "metadata": {},
   "source": [
    "### Context"
   ]
  },
  {
   "cell_type": "code",
   "execution_count": 8,
   "metadata": {},
   "outputs": [],
   "source": [
    "context_model_builder = CoreferenceClassifierModelBuilder(\n",
    "    use_words_feature=False, \n",
    "    use_context_feature=True, \n",
    "    use_syntactic_feature=False,\n",
    "    use_relation_feature=False,\n",
    "    embedding_matrix=embedding_matrix\n",
    ")"
   ]
  },
  {
   "cell_type": "code",
   "execution_count": 13,
   "metadata": {},
   "outputs": [],
   "source": [
    "context_model_1 = context_model_builder.create_model()"
   ]
  },
  {
   "cell_type": "code",
   "execution_count": 14,
   "metadata": {},
   "outputs": [
    {
     "name": "stdout",
     "output_type": "stream",
     "text": [
      "Epoch 1/5\n",
      "5548/5548==============================] - 3s 582us/sample - loss: 0.4483 - acc: 0.8300\n",
      "Epoch 2/5\n",
      "5548/5548==============================] - 3s 494us/sample - loss: 0.3451 - acc: 0.8872\n",
      "Epoch 3/5\n",
      "5548/5548==============================] - 3s 497us/sample - loss: 0.3065 - acc: 0.8873\n",
      "Epoch 4/5\n",
      "5548/5548==============================] - 3s 489us/sample - loss: 0.2707 - acc: 0.8875\n",
      "Epoch 5/5\n",
      "5548/5548==============================] - 3s 497us/sample - loss: 0.2401 - acc: 0.8872\n"
     ]
    }
   ],
   "source": [
    "context_model_1.fit([prev_11, prev_21, next_11, next_21], label_soon, epochs=5)\n",
    "context_model_1.save('models/coreference_classifiers/context_soon_5.model')"
   ]
  },
  {
   "cell_type": "code",
   "execution_count": 15,
   "metadata": {},
   "outputs": [
    {
     "name": "stdout",
     "output_type": "stream",
     "text": [
      "Epoch 1/5\n",
      "5548/5548==============================] - 3s 490us/sample - loss: 0.2168 - acc: 0.8873\n",
      "Epoch 2/5\n",
      "5548/5548==============================] - 3s 490us/sample - loss: 0.1974 - acc: 0.8992\n",
      "Epoch 3/5\n",
      "5548/5548==============================] - 3s 492us/sample - loss: 0.1914 - acc: 0.9115\n",
      "Epoch 4/5\n",
      "5548/5548==============================] - 3s 492us/sample - loss: 0.1810 - acc: 0.9160\n",
      "Epoch 5/5\n",
      "5548/5548==============================] - 3s 494us/sample - loss: 0.1698 - acc: 0.9211\n"
     ]
    }
   ],
   "source": [
    "context_model_1.fit([prev_11, prev_21, next_11, next_21], label_soon, epochs=5)\n",
    "context_model_1.save('models/coreference_classifiers/context_soon_10.model')"
   ]
  },
  {
   "cell_type": "code",
   "execution_count": 16,
   "metadata": {},
   "outputs": [
    {
     "name": "stdout",
     "output_type": "stream",
     "text": [
      "Epoch 1/10\n",
      "5548/5548==============================] - 3s 489us/sample - loss: 0.1570 - acc: 0.9257\n",
      "Epoch 2/10\n",
      "5548/5548==============================] - 3s 501us/sample - loss: 0.1555 - acc: 0.9297\n",
      "Epoch 3/10\n",
      "5548/5548==============================] - 3s 490us/sample - loss: 0.1532 - acc: 0.9328\n",
      "Epoch 4/10\n",
      "5548/5548==============================] - 3s 493us/sample - loss: 0.1491 - acc: 0.9322\n",
      "Epoch 5/10\n",
      "5548/5548==============================] - 3s 491us/sample - loss: 0.1381 - acc: 0.9353\n",
      "Epoch 6/10\n",
      "5548/5548==============================] - 3s 492us/sample - loss: 0.1356 - acc: 0.9380\n",
      "Epoch 7/10\n",
      "5548/5548==============================] - 3s 488us/sample - loss: 0.1335 - acc: 0.9445\n",
      "Epoch 8/10\n",
      "5548/5548==============================] - 3s 501us/sample - loss: 0.1296 - acc: 0.9405\n",
      "Epoch 9/10\n",
      "5548/5548==============================] - 3s 491us/sample - loss: 0.1235 - acc: 0.9486\n",
      "Epoch 10/10\n",
      "5548/5548==============================] - 3s 491us/sample - loss: 0.1234 - acc: 0.9479\n"
     ]
    }
   ],
   "source": [
    "context_model_1.fit([prev_11, prev_21, next_11, next_21], label_soon, epochs=10)\n",
    "context_model_1.save('models/coreference_classifiers/context_soon_20.model')"
   ]
  },
  {
   "cell_type": "markdown",
   "metadata": {},
   "source": [
    "### Syntactic"
   ]
  },
  {
   "cell_type": "code",
   "execution_count": 9,
   "metadata": {},
   "outputs": [
    {
     "ename": "NameError",
     "evalue": "name 'syntactic_11' is not defined",
     "output_type": "error",
     "traceback": [
      "\u001b[0;31m---------------------------------------------------------------------------\u001b[0m",
      "\u001b[0;31mNameError\u001b[0m                                 Traceback (most recent call last)",
      "\u001b[0;32m<ipython-input-9-c57037b1e438>\u001b[0m in \u001b[0;36m<module>\u001b[0;34m\u001b[0m\n\u001b[1;32m      5\u001b[0m     \u001b[0muse_relation_feature\u001b[0m\u001b[0;34m=\u001b[0m\u001b[0;32mTrue\u001b[0m\u001b[0;34m,\u001b[0m\u001b[0;34m\u001b[0m\u001b[0;34m\u001b[0m\u001b[0m\n\u001b[1;32m      6\u001b[0m     \u001b[0membedding_matrix\u001b[0m\u001b[0;34m=\u001b[0m\u001b[0membedding_matrix\u001b[0m\u001b[0;34m,\u001b[0m\u001b[0;34m\u001b[0m\u001b[0;34m\u001b[0m\u001b[0m\n\u001b[0;32m----> 7\u001b[0;31m     \u001b[0msyntactic_features_num\u001b[0m\u001b[0;34m=\u001b[0m\u001b[0msyntactic_11\u001b[0m\u001b[0;34m.\u001b[0m\u001b[0mshape\u001b[0m\u001b[0;34m[\u001b[0m\u001b[0;36m1\u001b[0m\u001b[0;34m]\u001b[0m\u001b[0;34m,\u001b[0m\u001b[0;34m\u001b[0m\u001b[0;34m\u001b[0m\u001b[0m\n\u001b[0m\u001b[1;32m      8\u001b[0m     \u001b[0mrelation_features_num\u001b[0m\u001b[0;34m=\u001b[0m\u001b[0mrelation_1\u001b[0m\u001b[0;34m.\u001b[0m\u001b[0mshape\u001b[0m\u001b[0;34m[\u001b[0m\u001b[0;36m1\u001b[0m\u001b[0;34m]\u001b[0m\u001b[0;34m\u001b[0m\u001b[0;34m\u001b[0m\u001b[0m\n\u001b[1;32m      9\u001b[0m )\n",
      "\u001b[0;31mNameError\u001b[0m: name 'syntactic_11' is not defined"
     ]
    }
   ],
   "source": [
    "syntactic_model_builder = CoreferenceClassifierModelBuilder(\n",
    "    use_words_feature=False, \n",
    "    use_context_feature=False, \n",
    "    use_syntactic_feature=True,\n",
    "    use_relation_feature=True,\n",
    "    embedding_matrix=embedding_matrix,\n",
    "    syntactic_features_num=syntactic_11.shape[1],\n",
    "    relation_features_num=relation_1.shape[1]\n",
    ")"
   ]
  },
  {
   "cell_type": "code",
   "execution_count": 18,
   "metadata": {},
   "outputs": [],
   "source": [
    "syntactic_model_1 = syntactic_model_builder.create_model()"
   ]
  },
  {
   "cell_type": "code",
   "execution_count": null,
   "metadata": {},
   "outputs": [
    {
     "name": "stdout",
     "output_type": "stream",
     "text": [
      "Epoch 1/5\n",
      "5548/5548==============================] - 2s 307us/sample - loss: 0.4452 - acc: 0.8482\n",
      "Epoch 2/5\n",
      "5548/5548==============================] - 1s 257us/sample - loss: 0.2707 - acc: 0.8873\n",
      "Epoch 3/5\n",
      "5548/5548==============================] - 1s 254us/sample - loss: 0.2482 - acc: 0.8857\n",
      "Epoch 4/5\n",
      "5548/5548==============================] - 1s 255us/sample - loss: 0.2329 - acc: 0.8873\n",
      "Epoch 5/5\n",
      "5548/5548==============================] - 1s 249us/sample - loss: 0.2235 - acc: 0.8875\n"
     ]
    }
   ],
   "source": [
    "syntactic_model_1.fit([syntactic_11, syntactic_21, relation_1], label_soon, epochs=5)\n",
    "syntactic_model_1.save('models/coreference_classifiers/syntactic_soon_5.model')"
   ]
  },
  {
   "cell_type": "code",
   "execution_count": null,
   "metadata": {},
   "outputs": [
    {
     "name": "stdout",
     "output_type": "stream",
     "text": [
      "Epoch 1/5\n",
      "5548/5548==============================] - 1s 247us/sample - loss: 0.2113 - acc: 0.8891\n",
      "Epoch 2/5\n",
      "5548/5548==============================] - 1s 252us/sample - loss: 0.1943 - acc: 0.9030\n",
      "Epoch 3/5\n",
      "5548/5548==============================] - 1s 249us/sample - loss: 0.1854 - acc: 0.9185\n",
      "Epoch 4/5\n",
      "5548/5548==============================] - 1s 253us/sample - loss: 0.1817 - acc: 0.9205\n",
      "Epoch 5/5\n",
      "5548/5548==============================] - 1s 247us/sample - loss: 0.1733 - acc: 0.9272\n"
     ]
    }
   ],
   "source": [
    "syntactic_model_1.fit([syntactic_11, syntactic_21, relation_1], label_soon, epochs=5)\n",
    "syntactic_model_1.save('models/coreference_classifiers/syntactic_soon_10.model')"
   ]
  },
  {
   "cell_type": "code",
   "execution_count": null,
   "metadata": {},
   "outputs": [
    {
     "name": "stdout",
     "output_type": "stream",
     "text": [
      "Epoch 1/10\n",
      "5548/5548==============================] - 1s 248us/sample - loss: 0.1675 - acc: 0.9279\n",
      "Epoch 2/10\n",
      "5548/5548==============================] - 1s 253us/sample - loss: 0.1673 - acc: 0.9302\n",
      "Epoch 3/10\n",
      "5548/5548==============================] - 1s 254us/sample - loss: 0.1609 - acc: 0.9310\n",
      "Epoch 4/10\n",
      "5548/5548==============================] - 1s 251us/sample - loss: 0.1583 - acc: 0.9346\n",
      "Epoch 5/10\n",
      "5548/5548==============================] - 1s 252us/sample - loss: 0.1563 - acc: 0.9297\n",
      "Epoch 6/10\n",
      "5548/5548==============================] - 1s 259us/sample - loss: 0.1606 - acc: 0.9313\n",
      "Epoch 7/10\n",
      "5548/5548==============================] - 1s 257us/sample - loss: 0.1479 - acc: 0.9371\n",
      "Epoch 8/10\n",
      "5548/5548==============================] - 1s 253us/sample - loss: 0.1534 - acc: 0.9328\n",
      "Epoch 9/10\n",
      "5548/5548==============================] - 1s 252us/sample - loss: 0.1486 - acc: 0.9319\n",
      "Epoch 10/10\n",
      "5548/5548==============================] - 1s 251us/sample - loss: 0.1520 - acc: 0.9329\n"
     ]
    }
   ],
   "source": [
    "syntactic_model_1.fit([syntactic_11, syntactic_21, relation_1], label_soon, epochs=10)\n",
    "syntactic_model_1.save('models/coreference_classifiers/syntactic_soon_20.model')"
   ]
  },
  {
   "cell_type": "markdown",
   "metadata": {},
   "source": [
    "### Words + Context"
   ]
  },
  {
   "cell_type": "code",
   "execution_count": null,
   "metadata": {},
   "outputs": [],
   "source": [
    "words_context_model_builder = CoreferenceClassifierModelBuilder(\n",
    "    use_words_feature=True, \n",
    "    use_context_feature=True, \n",
    "    use_syntactic_feature=False,\n",
    "    use_relation_feature=False,\n",
    "    embedding_matrix=embedding_matrix,\n",
    ")"
   ]
  },
  {
   "cell_type": "code",
   "execution_count": null,
   "metadata": {},
   "outputs": [],
   "source": [
    "words_context_model_1 = words_context_model_builder.create_model()"
   ]
  },
  {
   "cell_type": "code",
   "execution_count": null,
   "metadata": {},
   "outputs": [
    {
     "name": "stdout",
     "output_type": "stream",
     "text": [
      "Epoch 1/5\n",
      "5548/5548==============================] - 5s 850us/sample - loss: 0.3456 - acc: 0.8776\n",
      "Epoch 2/5\n",
      "5548/5548==============================] - 4s 704us/sample - loss: 0.2450 - acc: 0.8967\n",
      "Epoch 3/5\n",
      "5548/5548==============================] - 4s 708us/sample - loss: 0.1989 - acc: 0.9151\n",
      "Epoch 4/5\n",
      "5548/5548==============================] - 4s 711us/sample - loss: 0.1706 - acc: 0.9214\n",
      "Epoch 5/5\n",
      "5548/5548==============================] - 4s 706us/sample - loss: 0.1489 - acc: 0.9351\n"
     ]
    }
   ],
   "source": [
    "words_context_model_1.fit([text_11, text_21, prev_11, prev_21, next_11, next_21], label_soon, epochs=5)\n",
    "words_context_model_1.save('models/coreference_classifiers/words_context_soon_5.model')"
   ]
  },
  {
   "cell_type": "code",
   "execution_count": null,
   "metadata": {},
   "outputs": [
    {
     "name": "stdout",
     "output_type": "stream",
     "text": [
      "Epoch 1/5\n",
      "5548/5548==============================] - 4s 692us/sample - loss: 0.1342 - acc: 0.9394\n",
      "Epoch 2/5\n",
      "5548/5548==============================] - 4s 704us/sample - loss: 0.1198 - acc: 0.9468\n",
      "Epoch 3/5\n",
      "5548/5548==============================] - 4s 716us/sample - loss: 0.1075 - acc: 0.9539\n",
      "Epoch 4/5\n",
      "5548/5548==============================] - 4s 710us/sample - loss: 0.0989 - acc: 0.9621\n",
      "Epoch 5/5\n",
      "5548/5548==============================] - 4s 708us/sample - loss: 0.0816 - acc: 0.9688\n"
     ]
    }
   ],
   "source": [
    "words_context_model_1.fit([text_11, text_21, prev_11, prev_21, next_11, next_21], label_soon, epochs=5)\n",
    "words_context_model_1.save('models/coreference_classifiers/words_context_soon_10.model')"
   ]
  },
  {
   "cell_type": "code",
   "execution_count": null,
   "metadata": {},
   "outputs": [
    {
     "name": "stdout",
     "output_type": "stream",
     "text": [
      "Epoch 1/10\n",
      "5548/5548==============================] - 4s 692us/sample - loss: 0.0694 - acc: 0.9757\n",
      "Epoch 2/10\n",
      "5548/5548==============================] - 4s 701us/sample - loss: 0.0749 - acc: 0.9744\n",
      "Epoch 3/10\n",
      "5548/5548==============================] - 4s 709us/sample - loss: 0.0599 - acc: 0.9804\n",
      "Epoch 4/10\n",
      "5548/5548==============================] - 4s 703us/sample - loss: 0.0574 - acc: 0.9804\n",
      "Epoch 5/10\n",
      "5548/5548==============================] - 4s 702us/sample - loss: 0.0622 - acc: 0.9818\n",
      "Epoch 6/10\n",
      "5548/5548==============================] - 4s 709us/sample - loss: 0.0486 - acc: 0.9834\n",
      "Epoch 7/10\n",
      "5548/5548==============================] - 4s 710us/sample - loss: 0.0440 - acc: 0.9834\n",
      "Epoch 8/10\n",
      "5548/5548==============================] - 4s 703us/sample - loss: 0.0422 - acc: 0.9863\n",
      "Epoch 9/10\n",
      "5548/5548==============================] - 4s 712us/sample - loss: 0.0450 - acc: 0.9852\n",
      "Epoch 10/10\n",
      "5548/5548==============================] - 4s 707us/sample - loss: 0.0381 - acc: 0.9870\n"
     ]
    }
   ],
   "source": [
    "words_context_model_1.fit([text_11, text_21, prev_11, prev_21, next_11, next_21], label_soon, epochs=10)\n",
    "words_context_model_1.save('models/coreference_classifiers/words_context_soon_20.model')"
   ]
  },
  {
   "cell_type": "markdown",
   "metadata": {},
   "source": [
    "### Words + Syntactic"
   ]
  },
  {
   "cell_type": "code",
   "execution_count": null,
   "metadata": {},
   "outputs": [],
   "source": [
    "words_syntactic_model_builder = CoreferenceClassifierModelBuilder(\n",
    "    use_words_feature=True, \n",
    "    use_context_feature=False, \n",
    "    use_syntactic_feature=True,\n",
    "    use_relation_feature=True,\n",
    "    embedding_matrix=embedding_matrix,\n",
    "    syntactic_features_num=syntactic_11.shape[1],\n",
    "    relation_features_num=relation_1.shape[1]\n",
    ")"
   ]
  },
  {
   "cell_type": "code",
   "execution_count": null,
   "metadata": {},
   "outputs": [],
   "source": [
    "words_syntactic_model_1 = words_syntactic_model_builder.create_model()"
   ]
  },
  {
   "cell_type": "code",
   "execution_count": null,
   "metadata": {},
   "outputs": [
    {
     "name": "stdout",
     "output_type": "stream",
     "text": [
      "Epoch 1/5\n",
      "5548/5548==============================] - 3s 565us/sample - loss: 0.4662 - acc: 0.7868\n",
      "Epoch 2/5\n",
      "5548/5548==============================] - 3s 452us/sample - loss: 0.2288 - acc: 0.8879\n",
      "Epoch 3/5\n",
      "5548/5548==============================] - 3s 457us/sample - loss: 0.1865 - acc: 0.9021\n",
      "Epoch 4/5\n",
      "5548/5548==============================] - 3s 456us/sample - loss: 0.1572 - acc: 0.9257\n",
      "Epoch 5/5\n",
      "5548/5548==============================] - 3s 456us/sample - loss: 0.1357 - acc: 0.9409\n"
     ]
    }
   ],
   "source": [
    "words_syntactic_model_1.fit([text_11, text_21, syntactic_11, syntactic_21, relation_1], label_soon, epochs=5)\n",
    "words_syntactic_model_1.save('models/coreference_classifiers/words_syntactic_soon_5.model')"
   ]
  },
  {
   "cell_type": "code",
   "execution_count": null,
   "metadata": {},
   "outputs": [
    {
     "name": "stdout",
     "output_type": "stream",
     "text": [
      "Epoch 1/5\n",
      "5548/5548==============================] - 2s 447us/sample - loss: 0.1156 - acc: 0.9531\n",
      "Epoch 2/5\n",
      "5548/5548==============================] - 3s 455us/sample - loss: 0.1039 - acc: 0.9575\n",
      "Epoch 3/5\n",
      "5548/5548==============================] - 3s 452us/sample - loss: 0.1002 - acc: 0.9596\n",
      "Epoch 4/5\n",
      "5548/5548==============================] - 3s 459us/sample - loss: 0.0841 - acc: 0.9656\n",
      "Epoch 5/5\n",
      "5548/5548==============================] - 3s 456us/sample - loss: 0.0770 - acc: 0.9667\n"
     ]
    }
   ],
   "source": [
    "words_syntactic_model_1.fit([text_11, text_21, syntactic_11, syntactic_21, relation_1], label_soon, epochs=5)\n",
    "words_syntactic_model_1.save('models/coreference_classifiers/words_syntactic_soon_10.model')"
   ]
  },
  {
   "cell_type": "code",
   "execution_count": null,
   "metadata": {},
   "outputs": [
    {
     "name": "stdout",
     "output_type": "stream",
     "text": [
      "Epoch 1/10\n",
      "5548/5548==============================] - 3s 452us/sample - loss: 0.0734 - acc: 0.9694\n",
      "Epoch 2/10\n",
      "5548/5548==============================] - 3s 456us/sample - loss: 0.0777 - acc: 0.9695\n",
      "Epoch 3/10\n",
      "5548/5548==============================] - 3s 456us/sample - loss: 0.0678 - acc: 0.9735\n",
      "Epoch 4/10\n",
      "5548/5548==============================] - 3s 456us/sample - loss: 0.0753 - acc: 0.9699\n",
      "Epoch 5/10\n",
      "5548/5548==============================] - 3s 458us/sample - loss: 0.0677 - acc: 0.9730\n",
      "Epoch 6/10\n",
      "5548/5548==============================] - 3s 454us/sample - loss: 0.0577 - acc: 0.9757\n",
      "Epoch 7/10\n",
      "5548/5548==============================] - 3s 457us/sample - loss: 0.0585 - acc: 0.9740\n",
      "Epoch 8/10\n",
      "5548/5548==============================] - 3s 462us/sample - loss: 0.0571 - acc: 0.9762\n",
      "Epoch 9/10\n",
      "5548/5548==============================] - 3s 456us/sample - loss: 0.0547 - acc: 0.9766\n",
      "Epoch 10/10\n",
      "5548/5548==============================] - 3s 463us/sample - loss: 0.0507 - acc: 0.9771\n"
     ]
    }
   ],
   "source": [
    "words_syntactic_model_1.fit([text_11, text_21, syntactic_11, syntactic_21, relation_1], label_soon, epochs=10)\n",
    "words_syntactic_model_1.save('models/coreference_classifiers/words_syntactic_soon_20.model')"
   ]
  },
  {
   "cell_type": "markdown",
   "metadata": {},
   "source": [
    "### Context + Syntactic"
   ]
  },
  {
   "cell_type": "code",
   "execution_count": null,
   "metadata": {},
   "outputs": [],
   "source": [
    "context_syntactic_model_builder = CoreferenceClassifierModelBuilder(\n",
    "    use_words_feature=False, \n",
    "    use_context_feature=True, \n",
    "    use_syntactic_feature=True,\n",
    "    use_relation_feature=True,\n",
    "    embedding_matrix=embedding_matrix,\n",
    "    syntactic_features_num=syntactic_11.shape[1],\n",
    "    relation_features_num=relation_1.shape[1]\n",
    ")"
   ]
  },
  {
   "cell_type": "code",
   "execution_count": null,
   "metadata": {},
   "outputs": [],
   "source": [
    "context_syntactic_model_1 = context_syntactic_model_builder.create_model()"
   ]
  },
  {
   "cell_type": "code",
   "execution_count": null,
   "metadata": {},
   "outputs": [
    {
     "name": "stdout",
     "output_type": "stream",
     "text": [
      "Epoch 1/5\n",
      "5548/5548==============================] - 4s 784us/sample - loss: 0.4148 - acc: 0.8774\n",
      "Epoch 2/5\n",
      "5548/5548==============================] - 4s 637us/sample - loss: 0.2680 - acc: 0.8868\n",
      "Epoch 3/5\n",
      "5548/5548==============================] - 3s 630us/sample - loss: 0.2470 - acc: 0.8879\n",
      "Epoch 4/5\n",
      "5548/5548==============================] - 3s 630us/sample - loss: 0.2315 - acc: 0.8875\n",
      "Epoch 5/5\n",
      "5548/5548==============================] - 4s 633us/sample - loss: 0.2178 - acc: 0.8884\n"
     ]
    }
   ],
   "source": [
    "context_syntactic_model_1.fit([prev_11, prev_21, next_11, next_21, syntactic_11, syntactic_21, relation_1], label_soon, epochs=5)\n",
    "context_syntactic_model_1.save('models/coreference_classifiers/context_syntactic_soon_5.model')"
   ]
  },
  {
   "cell_type": "code",
   "execution_count": null,
   "metadata": {},
   "outputs": [
    {
     "name": "stdout",
     "output_type": "stream",
     "text": [
      "Epoch 1/5\n",
      "5548/5548==============================] - 3s 619us/sample - loss: 0.2077 - acc: 0.8951\n",
      "Epoch 2/5\n",
      "5548/5548==============================] - 4s 633us/sample - loss: 0.1980 - acc: 0.9043\n",
      "Epoch 3/5\n",
      "5548/5548==============================] - 3s 630us/sample - loss: 0.1815 - acc: 0.9133\n",
      "Epoch 4/5\n",
      "5548/5548==============================] - 3s 628us/sample - loss: 0.1755 - acc: 0.9252\n",
      "Epoch 5/5\n",
      "5548/5548==============================] - 4s 634us/sample - loss: 0.1630 - acc: 0.9328\n"
     ]
    }
   ],
   "source": [
    "context_syntactic_model_1.fit([prev_11, prev_21, next_11, next_21, syntactic_11, syntactic_21, relation_1], label_soon, epochs=5)\n",
    "context_syntactic_model_1.save('models/coreference_classifiers/context_syntactic_soon_10.model')"
   ]
  },
  {
   "cell_type": "code",
   "execution_count": null,
   "metadata": {},
   "outputs": [
    {
     "name": "stdout",
     "output_type": "stream",
     "text": [
      "Epoch 1/10\n",
      "5548/5548==============================] - 3s 614us/sample - loss: 0.1458 - acc: 0.9380\n",
      "Epoch 2/10\n",
      "5548/5548==============================] - 3s 627us/sample - loss: 0.1328 - acc: 0.9465\n",
      "Epoch 3/10\n",
      "5548/5548==============================] - 3s 630us/sample - loss: 0.1163 - acc: 0.9528\n",
      "Epoch 4/10\n",
      "5548/5548==============================] - 4s 636us/sample - loss: 0.1042 - acc: 0.9575\n",
      "Epoch 5/10\n",
      "5548/5548==============================] - 3s 631us/sample - loss: 0.1003 - acc: 0.9603\n",
      "Epoch 6/10\n",
      "5548/5548==============================] - 3s 627us/sample - loss: 0.0990 - acc: 0.9602\n",
      "Epoch 7/10\n",
      "5548/5548==============================] - 3s 621us/sample - loss: 0.0832 - acc: 0.9679\n",
      "Epoch 8/10\n",
      "5548/5548==============================] - 3s 630us/sample - loss: 0.0779 - acc: 0.9699\n",
      "Epoch 9/10\n",
      "5548/5548==============================] - 3s 630us/sample - loss: 0.0780 - acc: 0.9706\n",
      "Epoch 10/10\n",
      "5548/5548==============================] - 4s 636us/sample - loss: 0.0687 - acc: 0.9744\n"
     ]
    }
   ],
   "source": [
    "context_syntactic_model_1.fit([prev_11, prev_21, next_11, next_21, syntactic_11, syntactic_21, relation_1], label_soon, epochs=10)\n",
    "context_syntactic_model_1.save('models/coreference_classifiers/context_syntactic_soon_20.model')"
   ]
  },
  {
   "cell_type": "markdown",
   "metadata": {},
   "source": [
    "### Words + Context + Syntactic"
   ]
  },
  {
   "cell_type": "code",
   "execution_count": 16,
   "metadata": {},
   "outputs": [],
   "source": [
    "words_context_syntactic_model_builder = CoreferenceClassifierModelBuilder(\n",
    "    use_words_feature=True, \n",
    "    use_context_feature=True, \n",
    "    use_syntactic_feature=True,\n",
    "    use_relation_feature=True,\n",
    "    embedding_matrix=embedding_matrix,\n",
    "    syntactic_features_num=syntactic_11.shape[1],\n",
    "    relation_features_num=relation_1.shape[1]\n",
    ")"
   ]
  },
  {
   "cell_type": "code",
   "execution_count": null,
   "metadata": {},
   "outputs": [],
   "source": [
    "words_context_syntactic_model_1 = words_context_syntactic_model_builder.create_model()"
   ]
  },
  {
   "cell_type": "code",
   "execution_count": null,
   "metadata": {},
   "outputs": [
    {
     "name": "stdout",
     "output_type": "stream",
     "text": [
      "Epoch 1/5\n",
      "5548/5548==============================] - 5s 989us/sample - loss: 0.5023 - acc: 0.8598\n",
      "Epoch 2/5\n",
      "5548/5548==============================] - 4s 795us/sample - loss: 0.2335 - acc: 0.8917\n",
      "Epoch 3/5\n",
      "5548/5548==============================] - 4s 798us/sample - loss: 0.2010 - acc: 0.9009\n",
      "Epoch 4/5\n",
      "5548/5548==============================] - 4s 804us/sample - loss: 0.1703 - acc: 0.9182\n",
      "Epoch 5/5\n",
      "5548/5548==============================] - 4s 799us/sample - loss: 0.1536 - acc: 0.9304\n"
     ]
    }
   ],
   "source": [
    "words_context_syntactic_model_1.fit([text_11, text_21, prev_11, prev_21, next_11, next_21, syntactic_11, syntactic_21, relation_1], label_soon, epochs=5)\n",
    "words_context_syntactic_model_1.save('models/coreference_classifiers/words_context_syntactic_soon_5.model')"
   ]
  },
  {
   "cell_type": "code",
   "execution_count": null,
   "metadata": {},
   "outputs": [
    {
     "name": "stdout",
     "output_type": "stream",
     "text": [
      "Epoch 1/5\n",
      "5548/5548==============================] - 4s 775us/sample - loss: 0.1276 - acc: 0.9463\n",
      "Epoch 2/5\n",
      "5548/5548==============================] - 4s 800us/sample - loss: 0.1111 - acc: 0.9555\n",
      "Epoch 3/5\n",
      "5548/5548==============================] - 4s 794us/sample - loss: 0.0995 - acc: 0.9627\n",
      "Epoch 4/5\n",
      "5548/5548==============================] - 4s 793us/sample - loss: 0.0757 - acc: 0.9726\n",
      "Epoch 5/5\n",
      "5548/5548==============================] - 4s 791us/sample - loss: 0.0707 - acc: 0.9731\n"
     ]
    }
   ],
   "source": [
    "words_context_syntactic_model_1.fit([text_11, text_21, prev_11, prev_21, next_11, next_21, syntactic_11, syntactic_21, relation_1], label_soon, epochs=5)\n",
    "words_context_syntactic_model_1.save('models/coreference_classifiers/words_context_syntactic_soon_10.model')"
   ]
  },
  {
   "cell_type": "code",
   "execution_count": null,
   "metadata": {},
   "outputs": [
    {
     "name": "stdout",
     "output_type": "stream",
     "text": [
      "Epoch 1/10\n",
      "5548/5548==============================] - 4s 792us/sample - loss: 0.0601 - acc: 0.9789\n",
      "Epoch 2/10\n",
      "5548/5548==============================] - 4s 810us/sample - loss: 0.0534 - acc: 0.9816\n",
      "Epoch 3/10\n",
      "5548/5548==============================] - 4s 808us/sample - loss: 0.0556 - acc: 0.9793\n",
      "Epoch 4/10\n",
      "5548/5548==============================] - 4s 793us/sample - loss: 0.0466 - acc: 0.9825\n",
      "Epoch 5/10\n",
      "5548/5548==============================] - 4s 804us/sample - loss: 0.0479 - acc: 0.9827\n",
      "Epoch 6/10\n",
      "5548/5548==============================] - 4s 794us/sample - loss: 0.0297 - acc: 0.9897\n",
      "Epoch 7/10\n",
      "5548/5548==============================] - 4s 810us/sample - loss: 0.0287 - acc: 0.9899\n",
      "Epoch 8/10\n",
      "5548/5548==============================] - 4s 792us/sample - loss: 0.0376 - acc: 0.9894\n",
      "Epoch 9/10\n",
      "5548/5548==============================] - 4s 801us/sample - loss: 0.0232 - acc: 0.9924\n",
      "Epoch 10/10\n",
      "5548/5548==============================] - 4s 804us/sample - loss: 0.0158 - acc: 0.9953\n"
     ]
    }
   ],
   "source": [
    "words_context_syntactic_model_1.fit([text_11, text_21, prev_11, prev_21, next_11, next_21, syntactic_11, syntactic_21, relation_1], label_soon, epochs=10)\n",
    "words_context_syntactic_model_1.save('models/coreference_classifiers/words_context_syntactic_soon_20.model')"
   ]
  },
  {
   "cell_type": "markdown",
   "metadata": {},
   "source": [
    "# Gilang-Generated"
   ]
  },
  {
   "cell_type": "code",
   "execution_count": null,
   "metadata": {},
   "outputs": [],
   "source": [
    "text_12, text_22, prev_12, prev_22, next_12, next_22, syntactic_12, syntactic_22, is_singleton_12, is_singleton_22 = get_pair_data(pairs_gilang.m1_id, pairs_gilang.m2_id)\n",
    "relation_2 = get_relation_data(pairs_gilang)\n",
    "label_gilang = np.vstack(to_categorical(pairs_gilang.is_coreference, num_classes=2))"
   ]
  },
  {
   "cell_type": "markdown",
   "metadata": {},
   "source": [
    "## Build Model"
   ]
  },
  {
   "cell_type": "markdown",
   "metadata": {},
   "source": [
    "### Words"
   ]
  },
  {
   "cell_type": "code",
   "execution_count": null,
   "metadata": {},
   "outputs": [],
   "source": [
    "words_model_2 = words_model_builder.create_model()"
   ]
  },
  {
   "cell_type": "code",
   "execution_count": null,
   "metadata": {},
   "outputs": [
    {
     "name": "stdout",
     "output_type": "stream",
     "text": [
      "Epoch 1/5\n",
      "36503/36503==============================] - 14s 376us/sample - loss: 0.0731 - acc: 0.9773\n",
      "Epoch 2/5\n",
      "36503/36503==============================] - 13s 359us/sample - loss: 0.0445 - acc: 0.9829\n",
      "Epoch 3/5\n",
      "36503/36503==============================] - 13s 362us/sample - loss: 0.0405 - acc: 0.9829\n",
      "Epoch 4/5\n",
      "36503/36503==============================] - 13s 359us/sample - loss: 0.0366 - acc: 0.9830\n",
      "Epoch 5/5\n",
      "36503/36503==============================] - 13s 360us/sample - loss: 0.0366 - acc: 0.9830\n"
     ]
    }
   ],
   "source": [
    "words_model_2.fit([text_12, text_22], label_gilang, epochs=5)\n",
    "words_model_2.save('models/coreference_classifiers/words_gilang_5.model')"
   ]
  },
  {
   "cell_type": "code",
   "execution_count": null,
   "metadata": {},
   "outputs": [
    {
     "name": "stdout",
     "output_type": "stream",
     "text": [
      "Epoch 1/5\n",
      "36503/36503==============================] - 13s 358us/sample - loss: 0.0339 - acc: 0.9830\n",
      "Epoch 2/5\n",
      "36503/36503==============================] - 13s 361us/sample - loss: 0.0349 - acc: 0.9830\n",
      "Epoch 3/5\n",
      "36503/36503==============================] - 13s 359us/sample - loss: 0.0324 - acc: 0.9830\n",
      "Epoch 4/5\n",
      "36503/36503==============================] - 13s 360us/sample - loss: 0.0342 - acc: 0.9830\n",
      "Epoch 5/5\n",
      "36503/36503==============================] - 13s 358us/sample - loss: 0.0307 - acc: 0.9830\n"
     ]
    }
   ],
   "source": [
    "words_model_2.fit([text_12, text_22], label_gilang, epochs=5)\n",
    "words_model_2.save('models/coreference_classifiers/words_gilang_10.model')"
   ]
  },
  {
   "cell_type": "code",
   "execution_count": null,
   "metadata": {},
   "outputs": [
    {
     "name": "stdout",
     "output_type": "stream",
     "text": [
      "Epoch 1/10\n",
      "36503/36503==============================] - 13s 359us/sample - loss: 0.0339 - acc: 0.9838\n",
      "Epoch 2/10\n",
      "36503/36503==============================] - 13s 358us/sample - loss: 0.0297 - acc: 0.9841\n",
      "Epoch 3/10\n",
      "36503/36503==============================] - 13s 359us/sample - loss: 0.0281 - acc: 0.9850\n",
      "Epoch 4/10\n",
      "36503/36503==============================] - 13s 360us/sample - loss: 0.0284 - acc: 0.9852\n",
      "Epoch 5/10\n",
      "36503/36503==============================] - 13s 359us/sample - loss: 0.0270 - acc: 0.9856\n",
      "Epoch 6/10\n",
      "36503/36503==============================] - 13s 359us/sample - loss: 0.0276 - acc: 0.9854\n",
      "Epoch 7/10\n",
      "36503/36503==============================] - 13s 358us/sample - loss: 0.0270 - acc: 0.9854\n",
      "Epoch 8/10\n",
      "36503/36503==============================] - 13s 356us/sample - loss: 0.0265 - acc: 0.9856\n",
      "Epoch 9/10\n",
      "36503/36503==============================] - 13s 359us/sample - loss: 0.0264 - acc: 0.9854\n",
      "Epoch 10/10\n",
      "36503/36503==============================] - 13s 358us/sample - loss: 0.0252 - acc: 0.9857\n"
     ]
    }
   ],
   "source": [
    "words_model_2.fit([text_12, text_22], label_gilang, epochs=10)\n",
    "words_model_2.save('models/coreference_classifiers/words_gilang_20.model')"
   ]
  },
  {
   "cell_type": "markdown",
   "metadata": {},
   "source": [
    "### Context"
   ]
  },
  {
   "cell_type": "code",
   "execution_count": null,
   "metadata": {},
   "outputs": [],
   "source": [
    "context_model_2 = context_model_builder.create_model()"
   ]
  },
  {
   "cell_type": "code",
   "execution_count": null,
   "metadata": {},
   "outputs": [
    {
     "name": "stdout",
     "output_type": "stream",
     "text": [
      "Epoch 1/5\n",
      "36503/36503==============================] - 21s 566us/sample - loss: 0.0998 - acc: 0.9827\n",
      "Epoch 2/5\n",
      "36503/36503==============================] - 20s 542us/sample - loss: 0.0735 - acc: 0.9829\n",
      "Epoch 3/5\n",
      "36503/36503==============================] - 20s 539us/sample - loss: 0.0604 - acc: 0.9830\n",
      "Epoch 4/5\n",
      "36503/36503==============================] - 20s 540us/sample - loss: 0.0545 - acc: 0.9827\n",
      "Epoch 5/5\n",
      "36503/36503==============================] - 20s 545us/sample - loss: 0.0480 - acc: 0.9829\n"
     ]
    }
   ],
   "source": [
    "context_model_2.fit([prev_12, prev_22, next_12, next_22], label_gilang, epochs=5)\n",
    "context_model_2.save('models/coreference_classifiers/context_gilang_5.model')"
   ]
  },
  {
   "cell_type": "code",
   "execution_count": null,
   "metadata": {},
   "outputs": [
    {
     "name": "stdout",
     "output_type": "stream",
     "text": [
      "Epoch 1/5\n",
      "36503/36503==============================] - 20s 541us/sample - loss: 0.0430 - acc: 0.9830\n",
      "Epoch 2/5\n",
      "36503/36503==============================] - 20s 544us/sample - loss: 0.0417 - acc: 0.9848\n",
      "Epoch 3/5\n",
      "36503/36503==============================] - 20s 542us/sample - loss: 0.0372 - acc: 0.9859\n",
      "Epoch 4/5\n",
      "36503/36503==============================] - 20s 543us/sample - loss: 0.0341 - acc: 0.9869\n",
      "Epoch 5/5\n",
      "36503/36503==============================] - 20s 539us/sample - loss: 0.0326 - acc: 0.9887\n"
     ]
    }
   ],
   "source": [
    "context_model_2.fit([prev_12, prev_22, next_12, next_22], label_gilang, epochs=5)\n",
    "context_model_2.save('models/coreference_classifiers/context_gilang_10.model')"
   ]
  },
  {
   "cell_type": "code",
   "execution_count": null,
   "metadata": {},
   "outputs": [
    {
     "name": "stdout",
     "output_type": "stream",
     "text": [
      "Epoch 1/10\n",
      "36503/36503==============================] - 20s 543us/sample - loss: 0.0303 - acc: 0.9886\n",
      "Epoch 2/10\n",
      "36503/36503==============================] - 20s 542us/sample - loss: 0.0300 - acc: 0.9889\n",
      "Epoch 3/10\n",
      "36503/36503==============================] - 20s 542us/sample - loss: 0.0292 - acc: 0.9896\n",
      "Epoch 4/10\n",
      "36503/36503==============================] - 20s 540us/sample - loss: 0.0258 - acc: 0.9908\n",
      "Epoch 5/10\n",
      "36503/36503==============================] - 20s 544us/sample - loss: 0.0259 - acc: 0.9905\n",
      "Epoch 6/10\n",
      "36503/36503==============================] - 20s 544us/sample - loss: 0.0249 - acc: 0.9907\n",
      "Epoch 7/10\n",
      "36503/36503==============================] - 20s 540us/sample - loss: 0.0255 - acc: 0.9908\n",
      "Epoch 8/10\n",
      "36503/36503==============================] - 20s 544us/sample - loss: 0.0251 - acc: 0.9909\n",
      "Epoch 9/10\n",
      "36503/36503==============================] - 20s 541us/sample - loss: 0.0225 - acc: 0.9919\n",
      "Epoch 10/10\n",
      "36503/36503==============================] - 20s 540us/sample - loss: 0.0225 - acc: 0.9914\n"
     ]
    }
   ],
   "source": [
    "context_model_2.fit([prev_12, prev_22, next_12, next_22], label_gilang, epochs=10)\n",
    "context_model_2.save('models/coreference_classifiers/context_gilang_20.model')"
   ]
  },
  {
   "cell_type": "markdown",
   "metadata": {},
   "source": [
    "### Syntactic"
   ]
  },
  {
   "cell_type": "code",
   "execution_count": null,
   "metadata": {},
   "outputs": [],
   "source": [
    "syntactic_model_2 = syntactic_model_builder.create_model()"
   ]
  },
  {
   "cell_type": "code",
   "execution_count": null,
   "metadata": {},
   "outputs": [
    {
     "name": "stdout",
     "output_type": "stream",
     "text": [
      "Epoch 1/5\n",
      "36503/36503==============================] - 11s 300us/sample - loss: 0.2859 - acc: 0.9575\n",
      "Epoch 2/5\n",
      "36503/36503==============================] - 10s 284us/sample - loss: 0.0517 - acc: 0.9827\n",
      "Epoch 3/5\n",
      "36503/36503==============================] - 10s 283us/sample - loss: 0.0488 - acc: 0.9825\n",
      "Epoch 4/5\n",
      "36503/36503==============================] - 10s 286us/sample - loss: 0.0464 - acc: 0.9824\n",
      "Epoch 5/5\n",
      "36503/36503==============================] - 10s 285us/sample - loss: 0.0424 - acc: 0.9827\n"
     ]
    }
   ],
   "source": [
    "syntactic_model_2.fit([syntactic_12, syntactic_22, relation_2], label_gilang, epochs=5)\n",
    "syntactic_model_2.save('models/coreference_classifiers/syntactic_gilang_5.model')"
   ]
  },
  {
   "cell_type": "code",
   "execution_count": null,
   "metadata": {},
   "outputs": [
    {
     "name": "stdout",
     "output_type": "stream",
     "text": [
      "Epoch 1/5\n",
      "36503/36503==============================] - 10s 285us/sample - loss: 0.0424 - acc: 0.9834\n",
      "Epoch 2/5\n",
      "36503/36503==============================] - 10s 285us/sample - loss: 0.0392 - acc: 0.9843\n",
      "Epoch 3/5\n",
      "36503/36503==============================] - 10s 285us/sample - loss: 0.0400 - acc: 0.9838\n",
      "Epoch 4/5\n",
      "36503/36503==============================] - 10s 282us/sample - loss: 0.0395 - acc: 0.9840\n",
      "Epoch 5/5\n",
      "36503/36503==============================] - 10s 284us/sample - loss: 0.0386 - acc: 0.9843\n"
     ]
    }
   ],
   "source": [
    "syntactic_model_2.fit([syntactic_12, syntactic_22, relation_2], label_gilang, epochs=5)\n",
    "syntactic_model_2.save('models/coreference_classifiers/syntactic_gilang_10.model')"
   ]
  },
  {
   "cell_type": "code",
   "execution_count": null,
   "metadata": {},
   "outputs": [
    {
     "name": "stdout",
     "output_type": "stream",
     "text": [
      "Epoch 1/10\n",
      "36503/36503==============================] - 10s 283us/sample - loss: 0.0393 - acc: 0.9844\n",
      "Epoch 2/10\n",
      "36503/36503==============================] - 10s 284us/sample - loss: 0.0378 - acc: 0.9838\n",
      "Epoch 3/10\n",
      "36503/36503==============================] - 10s 283us/sample - loss: 0.0380 - acc: 0.9843\n",
      "Epoch 4/10\n",
      "36503/36503==============================] - 10s 286us/sample - loss: 0.0376 - acc: 0.9847\n",
      "Epoch 5/10\n",
      "36503/36503==============================] - 10s 285us/sample - loss: 0.0371 - acc: 0.9850\n",
      "Epoch 6/10\n",
      "36503/36503==============================] - 10s 285us/sample - loss: 0.0380 - acc: 0.9843\n",
      "Epoch 7/10\n",
      "36503/36503==============================] - 10s 283us/sample - loss: 0.0372 - acc: 0.9845\n",
      "Epoch 8/10\n",
      "36503/36503==============================] - 10s 285us/sample - loss: 0.0365 - acc: 0.9848\n",
      "Epoch 9/10\n",
      "36503/36503==============================] - 10s 283us/sample - loss: 0.0379 - acc: 0.9844\n",
      "Epoch 10/10\n",
      "36503/36503==============================] - 10s 283us/sample - loss: 0.0371 - acc: 0.9846\n"
     ]
    }
   ],
   "source": [
    "syntactic_model_2.fit([syntactic_12, syntactic_22, relation_2], label_gilang, epochs=10)\n",
    "syntactic_model_2.save('models/coreference_classifiers/syntactic_gilang_20.model')"
   ]
  },
  {
   "cell_type": "markdown",
   "metadata": {},
   "source": [
    "### Words + Context"
   ]
  },
  {
   "cell_type": "code",
   "execution_count": null,
   "metadata": {},
   "outputs": [],
   "source": [
    "words_context_model_2 = words_context_model_builder.create_model()"
   ]
  },
  {
   "cell_type": "code",
   "execution_count": null,
   "metadata": {},
   "outputs": [
    {
     "name": "stdout",
     "output_type": "stream",
     "text": [
      "Epoch 1/5\n",
      "36503/36503==============================] - 27s 731us/sample - loss: 0.0725 - acc: 0.9813\n",
      "Epoch 2/5\n",
      "36503/36503==============================] - 26s 699us/sample - loss: 0.0436 - acc: 0.9829\n",
      "Epoch 3/5\n",
      "36503/36503==============================] - 26s 704us/sample - loss: 0.0386 - acc: 0.9833\n",
      "Epoch 4/5\n",
      "36503/36503==============================] - 25s 698us/sample - loss: 0.0376 - acc: 0.9843\n",
      "Epoch 5/5\n",
      "36503/36503==============================] - 26s 702us/sample - loss: 0.0345 - acc: 0.9862\n"
     ]
    }
   ],
   "source": [
    "words_context_model_2.fit([text_12, text_22, prev_12, prev_22, next_12, next_22], label_gilang, epochs=5)\n",
    "words_context_model_2.save('models/coreference_classifiers/words_context_gilang_5.model')"
   ]
  },
  {
   "cell_type": "code",
   "execution_count": null,
   "metadata": {},
   "outputs": [
    {
     "name": "stdout",
     "output_type": "stream",
     "text": [
      "Epoch 1/5\n",
      "36503/36503==============================] - 25s 696us/sample - loss: 0.0317 - acc: 0.9869\n",
      "Epoch 2/5\n",
      "36503/36503==============================] - 26s 700us/sample - loss: 0.0292 - acc: 0.9879\n",
      "Epoch 3/5\n",
      "36503/36503==============================] - 26s 700us/sample - loss: 0.0291 - acc: 0.9879\n",
      "Epoch 4/5\n",
      "36503/36503==============================] - 26s 700us/sample - loss: 0.0268 - acc: 0.9895\n",
      "Epoch 5/5\n",
      "36503/36503==============================] - 26s 699us/sample - loss: 0.0243 - acc: 0.9895\n"
     ]
    }
   ],
   "source": [
    "words_context_model_2.fit([text_12, text_22, prev_12, prev_22, next_12, next_22], label_gilang, epochs=5)\n",
    "words_context_model_2.save('models/coreference_classifiers/words_context_gilang_10.model')"
   ]
  },
  {
   "cell_type": "code",
   "execution_count": null,
   "metadata": {},
   "outputs": [
    {
     "name": "stdout",
     "output_type": "stream",
     "text": [
      "Epoch 1/10\n",
      "36503/36503==============================] - 26s 699us/sample - loss: 0.0233 - acc: 0.9895\n",
      "Epoch 2/10\n",
      "36503/36503==============================] - 25s 698us/sample - loss: 0.0235 - acc: 0.9902\n",
      "Epoch 3/10\n",
      "36503/36503==============================] - 26s 700us/sample - loss: 0.0235 - acc: 0.9896\n",
      "Epoch 4/10\n",
      "36503/36503==============================] - 26s 702us/sample - loss: 0.0221 - acc: 0.9906\n",
      "Epoch 5/10\n",
      "36503/36503==============================] - 26s 699us/sample - loss: 0.0202 - acc: 0.9908\n",
      "Epoch 6/10\n",
      "36503/36503==============================] - 25s 697us/sample - loss: 0.0221 - acc: 0.9910\n",
      "Epoch 7/10\n",
      "36503/36503==============================] - 25s 698us/sample - loss: 0.0198 - acc: 0.9917\n",
      "Epoch 8/10\n",
      "36503/36503==============================] - 26s 701us/sample - loss: 0.0192 - acc: 0.9912\n",
      "Epoch 9/10\n",
      "36503/36503==============================] - 26s 700us/sample - loss: 0.0195 - acc: 0.9916\n",
      "Epoch 10/10\n",
      "36503/36503==============================] - 26s 700us/sample - loss: 0.0196 - acc: 0.9919\n"
     ]
    }
   ],
   "source": [
    "words_context_model_2.fit([text_12, text_22, prev_12, prev_22, next_12, next_22], label_gilang, epochs=10)\n",
    "words_context_model_2.save('models/coreference_classifiers/words_context_gilang_20.model')"
   ]
  },
  {
   "cell_type": "markdown",
   "metadata": {},
   "source": [
    "### Words + Syntactic"
   ]
  },
  {
   "cell_type": "code",
   "execution_count": null,
   "metadata": {},
   "outputs": [],
   "source": [
    "words_syntactic_model_2 = words_syntactic_model_builder.create_model()"
   ]
  },
  {
   "cell_type": "code",
   "execution_count": null,
   "metadata": {},
   "outputs": [
    {
     "name": "stdout",
     "output_type": "stream",
     "text": [
      "Epoch 1/5\n",
      "36503/36503==============================] - 18s 496us/sample - loss: 0.0617 - acc: 0.9821\n",
      "Epoch 2/5\n",
      "36503/36503==============================] - 17s 474us/sample - loss: 0.0408 - acc: 0.9830\n",
      "Epoch 3/5\n",
      "36503/36503==============================] - 17s 474us/sample - loss: 0.0376 - acc: 0.9828\n",
      "Epoch 4/5\n",
      "36503/36503==============================] - 17s 471us/sample - loss: 0.0352 - acc: 0.9831\n",
      "Epoch 5/5\n",
      "36503/36503==============================] - 17s 472us/sample - loss: 0.0332 - acc: 0.9831\n"
     ]
    }
   ],
   "source": [
    "words_syntactic_model_2.fit([text_12, text_22, syntactic_12, syntactic_22, relation_2], label_gilang, epochs=5)\n",
    "words_syntactic_model_2.save('models/coreference_classifiers/words_syntactic_gilang_5.model')"
   ]
  },
  {
   "cell_type": "code",
   "execution_count": null,
   "metadata": {},
   "outputs": [
    {
     "name": "stdout",
     "output_type": "stream",
     "text": [
      "Epoch 1/5\n",
      "36503/36503==============================] - 17s 471us/sample - loss: 0.0299 - acc: 0.9842\n",
      "Epoch 2/5\n",
      "36503/36503==============================] - 17s 472us/sample - loss: 0.0282 - acc: 0.9846\n",
      "Epoch 3/5\n",
      "36503/36503==============================] - 17s 472us/sample - loss: 0.0291 - acc: 0.9856\n",
      "Epoch 4/5\n",
      "36503/36503==============================] - 17s 474us/sample - loss: 0.0283 - acc: 0.9857\n",
      "Epoch 5/5\n",
      "36503/36503==============================] - 17s 473us/sample - loss: 0.0290 - acc: 0.9849\n"
     ]
    }
   ],
   "source": [
    "words_syntactic_model_2.fit([text_12, text_22, syntactic_12, syntactic_22, relation_2], label_gilang, epochs=5)\n",
    "words_syntactic_model_2.save('models/coreference_classifiers/words_syntactic_gilang_10.model')"
   ]
  },
  {
   "cell_type": "code",
   "execution_count": null,
   "metadata": {},
   "outputs": [
    {
     "name": "stdout",
     "output_type": "stream",
     "text": [
      "Epoch 1/10\n",
      "36503/36503==============================] - 17s 472us/sample - loss: 0.0268 - acc: 0.9857\n",
      "Epoch 2/10\n",
      "36503/36503==============================] - 17s 474us/sample - loss: 0.0263 - acc: 0.9859\n",
      "Epoch 3/10\n",
      "36503/36503==============================] - 17s 472us/sample - loss: 0.0266 - acc: 0.9858\n",
      "Epoch 4/10\n",
      "36503/36503==============================] - 17s 474us/sample - loss: 0.0278 - acc: 0.9859\n",
      "Epoch 5/10\n",
      "36503/36503==============================] - 17s 470us/sample - loss: 0.0266 - acc: 0.9857\n",
      "Epoch 6/10\n",
      "36503/36503==============================] - 17s 472us/sample - loss: 0.0259 - acc: 0.9862\n",
      "Epoch 7/10\n",
      "36503/36503==============================] - 17s 472us/sample - loss: 0.0254 - acc: 0.9869\n",
      "Epoch 8/10\n",
      "36503/36503==============================] - 17s 472us/sample - loss: 0.0247 - acc: 0.9878\n",
      "Epoch 9/10\n",
      "36503/36503==============================] - 17s 472us/sample - loss: 0.0245 - acc: 0.9877\n",
      "Epoch 10/10\n",
      "36503/36503==============================] - 17s 472us/sample - loss: 0.0248 - acc: 0.9875\n"
     ]
    }
   ],
   "source": [
    "words_syntactic_model_2.fit([text_12, text_22, syntactic_12, syntactic_22, relation_2], label_gilang, epochs=10)\n",
    "words_syntactic_model_2.save('models/coreference_classifiers/words_syntactic_gilang_20.model')"
   ]
  },
  {
   "cell_type": "markdown",
   "metadata": {},
   "source": [
    "### Context + Syntactic"
   ]
  },
  {
   "cell_type": "code",
   "execution_count": null,
   "metadata": {},
   "outputs": [],
   "source": [
    "context_syntactic_model_2 = context_syntactic_model_builder.create_model()"
   ]
  },
  {
   "cell_type": "code",
   "execution_count": null,
   "metadata": {},
   "outputs": [
    {
     "name": "stdout",
     "output_type": "stream",
     "text": [
      "Epoch 1/5\n",
      "36503/36503==============================] - 25s 696us/sample - loss: 0.0745 - acc: 0.9814\n",
      "Epoch 2/5\n",
      "36503/36503==============================] - 24s 663us/sample - loss: 0.0517 - acc: 0.9827\n",
      "Epoch 3/5\n",
      "36503/36503==============================] - 24s 665us/sample - loss: 0.0459 - acc: 0.9829\n",
      "Epoch 4/5\n",
      "36503/36503==============================] - 24s 666us/sample - loss: 0.0427 - acc: 0.9829\n",
      "Epoch 5/5\n",
      "36503/36503==============================] - 24s 660us/sample - loss: 0.0393 - acc: 0.9832\n"
     ]
    }
   ],
   "source": [
    "context_syntactic_model_2.fit([prev_12, prev_22, next_12, next_22, syntactic_12, syntactic_22, relation_2], label_gilang, epochs=5)\n",
    "context_syntactic_model_2.save('models/coreference_classifiers/context_syntactic_gilang_5.model')"
   ]
  },
  {
   "cell_type": "code",
   "execution_count": null,
   "metadata": {},
   "outputs": [
    {
     "name": "stdout",
     "output_type": "stream",
     "text": [
      "Epoch 1/5\n",
      "36503/36503==============================] - 24s 661us/sample - loss: 0.0383 - acc: 0.9847\n",
      "Epoch 2/5\n",
      "36503/36503==============================] - 24s 662us/sample - loss: 0.0340 - acc: 0.9865\n",
      "Epoch 3/5\n",
      "36503/36503==============================] - 24s 662us/sample - loss: 0.0315 - acc: 0.9873\n",
      "Epoch 4/5\n",
      "36503/36503==============================] - 24s 663us/sample - loss: 0.0303 - acc: 0.9889\n",
      "Epoch 5/5\n",
      "36503/36503==============================] - 24s 662us/sample - loss: 0.0289 - acc: 0.9894\n"
     ]
    }
   ],
   "source": [
    "context_syntactic_model_2.fit([prev_12, prev_22, next_12, next_22, syntactic_12, syntactic_22, relation_2], label_gilang, epochs=5)\n",
    "context_syntactic_model_2.save('models/coreference_classifiers/context_syntactic_gilang_10.model')"
   ]
  },
  {
   "cell_type": "code",
   "execution_count": null,
   "metadata": {},
   "outputs": [
    {
     "name": "stdout",
     "output_type": "stream",
     "text": [
      "Epoch 1/10\n",
      "36503/36503==============================] - 24s 661us/sample - loss: 0.0263 - acc: 0.9902\n",
      "Epoch 2/10\n",
      "36503/36503==============================] - 24s 666us/sample - loss: 0.0258 - acc: 0.9899\n",
      "Epoch 3/10\n",
      "36503/36503==============================] - 24s 660us/sample - loss: 0.0259 - acc: 0.9903\n",
      "Epoch 4/10\n",
      "36503/36503==============================] - 24s 661us/sample - loss: 0.0234 - acc: 0.9909\n",
      "Epoch 5/10\n",
      "36503/36503==============================] - 24s 669us/sample - loss: 0.0217 - acc: 0.9917\n",
      "Epoch 6/10\n",
      "36503/36503==============================] - 24s 663us/sample - loss: 0.0201 - acc: 0.9922\n",
      "Epoch 7/10\n",
      "36503/36503==============================] - 24s 666us/sample - loss: 0.0209 - acc: 0.9922\n",
      "Epoch 8/10\n",
      "36503/36503==============================] - 24s 661us/sample - loss: 0.0201 - acc: 0.9924\n",
      "Epoch 9/10\n",
      "36503/36503==============================] - 24s 662us/sample - loss: 0.0209 - acc: 0.9920\n",
      "Epoch 10/10\n",
      "36503/36503==============================] - 24s 665us/sample - loss: 0.0196 - acc: 0.9921\n"
     ]
    }
   ],
   "source": [
    "context_syntactic_model_2.fit([prev_12, prev_22, next_12, next_22, syntactic_12, syntactic_22, relation_2], label_gilang, epochs=10)\n",
    "context_syntactic_model_2.save('models/coreference_classifiers/context_syntactic_gilang_20.model')"
   ]
  },
  {
   "cell_type": "markdown",
   "metadata": {},
   "source": [
    "### Words + Context + Syntactic"
   ]
  },
  {
   "cell_type": "code",
   "execution_count": null,
   "metadata": {},
   "outputs": [],
   "source": [
    "words_context_syntactic_model_2 = words_context_syntactic_model_builder.create_model()"
   ]
  },
  {
   "cell_type": "code",
   "execution_count": null,
   "metadata": {},
   "outputs": [
    {
     "name": "stdout",
     "output_type": "stream",
     "text": [
      "Epoch 1/5\n",
      "36503/36503==============================] - 33s 905us/sample - loss: 0.0666 - acc: 0.9821\n",
      "Epoch 2/5\n",
      "36503/36503==============================] - 32s 864us/sample - loss: 0.0430 - acc: 0.9828\n",
      "Epoch 3/5\n",
      "36503/36503==============================] - 32s 863us/sample - loss: 0.0395 - acc: 0.9830\n",
      "Epoch 4/5\n",
      "36503/36503==============================] - 32s 864us/sample - loss: 0.0363 - acc: 0.9832\n",
      "Epoch 5/5\n",
      "36503/36503==============================] - 32s 865us/sample - loss: 0.0343 - acc: 0.9844\n"
     ]
    }
   ],
   "source": [
    "words_context_syntactic_model_2.fit([text_12, text_22, prev_12, prev_22, next_12, next_22, syntactic_12, syntactic_22, relation_2], label_gilang, epochs=5)\n",
    "words_context_syntactic_model_2.save('models/coreference_classifiers/words_context_syntactic_gilang_5.model')"
   ]
  },
  {
   "cell_type": "code",
   "execution_count": null,
   "metadata": {},
   "outputs": [
    {
     "name": "stdout",
     "output_type": "stream",
     "text": [
      "Epoch 1/5\n",
      "36503/36503==============================] - 32s 863us/sample - loss: 0.0308 - acc: 0.9851\n",
      "Epoch 2/5\n",
      "36503/36503==============================] - 32s 864us/sample - loss: 0.0312 - acc: 0.9864\n",
      "Epoch 3/5\n",
      "36503/36503==============================] - 32s 864us/sample - loss: 0.0298 - acc: 0.9873\n",
      "Epoch 4/5\n",
      "36503/36503==============================] - 31s 859us/sample - loss: 0.0272 - acc: 0.9884\n",
      "Epoch 5/5\n",
      "36503/36503==============================] - 31s 862us/sample - loss: 0.0264 - acc: 0.9890\n"
     ]
    }
   ],
   "source": [
    "words_context_syntactic_model_2.fit([text_12, text_22, prev_12, prev_22, next_12, next_22, syntactic_12, syntactic_22, relation_2], label_gilang, epochs=5)\n",
    "words_context_syntactic_model_2.save('models/coreference_classifiers/words_context_syntactic_gilang_10.model')"
   ]
  },
  {
   "cell_type": "code",
   "execution_count": null,
   "metadata": {},
   "outputs": [
    {
     "name": "stdout",
     "output_type": "stream",
     "text": [
      "Epoch 1/10\n",
      "36503/36503==============================] - 31s 862us/sample - loss: 0.0238 - acc: 0.9896\n",
      "Epoch 2/10\n",
      "36503/36503==============================] - 31s 862us/sample - loss: 0.0234 - acc: 0.9898\n",
      "Epoch 3/10\n",
      "36503/36503==============================] - 32s 865us/sample - loss: 0.0231 - acc: 0.9907\n",
      "Epoch 4/10\n",
      "36503/36503==============================] - 32s 866us/sample - loss: 0.0236 - acc: 0.9902\n",
      "Epoch 5/10\n",
      "36503/36503==============================] - 32s 865us/sample - loss: 0.0217 - acc: 0.9905\n",
      "Epoch 6/10\n",
      "36503/36503==============================] - 32s 865us/sample - loss: 0.0243 - acc: 0.9903\n",
      "Epoch 7/10\n",
      "36503/36503==============================] - 32s 865us/sample - loss: 0.0209 - acc: 0.9915\n",
      "Epoch 8/10\n",
      "36503/36503==============================] - 32s 864us/sample - loss: 0.0211 - acc: 0.9912\n",
      "Epoch 9/10\n",
      "36503/36503==============================] - 32s 865us/sample - loss: 0.0200 - acc: 0.9911\n",
      "Epoch 10/10\n",
      "36503/36503==============================] - 32s 865us/sample - loss: 0.0194 - acc: 0.9914\n"
     ]
    }
   ],
   "source": [
    "words_context_syntactic_model_2.fit([text_12, text_22, prev_12, prev_22, next_12, next_22, syntactic_12, syntactic_22, relation_2], label_gilang, epochs=10)\n",
    "words_context_syntactic_model_2.save('models/coreference_classifiers/words_context_syntactic_gilang_20.model')"
   ]
  },
  {
   "cell_type": "markdown",
   "metadata": {},
   "source": [
    "# Budi-Generated"
   ]
  },
  {
   "cell_type": "code",
   "execution_count": 6,
   "metadata": {},
   "outputs": [],
   "source": [
    "text_13, text_23, prev_13, prev_23, next_13, next_23, syntactic_13, syntactic_23, is_singleton_13, is_singleton_23 = get_pair_data(pairs_budi.m1_id, pairs_budi.m2_id)\n",
    "relation_3 = get_relation_data(pairs_budi)\n",
    "label_budi = np.vstack(to_categorical(pairs_budi.is_coreference, num_classes=2))"
   ]
  },
  {
   "cell_type": "markdown",
   "metadata": {},
   "source": [
    "## Build Model"
   ]
  },
  {
   "cell_type": "markdown",
   "metadata": {},
   "source": [
    "### Words + Context + Syntactic"
   ]
  },
  {
   "cell_type": "code",
   "execution_count": 17,
   "metadata": {},
   "outputs": [],
   "source": [
    "words_context_syntactic_model_3 = words_context_syntactic_model_builder.create_model()"
   ]
  },
  {
   "cell_type": "code",
   "execution_count": 19,
   "metadata": {},
   "outputs": [
    {
     "name": "stdout",
     "output_type": "stream",
     "text": [
      "Epoch 1/5\n",
      "158626/158626==============================] - 124s 782us/sample - loss: 0.0389 - acc: 0.9884\n",
      "Epoch 2/5\n",
      "158626/158626==============================] - 123s 777us/sample - loss: 0.0249 - acc: 0.9912\n",
      "Epoch 3/5\n",
      "158626/158626==============================] - 123s 778us/sample - loss: 0.0203 - acc: 0.9927\n",
      "Epoch 4/5\n",
      "158626/158626==============================] - 123s 779us/sample - loss: 0.0167 - acc: 0.9940\n",
      "Epoch 5/5\n",
      "158626/158626==============================] - 123s 777us/sample - loss: 0.0145 - acc: 0.9952\n"
     ]
    }
   ],
   "source": [
    "words_context_syntactic_model_3.fit([text_13, text_23, prev_13, prev_23, next_13, next_23, syntactic_13, syntactic_23, relation_3], label_budi, epochs=5)\n",
    "words_context_syntactic_model_3.save('models/coreference_classifiers/words_context_syntactic_budi_5.model')"
   ]
  },
  {
   "cell_type": "code",
   "execution_count": 20,
   "metadata": {},
   "outputs": [
    {
     "name": "stdout",
     "output_type": "stream",
     "text": [
      "Epoch 1/5\n",
      "158626/158626==============================] - 123s 778us/sample - loss: 0.0123 - acc: 0.9962\n",
      "Epoch 2/5\n",
      "158626/158626==============================] - 124s 779us/sample - loss: 0.0104 - acc: 0.9968\n",
      "Epoch 3/5\n",
      "158626/158626==============================] - 123s 777us/sample - loss: 0.0094 - acc: 0.9972\n",
      "Epoch 4/5\n",
      "158626/158626==============================] - 124s 780us/sample - loss: 0.0078 - acc: 0.9977\n",
      "Epoch 5/5\n",
      "158626/158626==============================] - 123s 778us/sample - loss: 0.0081 - acc: 0.9976\n"
     ]
    }
   ],
   "source": [
    "words_context_syntactic_model_3.fit([text_13, text_23, prev_13, prev_23, next_13, next_23, syntactic_13, syntactic_23, relation_3], label_budi, epochs=5)\n",
    "words_context_syntactic_model_3.save('models/coreference_classifiers/words_context_syntactic_budi_10.model')"
   ]
  },
  {
   "cell_type": "code",
   "execution_count": 21,
   "metadata": {},
   "outputs": [
    {
     "name": "stdout",
     "output_type": "stream",
     "text": [
      "Epoch 1/10\n",
      "158626/158626==============================] - 123s 778us/sample - loss: 0.0070 - acc: 0.9979\n",
      "Epoch 2/10\n",
      "158626/158626==============================] - 124s 781us/sample - loss: 0.0072 - acc: 0.9979\n",
      "Epoch 3/10\n",
      "158626/158626==============================] - 124s 780us/sample - loss: 0.0066 - acc: 0.9981\n",
      "Epoch 4/10\n",
      "158626/158626==============================] - 123s 778us/sample - loss: 0.0062 - acc: 0.9981\n",
      "Epoch 5/10\n",
      "158626/158626==============================] - 124s 779us/sample - loss: 0.0059 - acc: 0.9984\n",
      "Epoch 6/10\n",
      "158626/158626==============================] - 124s 779us/sample - loss: 0.0061 - acc: 0.9983\n",
      "Epoch 7/10\n",
      "158626/158626==============================] - 124s 779us/sample - loss: 0.0052 - acc: 0.9985\n",
      "Epoch 8/10\n",
      "158626/158626==============================] - 124s 779us/sample - loss: 0.0057 - acc: 0.9986\n",
      "Epoch 9/10\n",
      "158626/158626==============================] - 124s 779us/sample - loss: 0.0045 - acc: 0.9988\n",
      "Epoch 10/10\n",
      "158626/158626==============================] - 124s 779us/sample - loss: 0.0065 - acc: 0.9987\n"
     ]
    }
   ],
   "source": [
    "words_context_syntactic_model_3.fit([text_13, text_23, prev_13, prev_23, next_13, next_23, syntactic_13, syntactic_23, relation_3], label_budi, epochs=10)\n",
    "words_context_syntactic_model_3.save('models/coreference_classifiers/words_context_syntactic_budi_20.model')"
   ]
  },
  {
   "cell_type": "code",
   "execution_count": null,
   "metadata": {},
   "outputs": [],
   "source": []
  }
 ],
 "metadata": {
  "kernelspec": {
   "display_name": "Python 3",
   "language": "python",
   "name": "python3"
  },
  "language_info": {
   "codemirror_mode": {
    "name": "ipython",
    "version": 3
   },
   "file_extension": ".py",
   "mimetype": "text/x-python",
   "name": "python",
   "nbconvert_exporter": "python",
   "pygments_lexer": "ipython3",
   "version": "3.6.7"
  }
 },
 "nbformat": 4,
 "nbformat_minor": 2
}
