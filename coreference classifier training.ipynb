{
 "cells": [
  {
   "cell_type": "code",
   "execution_count": 1,
   "metadata": {},
   "outputs": [],
   "source": [
    "import pandas as pd\n",
    "import numpy as np\n",
    "from utils.data_helper import get_markable_dataframe, get_embedding_variables\n",
    "from model_builders.coreference_classifier import CoreferenceClassifierModelBuilder\n",
    "from functools import reduce\n",
    "from tensorflow.keras.utils import to_categorical\n",
    "from tensorflow.keras.preprocessing.sequence import pad_sequences"
   ]
  },
  {
   "cell_type": "code",
   "execution_count": 2,
   "metadata": {},
   "outputs": [],
   "source": [
    "embedding_indexes_file_path = 'helper_files/embedding/embedding_indexes.txt'\n",
    "indexed_embedding_file_path = 'helper_files/embedding/indexed_embedding.txt'\n",
    "\n",
    "word_vector, embedding_matrix, idx_by_word, word_by_idx = get_embedding_variables(embedding_indexes_file_path, indexed_embedding_file_path)"
   ]
  },
  {
   "cell_type": "code",
   "execution_count": 3,
   "metadata": {},
   "outputs": [
    {
     "data": {
      "text/html": [
       "<div>\n",
       "<style scoped>\n",
       "    .dataframe tbody tr th:only-of-type {\n",
       "        vertical-align: middle;\n",
       "    }\n",
       "\n",
       "    .dataframe tbody tr th {\n",
       "        vertical-align: top;\n",
       "    }\n",
       "\n",
       "    .dataframe thead th {\n",
       "        text-align: right;\n",
       "    }\n",
       "</style>\n",
       "<table border=\"1\" class=\"dataframe\">\n",
       "  <thead>\n",
       "    <tr style=\"text-align: right;\">\n",
       "      <th></th>\n",
       "      <th>id</th>\n",
       "      <th>text</th>\n",
       "      <th>is_pronoun</th>\n",
       "      <th>entity_type</th>\n",
       "      <th>is_proper_name</th>\n",
       "      <th>is_first_person</th>\n",
       "      <th>num_words</th>\n",
       "      <th>previous_words</th>\n",
       "      <th>next_words</th>\n",
       "      <th>is_singleton</th>\n",
       "    </tr>\n",
       "  </thead>\n",
       "  <tbody>\n",
       "    <tr>\n",
       "      <th>0</th>\n",
       "      <td>1</td>\n",
       "      <td>[1]</td>\n",
       "      <td>0</td>\n",
       "      <td>[0, 0, 0, 1, 0, 0, 0, 0, 0, 0]</td>\n",
       "      <td>0</td>\n",
       "      <td>0</td>\n",
       "      <td>1</td>\n",
       "      <td>[]</td>\n",
       "      <td>[2, 3, 4, 5, 6, 7, 8, 9, 10, 2]</td>\n",
       "      <td>[0.0, 1.0]</td>\n",
       "    </tr>\n",
       "    <tr>\n",
       "      <th>1</th>\n",
       "      <td>2</td>\n",
       "      <td>[4, 5]</td>\n",
       "      <td>0</td>\n",
       "      <td>[0, 0, 0, 0, 0, 0, 0, 0, 0, 1]</td>\n",
       "      <td>0</td>\n",
       "      <td>0</td>\n",
       "      <td>2</td>\n",
       "      <td>[1, 2, 3]</td>\n",
       "      <td>[6, 7, 8, 9, 10, 2, 11, 10, 12, 13]</td>\n",
       "      <td>[0.0, 1.0]</td>\n",
       "    </tr>\n",
       "    <tr>\n",
       "      <th>2</th>\n",
       "      <td>3</td>\n",
       "      <td>[6, 7, 8]</td>\n",
       "      <td>0</td>\n",
       "      <td>[0, 0, 0, 0, 0, 0, 1, 1, 0, 0]</td>\n",
       "      <td>1</td>\n",
       "      <td>0</td>\n",
       "      <td>3</td>\n",
       "      <td>[1, 2, 3, 4, 5]</td>\n",
       "      <td>[9, 10, 2, 11, 10, 12, 13, 14, 15, 16]</td>\n",
       "      <td>[1.0, 0.0]</td>\n",
       "    </tr>\n",
       "    <tr>\n",
       "      <th>3</th>\n",
       "      <td>4</td>\n",
       "      <td>[10]</td>\n",
       "      <td>0</td>\n",
       "      <td>[0, 0, 0, 0, 0, 0, 0, 0, 0, 1]</td>\n",
       "      <td>0</td>\n",
       "      <td>0</td>\n",
       "      <td>1</td>\n",
       "      <td>[1, 2, 3, 4, 5, 6, 7, 8, 9]</td>\n",
       "      <td>[2, 11, 10, 12, 13, 14, 15, 16, 17, 18]</td>\n",
       "      <td>[0.0, 1.0]</td>\n",
       "    </tr>\n",
       "    <tr>\n",
       "      <th>4</th>\n",
       "      <td>5</td>\n",
       "      <td>[10, 12]</td>\n",
       "      <td>0</td>\n",
       "      <td>[0, 0, 0, 0, 0, 0, 0, 0, 0, 1]</td>\n",
       "      <td>0</td>\n",
       "      <td>0</td>\n",
       "      <td>2</td>\n",
       "      <td>[3, 4, 5, 6, 7, 8, 9, 10, 2, 11]</td>\n",
       "      <td>[13, 14, 15, 16, 17, 18, 4, 5, 19, 20]</td>\n",
       "      <td>[0.0, 1.0]</td>\n",
       "    </tr>\n",
       "  </tbody>\n",
       "</table>\n",
       "</div>"
      ],
      "text/plain": [
       "   id       text  is_pronoun                     entity_type  is_proper_name  \\\n",
       "0   1        [1]           0  [0, 0, 0, 1, 0, 0, 0, 0, 0, 0]               0   \n",
       "1   2     [4, 5]           0  [0, 0, 0, 0, 0, 0, 0, 0, 0, 1]               0   \n",
       "2   3  [6, 7, 8]           0  [0, 0, 0, 0, 0, 0, 1, 1, 0, 0]               1   \n",
       "3   4       [10]           0  [0, 0, 0, 0, 0, 0, 0, 0, 0, 1]               0   \n",
       "4   5   [10, 12]           0  [0, 0, 0, 0, 0, 0, 0, 0, 0, 1]               0   \n",
       "\n",
       "   is_first_person  num_words                    previous_words  \\\n",
       "0                0          1                                []   \n",
       "1                0          2                         [1, 2, 3]   \n",
       "2                0          3                   [1, 2, 3, 4, 5]   \n",
       "3                0          1       [1, 2, 3, 4, 5, 6, 7, 8, 9]   \n",
       "4                0          2  [3, 4, 5, 6, 7, 8, 9, 10, 2, 11]   \n",
       "\n",
       "                                next_words is_singleton  \n",
       "0          [2, 3, 4, 5, 6, 7, 8, 9, 10, 2]   [0.0, 1.0]  \n",
       "1      [6, 7, 8, 9, 10, 2, 11, 10, 12, 13]   [0.0, 1.0]  \n",
       "2   [9, 10, 2, 11, 10, 12, 13, 14, 15, 16]   [1.0, 0.0]  \n",
       "3  [2, 11, 10, 12, 13, 14, 15, 16, 17, 18]   [0.0, 1.0]  \n",
       "4   [13, 14, 15, 16, 17, 18, 4, 5, 19, 20]   [0.0, 1.0]  "
      ]
     },
     "execution_count": 3,
     "metadata": {},
     "output_type": "execute_result"
    }
   ],
   "source": [
    "markables = get_markable_dataframe(\"data/training/markables.csv\", word_vector, idx_by_word)\n",
    "\n",
    "markables.head()"
   ]
  },
  {
   "cell_type": "code",
   "execution_count": 90,
   "metadata": {},
   "outputs": [
    {
     "data": {
      "text/html": [
       "<div>\n",
       "<style scoped>\n",
       "    .dataframe tbody tr th:only-of-type {\n",
       "        vertical-align: middle;\n",
       "    }\n",
       "\n",
       "    .dataframe tbody tr th {\n",
       "        vertical-align: top;\n",
       "    }\n",
       "\n",
       "    .dataframe thead th {\n",
       "        text-align: right;\n",
       "    }\n",
       "</style>\n",
       "<table border=\"1\" class=\"dataframe\">\n",
       "  <thead>\n",
       "    <tr style=\"text-align: right;\">\n",
       "      <th></th>\n",
       "      <th>m1_id</th>\n",
       "      <th>m2_id</th>\n",
       "      <th>is_exact_match</th>\n",
       "      <th>is_words_match</th>\n",
       "      <th>is_substring</th>\n",
       "      <th>is_abbreviation</th>\n",
       "      <th>is_appositive</th>\n",
       "      <th>is_nearest_candidate</th>\n",
       "      <th>sentence_distance</th>\n",
       "      <th>word_distance</th>\n",
       "      <th>markable_distance</th>\n",
       "      <th>is_coreference</th>\n",
       "    </tr>\n",
       "  </thead>\n",
       "  <tbody>\n",
       "    <tr>\n",
       "      <th>0</th>\n",
       "      <td>3</td>\n",
       "      <td>11</td>\n",
       "      <td>0</td>\n",
       "      <td>0</td>\n",
       "      <td>0</td>\n",
       "      <td>0</td>\n",
       "      <td>0</td>\n",
       "      <td>0</td>\n",
       "      <td>2</td>\n",
       "      <td>31</td>\n",
       "      <td>8</td>\n",
       "      <td>1</td>\n",
       "    </tr>\n",
       "    <tr>\n",
       "      <th>1</th>\n",
       "      <td>4</td>\n",
       "      <td>11</td>\n",
       "      <td>0</td>\n",
       "      <td>0</td>\n",
       "      <td>0</td>\n",
       "      <td>0</td>\n",
       "      <td>0</td>\n",
       "      <td>0</td>\n",
       "      <td>2</td>\n",
       "      <td>29</td>\n",
       "      <td>7</td>\n",
       "      <td>0</td>\n",
       "    </tr>\n",
       "    <tr>\n",
       "      <th>2</th>\n",
       "      <td>5</td>\n",
       "      <td>11</td>\n",
       "      <td>0</td>\n",
       "      <td>0</td>\n",
       "      <td>0</td>\n",
       "      <td>0</td>\n",
       "      <td>0</td>\n",
       "      <td>0</td>\n",
       "      <td>2</td>\n",
       "      <td>25</td>\n",
       "      <td>6</td>\n",
       "      <td>0</td>\n",
       "    </tr>\n",
       "    <tr>\n",
       "      <th>3</th>\n",
       "      <td>6</td>\n",
       "      <td>11</td>\n",
       "      <td>0</td>\n",
       "      <td>0</td>\n",
       "      <td>0</td>\n",
       "      <td>0</td>\n",
       "      <td>0</td>\n",
       "      <td>0</td>\n",
       "      <td>2</td>\n",
       "      <td>16</td>\n",
       "      <td>5</td>\n",
       "      <td>0</td>\n",
       "    </tr>\n",
       "    <tr>\n",
       "      <th>4</th>\n",
       "      <td>7</td>\n",
       "      <td>11</td>\n",
       "      <td>0</td>\n",
       "      <td>0</td>\n",
       "      <td>0</td>\n",
       "      <td>0</td>\n",
       "      <td>0</td>\n",
       "      <td>0</td>\n",
       "      <td>1</td>\n",
       "      <td>14</td>\n",
       "      <td>4</td>\n",
       "      <td>0</td>\n",
       "    </tr>\n",
       "  </tbody>\n",
       "</table>\n",
       "</div>"
      ],
      "text/plain": [
       "   m1_id  m2_id  is_exact_match  is_words_match  is_substring  \\\n",
       "0      3     11               0               0             0   \n",
       "1      4     11               0               0             0   \n",
       "2      5     11               0               0             0   \n",
       "3      6     11               0               0             0   \n",
       "4      7     11               0               0             0   \n",
       "\n",
       "   is_abbreviation  is_appositive  is_nearest_candidate  sentence_distance  \\\n",
       "0                0              0                     0                  2   \n",
       "1                0              0                     0                  2   \n",
       "2                0              0                     0                  2   \n",
       "3                0              0                     0                  2   \n",
       "4                0              0                     0                  1   \n",
       "\n",
       "   word_distance  markable_distance  is_coreference  \n",
       "0             31                  8               1  \n",
       "1             29                  7               0  \n",
       "2             25                  6               0  \n",
       "3             16                  5               0  \n",
       "4             14                  4               0  "
      ]
     },
     "execution_count": 90,
     "metadata": {},
     "output_type": "execute_result"
    }
   ],
   "source": [
    "# pairs_budi = pd.read_csv(\"data/training/mention_pairs_budi.csv\")\n",
    "pairs_soon = pd.read_csv(\"data/training/mention_pairs_soon.csv\")\n",
    "pairs_gilang = pd.read_csv(\"data/training/mention_pairs_gilang.csv\")\n",
    "\n",
    "pairs_soon.head()"
   ]
  },
  {
   "cell_type": "code",
   "execution_count": 5,
   "metadata": {},
   "outputs": [],
   "source": [
    "max_text_length = 10\n",
    "max_prev_words_length = 10\n",
    "max_next_words_length = 10\n",
    "\n",
    "def get_data(markable_ids):\n",
    "    indices = reduce(lambda a, b: a + [b], map(lambda a: markables.index[markables['id'] == a].tolist()[0], markable_ids), [])\n",
    "    data = markables.loc[indices]\n",
    "    \n",
    "    data_text = pad_sequences(data.text, maxlen=max_text_length, padding='post')\n",
    "    data_previous_words = pad_sequences(data.previous_words.map(lambda seq: seq[(-1*max_prev_words_length):]), maxlen=max_prev_words_length, padding='pre')\n",
    "    data_next_words = pad_sequences(data.next_words.map(lambda seq: seq[:max_next_words_length]), maxlen=max_next_words_length, padding='post')\n",
    "    data_syntactic = data[['is_pronoun', 'entity_type', 'is_proper_name', 'is_first_person']]\n",
    "\n",
    "    data_syntactic = np.array(list(map(lambda p: reduce(lambda x,y: x + y, [i if type(i) is list else [i] for i in p]), data_syntactic.values)))\n",
    "    is_singleton = np.vstack(data.is_singleton)\n",
    "    \n",
    "    return data_text, data_previous_words, data_next_words, data_syntactic, is_singleton\n",
    "\n",
    "def get_pair_data(markable_ids_1, markable_ids_2):\n",
    "    text_1, prev_1, next_1, syntactic_1, is_singleton_1 = get_data(markable_ids_1)\n",
    "    text_2, prev_2, next_2, syntactic_2, is_singleton_2 = get_data(markable_ids_2)\n",
    "    \n",
    "    return text_1, text_2, prev_1, prev_2, next_1, next_2, syntactic_1, syntactic_2, is_singleton_1, is_singleton_2\n",
    "\n",
    "def get_relation_data(mention_pairs):\n",
    "    return mention_pairs[['is_exact_match', 'is_words_match', 'is_substring', 'is_abbreviation', 'is_appositive', 'is_nearest_candidate', 'sentence_distance', 'word_distance', 'markable_distance']]"
   ]
  },
  {
   "cell_type": "markdown",
   "metadata": {},
   "source": [
    "# Soon-Generated"
   ]
  },
  {
   "cell_type": "code",
   "execution_count": 6,
   "metadata": {},
   "outputs": [],
   "source": [
    "text_11, text_21, prev_11, prev_21, next_11, next_21, syntactic_11, syntactic_21, is_singleton_11, is_singleton_21 = get_pair_data(pairs_soon.m1_id, pairs_soon.m2_id)\n",
    "relation_1 = get_relation_data(pairs_soon)\n",
    "label_soon = np.vstack(to_categorical(pairs_soon.is_coreference, num_classes=2))"
   ]
  },
  {
   "cell_type": "markdown",
   "metadata": {},
   "source": [
    "## Build Model"
   ]
  },
  {
   "cell_type": "markdown",
   "metadata": {},
   "source": [
    "### Word"
   ]
  },
  {
   "cell_type": "code",
   "execution_count": 7,
   "metadata": {},
   "outputs": [],
   "source": [
    "words_model_builder = CoreferenceClassifierModelBuilder(\n",
    "    use_words_feature=True, \n",
    "    use_context_feature=False, \n",
    "    use_syntactic_feature=False,\n",
    "    use_relation_feature=False,\n",
    "    embedding_matrix=embedding_matrix\n",
    ")"
   ]
  },
  {
   "cell_type": "code",
   "execution_count": 8,
   "metadata": {},
   "outputs": [],
   "source": [
    "words_model_1 = words_model_builder.create_model()"
   ]
  },
  {
   "cell_type": "code",
   "execution_count": 9,
   "metadata": {},
   "outputs": [
    {
     "name": "stdout",
     "output_type": "stream",
     "text": [
      "Epoch 1/10\n",
      "5548/5548 [==============================] - 8s 1ms/step - loss: 0.3057 - acc: 0.8836\n",
      "Epoch 2/10\n",
      "5548/5548 [==============================] - 5s 819us/step - loss: 0.2285 - acc: 0.8850\n",
      "Epoch 3/10\n",
      "5548/5548 [==============================] - 5s 855us/step - loss: 0.1967 - acc: 0.9009\n",
      "Epoch 4/10\n",
      "5548/5548 [==============================] - 5s 853us/step - loss: 0.1703 - acc: 0.9174\n",
      "Epoch 5/10\n",
      "5548/5548 [==============================] - 5s 848us/step - loss: 0.1646 - acc: 0.9182\n",
      "Epoch 6/10\n",
      "5548/5548 [==============================] - 5s 871us/step - loss: 0.1471 - acc: 0.9279\n",
      "Epoch 7/10\n",
      "5548/5548 [==============================] - 5s 856us/step - loss: 0.1351 - acc: 0.9346\n",
      "Epoch 8/10\n",
      "5548/5548 [==============================] - 5s 856us/step - loss: 0.1305 - acc: 0.9391\n",
      "Epoch 9/10\n",
      "5548/5548 [==============================] - 5s 907us/step - loss: 0.1286 - acc: 0.9400\n",
      "Epoch 10/10\n",
      "5548/5548 [==============================] - 5s 925us/step - loss: 0.1131 - acc: 0.9486\n"
     ]
    },
    {
     "data": {
      "text/plain": [
       "<tensorflow.python.keras.callbacks.History at 0x1a422f4320>"
      ]
     },
     "execution_count": 9,
     "metadata": {},
     "output_type": "execute_result"
    }
   ],
   "source": [
    "words_model_1.fit([text_11, text_21], label_soon, epochs=10)"
   ]
  },
  {
   "cell_type": "code",
   "execution_count": 10,
   "metadata": {},
   "outputs": [],
   "source": [
    "#words_model_1.save('models/coreference_classifiers/words_soon.model')"
   ]
  },
  {
   "cell_type": "markdown",
   "metadata": {},
   "source": [
    "### Context"
   ]
  },
  {
   "cell_type": "code",
   "execution_count": 11,
   "metadata": {},
   "outputs": [],
   "source": [
    "context_model_builder = CoreferenceClassifierModelBuilder(\n",
    "    use_words_feature=False, \n",
    "    use_context_feature=True, \n",
    "    use_syntactic_feature=False,\n",
    "    use_relation_feature=False,\n",
    "    embedding_matrix=embedding_matrix\n",
    ")"
   ]
  },
  {
   "cell_type": "code",
   "execution_count": 12,
   "metadata": {},
   "outputs": [],
   "source": [
    "context_model_1 = context_model_builder.create_model()"
   ]
  },
  {
   "cell_type": "code",
   "execution_count": 13,
   "metadata": {},
   "outputs": [
    {
     "name": "stdout",
     "output_type": "stream",
     "text": [
      "Epoch 1/10\n",
      "5548/5548 [==============================] - 14s 3ms/step - loss: 0.3868 - acc: 0.8773\n",
      "Epoch 2/10\n",
      "5548/5548 [==============================] - 9s 2ms/step - loss: 0.3614 - acc: 0.8866\n",
      "Epoch 3/10\n",
      "5548/5548 [==============================] - 9s 2ms/step - loss: 0.3330 - acc: 0.8875\n",
      "Epoch 4/10\n",
      "5548/5548 [==============================] - 9s 2ms/step - loss: 0.3114 - acc: 0.8877\n",
      "Epoch 5/10\n",
      "5548/5548 [==============================] - 9s 2ms/step - loss: 0.2843 - acc: 0.8875\n",
      "Epoch 6/10\n",
      "5548/5548 [==============================] - 9s 2ms/step - loss: 0.2546 - acc: 0.8881\n",
      "Epoch 7/10\n",
      "5548/5548 [==============================] - 9s 2ms/step - loss: 0.2378 - acc: 0.8877\n",
      "Epoch 8/10\n",
      "5548/5548 [==============================] - 9s 2ms/step - loss: 0.2107 - acc: 0.8926\n",
      "Epoch 9/10\n",
      "5548/5548 [==============================] - 10s 2ms/step - loss: 0.2132 - acc: 0.9025\n",
      "Epoch 10/10\n",
      "5548/5548 [==============================] - 9s 2ms/step - loss: 0.1979 - acc: 0.9056\n"
     ]
    },
    {
     "data": {
      "text/plain": [
       "<tensorflow.python.keras.callbacks.History at 0x1a4f851a20>"
      ]
     },
     "execution_count": 13,
     "metadata": {},
     "output_type": "execute_result"
    }
   ],
   "source": [
    "context_model_1.fit([prev_11, prev_21, next_11, next_21], label_soon, epochs=10)"
   ]
  },
  {
   "cell_type": "code",
   "execution_count": 14,
   "metadata": {},
   "outputs": [],
   "source": [
    "#context_model_1.save('models/coreference_classifiers/context_soon.model')"
   ]
  },
  {
   "cell_type": "markdown",
   "metadata": {},
   "source": [
    "### Syntactic"
   ]
  },
  {
   "cell_type": "code",
   "execution_count": 15,
   "metadata": {},
   "outputs": [],
   "source": [
    "syntactic_model_builder = CoreferenceClassifierModelBuilder(\n",
    "    use_words_feature=False, \n",
    "    use_context_feature=False, \n",
    "    use_syntactic_feature=True,\n",
    "    use_relation_feature=True,\n",
    "    embedding_matrix=embedding_matrix,\n",
    "    syntactic_features_num=syntactic_11.shape[1],\n",
    "    relation_features_num=relation_1.shape[1]\n",
    ")"
   ]
  },
  {
   "cell_type": "code",
   "execution_count": 16,
   "metadata": {},
   "outputs": [],
   "source": [
    "syntactic_model_1 = syntactic_model_builder.create_model()"
   ]
  },
  {
   "cell_type": "code",
   "execution_count": 17,
   "metadata": {},
   "outputs": [
    {
     "name": "stdout",
     "output_type": "stream",
     "text": [
      "Epoch 1/10\n",
      "5548/5548 [==============================] - 4s 670us/step - loss: 0.3641 - acc: 0.8839\n",
      "Epoch 2/10\n",
      "5548/5548 [==============================] - 1s 212us/step - loss: 0.2560 - acc: 0.8854\n",
      "Epoch 3/10\n",
      "5548/5548 [==============================] - 1s 199us/step - loss: 0.2435 - acc: 0.8870\n",
      "Epoch 4/10\n",
      "5548/5548 [==============================] - 1s 199us/step - loss: 0.2315 - acc: 0.8873\n",
      "Epoch 5/10\n",
      "5548/5548 [==============================] - 1s 204us/step - loss: 0.2281 - acc: 0.8931\n",
      "Epoch 6/10\n",
      "5548/5548 [==============================] - 1s 207us/step - loss: 0.2247 - acc: 0.8974\n",
      "Epoch 7/10\n",
      "5548/5548 [==============================] - 1s 210us/step - loss: 0.2080 - acc: 0.9050\n",
      "Epoch 8/10\n",
      "5548/5548 [==============================] - 1s 196us/step - loss: 0.1863 - acc: 0.9207\n",
      "Epoch 9/10\n",
      "5548/5548 [==============================] - 1s 215us/step - loss: 0.1781 - acc: 0.9252\n",
      "Epoch 10/10\n",
      "5548/5548 [==============================] - 1s 212us/step - loss: 0.1669 - acc: 0.9286\n"
     ]
    },
    {
     "data": {
      "text/plain": [
       "<tensorflow.python.keras.callbacks.History at 0x1a4e2ec470>"
      ]
     },
     "execution_count": 17,
     "metadata": {},
     "output_type": "execute_result"
    }
   ],
   "source": [
    "syntactic_model_1.fit([syntactic_11, syntactic_21, relation_1], label_soon, epochs=10)"
   ]
  },
  {
   "cell_type": "code",
   "execution_count": 24,
   "metadata": {},
   "outputs": [],
   "source": [
    "#syntactic_model_1.save('models/coreference_classifiers/syntactic_soon.model')"
   ]
  },
  {
   "cell_type": "markdown",
   "metadata": {},
   "source": [
    "### Words + Context"
   ]
  },
  {
   "cell_type": "code",
   "execution_count": 20,
   "metadata": {},
   "outputs": [],
   "source": [
    "words_context_model_builder = CoreferenceClassifierModelBuilder(\n",
    "    use_words_feature=True, \n",
    "    use_context_feature=True, \n",
    "    use_syntactic_feature=False,\n",
    "    use_relation_feature=False,\n",
    "    embedding_matrix=embedding_matrix,\n",
    ")"
   ]
  },
  {
   "cell_type": "code",
   "execution_count": 21,
   "metadata": {},
   "outputs": [],
   "source": [
    "words_context_model_1 = words_context_model_builder.create_model()"
   ]
  },
  {
   "cell_type": "code",
   "execution_count": 22,
   "metadata": {},
   "outputs": [
    {
     "name": "stdout",
     "output_type": "stream",
     "text": [
      "Epoch 1/10\n",
      "5548/5548 [==============================] - 21s 4ms/step - loss: 0.3397 - acc: 0.8691\n",
      "Epoch 2/10\n",
      "5548/5548 [==============================] - 12s 2ms/step - loss: 0.2331 - acc: 0.8877\n",
      "Epoch 3/10\n",
      "5548/5548 [==============================] - 13s 2ms/step - loss: 0.2006 - acc: 0.8962\n",
      "Epoch 4/10\n",
      "5548/5548 [==============================] - 13s 2ms/step - loss: 0.1929 - acc: 0.9039\n",
      "Epoch 5/10\n",
      "5548/5548 [==============================] - 13s 2ms/step - loss: 0.1752 - acc: 0.9164\n",
      "Epoch 6/10\n",
      "5548/5548 [==============================] - 13s 2ms/step - loss: 0.1526 - acc: 0.9286\n",
      "Epoch 7/10\n",
      "5548/5548 [==============================] - 15s 3ms/step - loss: 0.1395 - acc: 0.9340\n",
      "Epoch 8/10\n",
      "5548/5548 [==============================] - 12s 2ms/step - loss: 0.1357 - acc: 0.9387\n",
      "Epoch 9/10\n",
      "5548/5548 [==============================] - 15s 3ms/step - loss: 0.1159 - acc: 0.9497\n",
      "Epoch 10/10\n",
      "5548/5548 [==============================] - 12s 2ms/step - loss: 0.1082 - acc: 0.9539\n"
     ]
    },
    {
     "data": {
      "text/plain": [
       "<tensorflow.python.keras.callbacks.History at 0x1a5e70ffd0>"
      ]
     },
     "execution_count": 22,
     "metadata": {},
     "output_type": "execute_result"
    }
   ],
   "source": [
    "words_context_model_1.fit([text_11, text_21, prev_11, prev_21, next_11, next_21], label_soon, epochs=10)"
   ]
  },
  {
   "cell_type": "code",
   "execution_count": 26,
   "metadata": {},
   "outputs": [],
   "source": [
    "#words_context_model_1.save('models/coreference_classifiers/words_context_soon.model')"
   ]
  },
  {
   "cell_type": "markdown",
   "metadata": {},
   "source": [
    "### Words + Syntactic"
   ]
  },
  {
   "cell_type": "code",
   "execution_count": 44,
   "metadata": {},
   "outputs": [],
   "source": [
    "words_syntactic_model_builder = CoreferenceClassifierModelBuilder(\n",
    "    use_words_feature=True, \n",
    "    use_context_feature=False, \n",
    "    use_syntactic_feature=True,\n",
    "    use_relation_feature=True,\n",
    "    embedding_matrix=embedding_matrix,\n",
    "    syntactic_features_num=syntactic_11.shape[1],\n",
    "    relation_features_num=relation_1.shape[1]\n",
    ")"
   ]
  },
  {
   "cell_type": "code",
   "execution_count": 30,
   "metadata": {},
   "outputs": [],
   "source": [
    "words_syntactic_model_1 = words_syntactic_model_builder.create_model()"
   ]
  },
  {
   "cell_type": "code",
   "execution_count": 31,
   "metadata": {},
   "outputs": [
    {
     "name": "stdout",
     "output_type": "stream",
     "text": [
      "Epoch 1/10\n",
      "5548/5548 [==============================] - 11s 2ms/step - loss: 0.3572 - acc: 0.8612\n",
      "Epoch 2/10\n",
      "5548/5548 [==============================] - 5s 946us/step - loss: 0.2290 - acc: 0.8861\n",
      "Epoch 3/10\n",
      "5548/5548 [==============================] - 7s 1ms/step - loss: 0.1913 - acc: 0.9097\n",
      "Epoch 4/10\n",
      "5548/5548 [==============================] - 6s 1ms/step - loss: 0.1661 - acc: 0.9194\n",
      "Epoch 5/10\n",
      "5548/5548 [==============================] - 6s 1ms/step - loss: 0.1513 - acc: 0.9274\n",
      "Epoch 6/10\n",
      "5548/5548 [==============================] - 5s 983us/step - loss: 0.1394 - acc: 0.9402\n",
      "Epoch 7/10\n",
      "5548/5548 [==============================] - 6s 1ms/step - loss: 0.1269 - acc: 0.9466\n",
      "Epoch 8/10\n",
      "5548/5548 [==============================] - 6s 1ms/step - loss: 0.1150 - acc: 0.9506\n",
      "Epoch 9/10\n",
      "5548/5548 [==============================] - 6s 1ms/step - loss: 0.1104 - acc: 0.9557\n",
      "Epoch 10/10\n",
      "5548/5548 [==============================] - 6s 1ms/step - loss: 0.1080 - acc: 0.9578\n"
     ]
    },
    {
     "data": {
      "text/plain": [
       "<tensorflow.python.keras.callbacks.History at 0x1a5defdf98>"
      ]
     },
     "execution_count": 31,
     "metadata": {},
     "output_type": "execute_result"
    }
   ],
   "source": [
    "words_syntactic_model_1.fit([text_11, text_21, syntactic_11, syntactic_21, relation_1], label_soon, epochs=10)"
   ]
  },
  {
   "cell_type": "code",
   "execution_count": 33,
   "metadata": {},
   "outputs": [],
   "source": [
    "#words_syntactic_model_1.save('models/coreference_classifiers/words_syntactic_soon.model')"
   ]
  },
  {
   "cell_type": "markdown",
   "metadata": {},
   "source": [
    "### Context + Syntactic"
   ]
  },
  {
   "cell_type": "code",
   "execution_count": 36,
   "metadata": {},
   "outputs": [],
   "source": [
    "context_syntactic_model_builder = CoreferenceClassifierModelBuilder(\n",
    "    use_words_feature=False, \n",
    "    use_context_feature=True, \n",
    "    use_syntactic_feature=True,\n",
    "    use_relation_feature=True,\n",
    "    embedding_matrix=embedding_matrix,\n",
    "    syntactic_features_num=syntactic_11.shape[1],\n",
    "    relation_features_num=relation_1.shape[1]\n",
    ")"
   ]
  },
  {
   "cell_type": "code",
   "execution_count": 37,
   "metadata": {},
   "outputs": [],
   "source": [
    "context_syntactic_model_1 = context_syntactic_model_builder.create_model()"
   ]
  },
  {
   "cell_type": "code",
   "execution_count": 38,
   "metadata": {},
   "outputs": [
    {
     "name": "stdout",
     "output_type": "stream",
     "text": [
      "Epoch 1/10\n",
      "5548/5548 [==============================] - 18s 3ms/step - loss: 0.4378 - acc: 0.8717\n",
      "Epoch 2/10\n",
      "5548/5548 [==============================] - 11s 2ms/step - loss: 0.2795 - acc: 0.8868\n",
      "Epoch 3/10\n",
      "5548/5548 [==============================] - 10s 2ms/step - loss: 0.2373 - acc: 0.8877\n",
      "Epoch 4/10\n",
      "5548/5548 [==============================] - 11s 2ms/step - loss: 0.2257 - acc: 0.8881\n",
      "Epoch 5/10\n",
      "5548/5548 [==============================] - 11s 2ms/step - loss: 0.2136 - acc: 0.8877\n",
      "Epoch 6/10\n",
      "5548/5548 [==============================] - 11s 2ms/step - loss: 0.1952 - acc: 0.8866\n",
      "Epoch 7/10\n",
      "5548/5548 [==============================] - 11s 2ms/step - loss: 0.1903 - acc: 0.9043\n",
      "Epoch 8/10\n",
      "5548/5548 [==============================] - 11s 2ms/step - loss: 0.1696 - acc: 0.9198\n",
      "Epoch 9/10\n",
      "5548/5548 [==============================] - 11s 2ms/step - loss: 0.1629 - acc: 0.9268\n",
      "Epoch 10/10\n",
      "5548/5548 [==============================] - 11s 2ms/step - loss: 0.1529 - acc: 0.9360\n"
     ]
    },
    {
     "data": {
      "text/plain": [
       "<tensorflow.python.keras.callbacks.History at 0x1a64045630>"
      ]
     },
     "execution_count": 38,
     "metadata": {},
     "output_type": "execute_result"
    }
   ],
   "source": [
    "context_syntactic_model_1.fit([prev_11, prev_21, next_11, next_21, syntactic_11, syntactic_21, relation_1], label_soon, epochs=10)"
   ]
  },
  {
   "cell_type": "code",
   "execution_count": 40,
   "metadata": {},
   "outputs": [],
   "source": [
    "#context_syntactic_model_1.save('models/coreference_classifiers/context_syntactic_soon.model')"
   ]
  },
  {
   "cell_type": "code",
   "execution_count": 43,
   "metadata": {},
   "outputs": [],
   "source": [
    "words_context_syntactic_model_builder = CoreferenceClassifierModelBuilder(\n",
    "    use_words_feature=True, \n",
    "    use_context_feature=True, \n",
    "    use_syntactic_feature=True,\n",
    "    use_relation_feature=True,\n",
    "    embedding_matrix=embedding_matrix,\n",
    "    syntactic_features_num=syntactic_11.shape[1],\n",
    "    relation_features_num=relation_1.shape[1]\n",
    ")"
   ]
  },
  {
   "cell_type": "code",
   "execution_count": 45,
   "metadata": {},
   "outputs": [],
   "source": [
    "words_context_syntactic_model_1 = words_context_syntactic_model_builder.create_model()"
   ]
  },
  {
   "cell_type": "code",
   "execution_count": 58,
   "metadata": {},
   "outputs": [
    {
     "name": "stdout",
     "output_type": "stream",
     "text": [
      "Epoch 1/10\n",
      "5548/5548 [==============================] - 19s 3ms/step - loss: 0.0955 - acc: 0.9643\n",
      "Epoch 2/10\n",
      "5548/5548 [==============================] - 18s 3ms/step - loss: 0.0779 - acc: 0.9679\n",
      "Epoch 3/10\n",
      "5548/5548 [==============================] - 14s 3ms/step - loss: 0.0687 - acc: 0.9744\n",
      "Epoch 4/10\n",
      "5548/5548 [==============================] - 14s 3ms/step - loss: 0.0649 - acc: 0.9776\n",
      "Epoch 5/10\n",
      "5548/5548 [==============================] - 14s 3ms/step - loss: 0.0627 - acc: 0.9787\n",
      "Epoch 6/10\n",
      "5548/5548 [==============================] - 15s 3ms/step - loss: 0.0573 - acc: 0.9818\n",
      "Epoch 7/10\n",
      "5548/5548 [==============================] - 15s 3ms/step - loss: 0.0356 - acc: 0.9861\n",
      "Epoch 8/10\n",
      "5548/5548 [==============================] - 15s 3ms/step - loss: 0.0465 - acc: 0.9863\n",
      "Epoch 9/10\n",
      "5548/5548 [==============================] - 15s 3ms/step - loss: 0.0297 - acc: 0.9899\n",
      "Epoch 10/10\n",
      "5548/5548 [==============================] - 15s 3ms/step - loss: 0.0483 - acc: 0.9863\n"
     ]
    },
    {
     "data": {
      "text/plain": [
       "<tensorflow.python.keras.callbacks.History at 0x1a70b30278>"
      ]
     },
     "execution_count": 58,
     "metadata": {},
     "output_type": "execute_result"
    }
   ],
   "source": [
    "words_context_syntactic_model_1.fit([text_11, text_21, prev_11, prev_21, next_11, next_21, syntactic_11, syntactic_21, relation_1], label_soon, epochs=10)"
   ]
  },
  {
   "cell_type": "code",
   "execution_count": 59,
   "metadata": {},
   "outputs": [],
   "source": [
    "#words_context_syntactic_model_1.save('models/coreference_classifiers/words_context_syntactic_soon.model')"
   ]
  },
  {
   "cell_type": "markdown",
   "metadata": {},
   "source": [
    "# Gilang-Generated"
   ]
  },
  {
   "cell_type": "code",
   "execution_count": 91,
   "metadata": {},
   "outputs": [],
   "source": [
    "text_12, text_22, prev_12, prev_22, next_12, next_22, syntactic_12, syntactic_22, is_singleton_12, is_singleton_22 = get_pair_data(pairs_gilang.m1_id, pairs_gilang.m2_id)\n",
    "relation_2 = get_relation_data(pairs_gilang)\n",
    "label_gilang = np.vstack(to_categorical(pairs_gilang.is_coreference, num_classes=2))"
   ]
  },
  {
   "cell_type": "markdown",
   "metadata": {},
   "source": [
    "## Build Model"
   ]
  },
  {
   "cell_type": "markdown",
   "metadata": {},
   "source": [
    "### Words"
   ]
  },
  {
   "cell_type": "code",
   "execution_count": 92,
   "metadata": {},
   "outputs": [],
   "source": [
    "words_model_2 = words_model_builder.create_model()"
   ]
  },
  {
   "cell_type": "code",
   "execution_count": 93,
   "metadata": {},
   "outputs": [
    {
     "name": "stdout",
     "output_type": "stream",
     "text": [
      "Epoch 1/10\n",
      "36503/36503 [==============================] - 42s 1ms/step - loss: 0.0673 - acc: 0.9819\n",
      "Epoch 2/10\n",
      "36503/36503 [==============================] - 35s 963us/step - loss: 0.0466 - acc: 0.9829\n",
      "Epoch 3/10\n",
      "36503/36503 [==============================] - 44s 1ms/step - loss: 0.0396 - acc: 0.9829\n",
      "Epoch 4/10\n",
      "36503/36503 [==============================] - 45s 1ms/step - loss: 0.0376 - acc: 0.9829\n",
      "Epoch 5/10\n",
      "36503/36503 [==============================] - 48s 1ms/step - loss: 0.0375 - acc: 0.9829\n",
      "Epoch 6/10\n",
      "36503/36503 [==============================] - 46s 1ms/step - loss: 0.0339 - acc: 0.9829\n",
      "Epoch 7/10\n",
      "36503/36503 [==============================] - 45s 1ms/step - loss: 0.0332 - acc: 0.9830\n",
      "Epoch 8/10\n",
      "36503/36503 [==============================] - 45s 1ms/step - loss: 0.0314 - acc: 0.9857\n",
      "Epoch 9/10\n",
      "36503/36503 [==============================] - 48s 1ms/step - loss: 0.0310 - acc: 0.9863\n",
      "Epoch 10/10\n",
      "36503/36503 [==============================] - 45s 1ms/step - loss: 0.0312 - acc: 0.9864\n"
     ]
    },
    {
     "data": {
      "text/plain": [
       "<tensorflow.python.keras.callbacks.History at 0x1a66bd1518>"
      ]
     },
     "execution_count": 93,
     "metadata": {},
     "output_type": "execute_result"
    }
   ],
   "source": [
    "words_model_2.fit([text_12, text_22], label_gilang, epochs=10)"
   ]
  },
  {
   "cell_type": "code",
   "execution_count": 94,
   "metadata": {},
   "outputs": [],
   "source": [
    "words_model_2.save('models/coreference_classifiers/words_gilang.model')"
   ]
  },
  {
   "cell_type": "markdown",
   "metadata": {},
   "source": [
    "### Context"
   ]
  },
  {
   "cell_type": "code",
   "execution_count": null,
   "metadata": {},
   "outputs": [],
   "source": [
    "context_model_2 = context_model_builder.create_model()"
   ]
  },
  {
   "cell_type": "code",
   "execution_count": null,
   "metadata": {},
   "outputs": [
    {
     "name": "stdout",
     "output_type": "stream",
     "text": [
      "Epoch 1/10\n",
      "36503/36503 [==============================] - 79s 2ms/step - loss: 0.1038 - acc: 0.9797\n",
      "Epoch 2/10\n",
      "36503/36503 [==============================] - 58s 2ms/step - loss: 0.0748 - acc: 0.9829\n",
      "Epoch 3/10\n",
      "36503/36503 [==============================] - 65s 2ms/step - loss: 0.0630 - acc: 0.9829\n",
      "Epoch 4/10\n",
      "36503/36503 [==============================] - 67s 2ms/step - loss: 0.0551 - acc: 0.9829\n",
      "Epoch 5/10\n",
      "36503/36503 [==============================] - 68s 2ms/step - loss: 0.0510 - acc: 0.9829\n",
      "Epoch 6/10\n",
      "36503/36503 [==============================] - 68s 2ms/step - loss: 0.0464 - acc: 0.9829\n",
      "Epoch 7/10\n",
      "36503/36503 [==============================] - 67s 2ms/step - loss: 0.0383 - acc: 0.9852\n"
     ]
    },
    {
     "data": {
      "text/plain": [
       "<tensorflow.python.keras.callbacks.History at 0x1a97027f98>"
      ]
     },
     "execution_count": 96,
     "metadata": {},
     "output_type": "execute_result"
    }
   ],
   "source": [
    "context_model_2.fit([prev_12, prev_22, next_12, next_22], label_gilang, epochs=10)"
   ]
  },
  {
   "cell_type": "code",
   "execution_count": null,
   "metadata": {},
   "outputs": [],
   "source": [
    "context_model_2.save('models/coreference_classifiers/context_gilang.model')"
   ]
  },
  {
   "cell_type": "markdown",
   "metadata": {},
   "source": [
    "### Syntactic"
   ]
  },
  {
   "cell_type": "code",
   "execution_count": null,
   "metadata": {},
   "outputs": [],
   "source": [
    "syntactic_model_2 = syntactic_model_builder.create_model()"
   ]
  },
  {
   "cell_type": "code",
   "execution_count": null,
   "metadata": {},
   "outputs": [
    {
     "name": "stdout",
     "output_type": "stream",
     "text": [
      "Epoch 1/10\n",
      "36503/36503 [==============================] - 22s 591us/step - loss: 0.1005 - acc: 0.9735\n",
      "Epoch 2/10\n",
      "36503/36503 [==============================] - 10s 286us/step - loss: 0.0528 - acc: 0.9829\n",
      "Epoch 3/10\n",
      "36503/36503 [==============================] - 11s 290us/step - loss: 0.0487 - acc: 0.9829\n",
      "Epoch 4/10\n",
      "36503/36503 [==============================] - 11s 289us/step - loss: 0.0460 - acc: 0.9829\n",
      "Epoch 5/10\n",
      "36503/36503 [==============================] - 11s 292us/step - loss: 0.0423 - acc: 0.9829\n",
      "Epoch 6/10\n",
      "36503/36503 [==============================] - 11s 296us/step - loss: 0.0413 - acc: 0.9829\n",
      "Epoch 7/10\n",
      "36503/36503 [==============================] - 11s 296us/step - loss: 0.0400 - acc: 0.9829\n",
      "Epoch 8/10\n",
      "36503/36503 [==============================] - 11s 294us/step - loss: 0.0385 - acc: 0.9842\n",
      "Epoch 9/10\n",
      "36503/36503 [==============================] - 11s 300us/step - loss: 0.0383 - acc: 0.9841\n",
      "Epoch 10/10\n",
      "36503/36503 [==============================] - 10s 280us/step - loss: 0.0383 - acc: 0.9841\n"
     ]
    },
    {
     "data": {
      "text/plain": [
       "<tensorflow.python.keras.callbacks.History at 0x1a9526ddd8>"
      ]
     },
     "execution_count": 99,
     "metadata": {},
     "output_type": "execute_result"
    }
   ],
   "source": [
    "syntactic_model_2.fit([syntactic_12, syntactic_22, relation_2], label_gilang, epochs=10)"
   ]
  },
  {
   "cell_type": "code",
   "execution_count": null,
   "metadata": {},
   "outputs": [],
   "source": [
    "syntactic_model_2.save('models/coreference_classifiers/syntactic_gilang.model')"
   ]
  },
  {
   "cell_type": "markdown",
   "metadata": {},
   "source": [
    "### Words + Context"
   ]
  },
  {
   "cell_type": "code",
   "execution_count": null,
   "metadata": {},
   "outputs": [],
   "source": [
    "words_context_model_2 = words_context_model_builder.create_model()"
   ]
  },
  {
   "cell_type": "code",
   "execution_count": null,
   "metadata": {},
   "outputs": [
    {
     "name": "stdout",
     "output_type": "stream",
     "text": [
      "Epoch 1/10\n",
      "36503/36503 [==============================] - 2279s 62ms/step - loss: 0.0721 - acc: 0.9827\n",
      "Epoch 2/10\n",
      "36503/36503 [==============================] - 86s 2ms/step - loss: 0.0454 - acc: 0.9829\n",
      "Epoch 3/10\n",
      "36503/36503 [==============================] - 112s 3ms/step - loss: 0.0400 - acc: 0.9833\n",
      "Epoch 4/10\n",
      "36503/36503 [==============================] - 120s 3ms/step - loss: 0.0345 - acc: 0.9857\n",
      "Epoch 5/10\n",
      "36503/36503 [==============================] - 113s 3ms/step - loss: 0.0319 - acc: 0.9868\n",
      "Epoch 6/10\n",
      "36503/36503 [==============================] - 113s 3ms/step - loss: 0.0314 - acc: 0.9871\n",
      "Epoch 7/10\n",
      "36503/36503 [==============================] - 117s 3ms/step - loss: 0.0304 - acc: 0.9872\n",
      "Epoch 8/10\n",
      "36503/36503 [==============================] - 118s 3ms/step - loss: 0.0276 - acc: 0.9884\n",
      "Epoch 9/10\n",
      "25600/36503 [====================>.........] - ETA: 32s - loss: 0.0253 - acc: 0.9901"
     ]
    }
   ],
   "source": [
    "words_context_model_2.fit([text_12, text_22, prev_12, prev_22, next_12, next_22], label_gilang, epochs=10)"
   ]
  },
  {
   "cell_type": "code",
   "execution_count": null,
   "metadata": {},
   "outputs": [],
   "source": [
    "words_context_model_2.save('models/coreference_classifiers/words_context_gilang.model')"
   ]
  },
  {
   "cell_type": "markdown",
   "metadata": {},
   "source": [
    "### Words + Syntactic"
   ]
  },
  {
   "cell_type": "code",
   "execution_count": null,
   "metadata": {},
   "outputs": [],
   "source": [
    "words_syntactic_model_2 = words_syntactic_model_builder.create_model()"
   ]
  },
  {
   "cell_type": "code",
   "execution_count": 105,
   "metadata": {},
   "outputs": [
    {
     "name": "stdout",
     "output_type": "stream",
     "text": [
      "36503/36503 [==============================] - 57s 2ms/step - loss: 0.0267 - acc: 0.9875\n",
      "Epoch 9/10\n",
      "36503/36503 [==============================] - 50s 1ms/step - loss: 0.0265 - acc: 0.9881\n",
      "Epoch 10/10\n",
      "36503/36503 [==============================] - 50s 1ms/step - loss: 0.0254 - acc: 0.9887\n"
     ]
    },
    {
     "data": {
      "text/plain": [
       "<tensorflow.python.keras.callbacks.History at 0x1a7f666d30>"
      ]
     },
     "execution_count": 105,
     "metadata": {},
     "output_type": "execute_result"
    }
   ],
   "source": [
    "words_syntactic_model_2.fit([text_12, text_22, syntactic_12, syntactic_22, relation_2], label_gilang, epochs=10)"
   ]
  },
  {
   "cell_type": "code",
   "execution_count": 106,
   "metadata": {},
   "outputs": [],
   "source": [
    "words_syntactic_model_2.save('models/coreference_classifiers/words_syntactic_gilang.model')"
   ]
  },
  {
   "cell_type": "markdown",
   "metadata": {},
   "source": [
    "### Context + Syntactic"
   ]
  },
  {
   "cell_type": "code",
   "execution_count": 107,
   "metadata": {},
   "outputs": [],
   "source": [
    "context_syntactic_model_2 = context_syntactic_model_builder.create_model()"
   ]
  },
  {
   "cell_type": "code",
   "execution_count": 108,
   "metadata": {},
   "outputs": [
    {
     "name": "stdout",
     "output_type": "stream",
     "text": [
      "Epoch 1/10\n",
      "36503/36503 [==============================] - 85s 2ms/step - loss: 0.0698 - acc: 0.9827\n",
      "Epoch 2/10\n",
      "36503/36503 [==============================] - 82s 2ms/step - loss: 0.0512 - acc: 0.9829\n",
      "Epoch 3/10\n",
      "36503/36503 [==============================] - 79s 2ms/step - loss: 0.0450 - acc: 0.9831\n",
      "Epoch 4/10\n",
      "36503/36503 [==============================] - 85s 2ms/step - loss: 0.0411 - acc: 0.9837\n",
      "Epoch 5/10\n",
      "36503/36503 [==============================] - 89s 2ms/step - loss: 0.0362 - acc: 0.9858\n",
      "Epoch 6/10\n",
      "36503/36503 [==============================] - 90s 2ms/step - loss: 0.0338 - acc: 0.9861\n",
      "Epoch 7/10\n",
      "36503/36503 [==============================] - 99s 3ms/step - loss: 0.0265 - acc: 0.9896\n"
     ]
    },
    {
     "data": {
      "text/plain": [
       "<tensorflow.python.keras.callbacks.History at 0x1ab8e2d4a8>"
      ]
     },
     "execution_count": 108,
     "metadata": {},
     "output_type": "execute_result"
    }
   ],
   "source": [
    "context_syntactic_model_2.fit([prev_12, prev_22, next_12, next_22, syntactic_12, syntactic_22, relation_2], label_gilang, epochs=10)"
   ]
  },
  {
   "cell_type": "code",
   "execution_count": 109,
   "metadata": {},
   "outputs": [],
   "source": [
    "context_syntactic_model_2.save('models/coreference_classifiers/context_syntactic_gilang.model')"
   ]
  },
  {
   "cell_type": "markdown",
   "metadata": {},
   "source": [
    "### Words + Context + Syntactic"
   ]
  },
  {
   "cell_type": "code",
   "execution_count": 110,
   "metadata": {},
   "outputs": [],
   "source": [
    "words_context_syntactic_model_2 = words_context_syntactic_model_builder.create_model()"
   ]
  },
  {
   "cell_type": "code",
   "execution_count": 111,
   "metadata": {},
   "outputs": [
    {
     "name": "stdout",
     "output_type": "stream",
     "text": [
      "Epoch 1/10\n",
      "36503/36503 [==============================] - 144s 4ms/step - loss: 0.0659 - acc: 0.9828\n",
      "Epoch 2/10\n",
      "36503/36503 [==============================] - 115s 3ms/step - loss: 0.0431 - acc: 0.9832\n",
      "Epoch 3/10\n",
      "36503/36503 [==============================] - 120s 3ms/step - loss: 0.0375 - acc: 0.9845\n",
      "Epoch 4/10\n",
      "36503/36503 [==============================] - 147s 4ms/step - loss: 0.0325 - acc: 0.9868\n",
      "Epoch 5/10\n",
      "36503/36503 [==============================] - 132s 4ms/step - loss: 0.0301 - acc: 0.9880\n",
      "Epoch 6/10\n",
      "36503/36503 [==============================] - 129s 4ms/step - loss: 0.0275 - acc: 0.9887\n",
      "Epoch 7/10\n",
      "36503/36503 [==============================] - 164s 4ms/step - loss: 0.0230 - acc: 0.9907\n"
     ]
    },
    {
     "data": {
      "text/plain": [
       "<tensorflow.python.keras.callbacks.History at 0x1abcd612b0>"
      ]
     },
     "execution_count": 111,
     "metadata": {},
     "output_type": "execute_result"
    }
   ],
   "source": [
    "words_context_syntactic_model_2.fit([text_12, text_22, prev_12, prev_22, next_12, next_22, syntactic_12, syntactic_22, relation_2], label_gilang, epochs=10)"
   ]
  },
  {
   "cell_type": "code",
   "execution_count": 112,
   "metadata": {},
   "outputs": [],
   "source": [
    "words_context_syntactic_model_2.save('models/coreference_classifiers/words_context_syntactic_gilang.model')"
   ]
  },
  {
   "cell_type": "code",
   "execution_count": null,
   "metadata": {},
   "outputs": [],
   "source": []
  }
 ],
 "metadata": {
  "kernelspec": {
   "display_name": "Python TA",
   "language": "python",
   "name": "ta-v2"
  },
  "language_info": {
   "codemirror_mode": {
    "name": "ipython",
    "version": 3
   },
   "file_extension": ".py",
   "mimetype": "text/x-python",
   "name": "python",
   "nbconvert_exporter": "python",
   "pygments_lexer": "ipython3",
   "version": "3.6.8"
  }
 },
 "nbformat": 4,
 "nbformat_minor": 2
}
