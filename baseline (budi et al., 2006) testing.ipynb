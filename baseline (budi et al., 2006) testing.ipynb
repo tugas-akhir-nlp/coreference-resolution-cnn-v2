{
 "cells": [
  {
   "cell_type": "code",
   "execution_count": 1,
   "metadata": {},
   "outputs": [],
   "source": [
    "from csv import DictReader\n",
    "from baseline.budi_et_al.model import Model\n",
    "from baseline.budi_et_al.rule import Rule\n",
    "from utils.scorers import MUCScorer, B3Scorer, AverageScorer\n",
    "from utils.clusterers import BestFirstClusterer, get_anaphora_scores_by_antecedent, ClosestFirstClusterer"
   ]
  },
  {
   "cell_type": "code",
   "execution_count": 2,
   "metadata": {},
   "outputs": [],
   "source": [
    "def convert_field(value: str):\n",
    "    if value.isnumeric():\n",
    "        return int(value)\n",
    "    elif value.replace('.', '', 1).isnumeric():\n",
    "        return float(value)\n",
    "    \n",
    "    return value"
   ]
  },
  {
   "cell_type": "code",
   "execution_count": 3,
   "metadata": {},
   "outputs": [],
   "source": [
    "data_path = 'data/testing/mention_pairs_for_budi_et_al_implementation.csv'\n",
    "\n",
    "data = []\n",
    "m1_ids = []\n",
    "m2_ids = []\n",
    "labels = []\n",
    "\n",
    "with open(data_path, 'r') as f:\n",
    "    csv_file = DictReader(f)\n",
    "    \n",
    "    for row in csv_file:\n",
    "        for field in row:\n",
    "            row[field] = convert_field(row[field])\n",
    "            \n",
    "        data.append(row)\n",
    "        m1_ids.append(row['m1_id'])\n",
    "        m2_ids.append(row['m2_id'])\n",
    "        labels.append([1-row['is_coreference'], row['is_coreference']])\n",
    "\n",
    "label_chains = ClosestFirstClusterer().get_chains(get_anaphora_scores_by_antecedent(m1_ids, m2_ids, labels))"
   ]
  },
  {
   "cell_type": "code",
   "execution_count": 4,
   "metadata": {},
   "outputs": [],
   "source": [
    "rule_fields = ['is_string_match', 'is_string_without_punctuation_match', 'is_abbreviation',\n",
    "               'is_first_pronoun', 'is_second_pronoun', 'is_on_one_sentence', 'is_substring',\n",
    "               'first_name_class', 'second_name_class']\n",
    "\n",
    "rules = [Rule(**{field: rule[field] for field in rule_fields}) for rule in data]"
   ]
  },
  {
   "cell_type": "code",
   "execution_count": 5,
   "metadata": {},
   "outputs": [],
   "source": [
    "model_path = 'models/budi_et_al/model.csv'\n",
    "\n",
    "model = Model.load(model_path)"
   ]
  },
  {
   "cell_type": "code",
   "execution_count": 6,
   "metadata": {},
   "outputs": [],
   "source": [
    "preds = [model.predict_proba(rule) for rule in rules]\n",
    "preds = [(1-pred, pred) for pred in preds]"
   ]
  },
  {
   "cell_type": "code",
   "execution_count": 7,
   "metadata": {},
   "outputs": [],
   "source": [
    "base_thresholds = [0.1, 0.01, 0.001, 0.0001, 0.00001]\n",
    "thresholds = [0] + [base * multiplier for base in base_thresholds for multiplier in range(1, 10)]\n",
    "\n",
    "thresholds = set([pred[1] for pred in preds])\n",
    "\n",
    "muc_scorer = MUCScorer()\n",
    "b3_scorer = B3Scorer()\n",
    "average_scorer = AverageScorer([muc_scorer, b3_scorer])\n",
    "\n",
    "def get_sorted_scores(clusterer, pred):\n",
    "    scores = [] # will be a tuple (average_f1, (prec_muc, rec_muc, f1_muc), (prec_b3, rec_b3, f1_b3), threshold)\n",
    "    \n",
    "    for threshold in thresholds:\n",
    "        predicted_chains = clusterer.get_chains(pred, threshold)\n",
    "        \n",
    "#         avg_f1 = average_scorer.get_scores(predicted_chains, label_chains)[2]\n",
    "        muc = muc_scorer.get_scores(predicted_chains, label_chains)\n",
    "        b3 = b3_scorer.get_scores(predicted_chains, label_chains)\n",
    "        avg_f1 = (muc[2] + b3[2]) / 2\n",
    "        \n",
    "        scores.append((avg_f1, muc, b3, threshold))\n",
    "    \n",
    "    return sorted(scores, reverse=True)\n",
    "\n",
    "def reorder_score(score):\n",
    "    avg_f1, muc, b3, threshold = score\n",
    "    return muc, b3, avg_f1, threshold\n",
    "\n",
    "def evaluate():\n",
    "    print('getting anaphora scores by antecedent dict')\n",
    "    pred = get_anaphora_scores_by_antecedent(m1_ids, m2_ids, preds)\n",
    "    \n",
    "    print('get sorted_scores_without_sc_best')\n",
    "    sorted_scores = get_sorted_scores(BestFirstClusterer(), pred)\n",
    "    print('Without singleton classifier, best-first:', reorder_score(sorted_scores[0]))"
   ]
  },
  {
   "cell_type": "code",
   "execution_count": 8,
   "metadata": {},
   "outputs": [
    {
     "name": "stdout",
     "output_type": "stream",
     "text": [
      "getting anaphora scores by antecedent dict\n",
      "get sorted_scores_without_sc_best\n",
      "Without singleton classifier, best-first: ((0.4146341463414634, 0.6538461538461539, 0.5074626865671641), (0.3373749885310579, 0.5555102040816325, 0.41979696893063406), 0.46362982774889905, 0.2268041237113402)\n"
     ]
    }
   ],
   "source": [
    "evaluate()"
   ]
  }
 ],
 "metadata": {
  "kernelspec": {
   "display_name": "Python TA",
   "language": "python",
   "name": "ta-v2"
  },
  "language_info": {
   "codemirror_mode": {
    "name": "ipython",
    "version": 3
   },
   "file_extension": ".py",
   "mimetype": "text/x-python",
   "name": "python",
   "nbconvert_exporter": "python",
   "pygments_lexer": "ipython3",
   "version": "3.6.8"
  }
 },
 "nbformat": 4,
 "nbformat_minor": 2
}
