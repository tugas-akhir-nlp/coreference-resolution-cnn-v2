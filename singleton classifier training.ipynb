{
 "cells": [
  {
   "cell_type": "code",
   "execution_count": 1,
   "metadata": {},
   "outputs": [],
   "source": [
    "import pandas as pd\n",
    "import numpy as np\n",
    "from utils.data_helper import get_markable_dataframe, get_embedding_variables\n",
    "from model_builders.singleton_classifier import SingletonClassifierModelBuilder\n",
    "from functools import reduce\n",
    "\n",
    "from tensorflow.keras.preprocessing.sequence import pad_sequences"
   ]
  },
  {
   "cell_type": "code",
   "execution_count": 2,
   "metadata": {},
   "outputs": [],
   "source": [
    "embedding_indexes_file_path = 'helper_files/embedding/embedding_indexes.txt'\n",
    "indexed_embedding_file_path = 'helper_files/embedding/indexed_embedding.txt'\n",
    "\n",
    "word_vector, embedding_matrix, idx_by_word, word_by_idx = get_embedding_variables(embedding_indexes_file_path, indexed_embedding_file_path)"
   ]
  },
  {
   "cell_type": "code",
   "execution_count": 3,
   "metadata": {},
   "outputs": [
    {
     "data": {
      "text/html": [
       "<div>\n",
       "<style scoped>\n",
       "    .dataframe tbody tr th:only-of-type {\n",
       "        vertical-align: middle;\n",
       "    }\n",
       "\n",
       "    .dataframe tbody tr th {\n",
       "        vertical-align: top;\n",
       "    }\n",
       "\n",
       "    .dataframe thead th {\n",
       "        text-align: right;\n",
       "    }\n",
       "</style>\n",
       "<table border=\"1\" class=\"dataframe\">\n",
       "  <thead>\n",
       "    <tr style=\"text-align: right;\">\n",
       "      <th></th>\n",
       "      <th>id</th>\n",
       "      <th>text</th>\n",
       "      <th>is_pronoun</th>\n",
       "      <th>entity_type</th>\n",
       "      <th>is_proper_name</th>\n",
       "      <th>is_first_person</th>\n",
       "      <th>previous_words</th>\n",
       "      <th>next_words</th>\n",
       "      <th>is_singleton</th>\n",
       "    </tr>\n",
       "  </thead>\n",
       "  <tbody>\n",
       "    <tr>\n",
       "      <th>0</th>\n",
       "      <td>1</td>\n",
       "      <td>[1]</td>\n",
       "      <td>0</td>\n",
       "      <td>[1, 0, 0, 0, 0, 0, 0, 0, 0, 0]</td>\n",
       "      <td>0</td>\n",
       "      <td>0</td>\n",
       "      <td>[]</td>\n",
       "      <td>[2, 3, 4, 5, 6, 7, 8, 9, 10, 2]</td>\n",
       "      <td>[0.0, 1.0]</td>\n",
       "    </tr>\n",
       "    <tr>\n",
       "      <th>1</th>\n",
       "      <td>2</td>\n",
       "      <td>[4, 5]</td>\n",
       "      <td>0</td>\n",
       "      <td>[0, 0, 0, 0, 0, 1, 0, 0, 0, 0]</td>\n",
       "      <td>0</td>\n",
       "      <td>0</td>\n",
       "      <td>[1, 2, 3]</td>\n",
       "      <td>[6, 7, 8, 9, 10, 2, 11, 12, 13, 14]</td>\n",
       "      <td>[0.0, 1.0]</td>\n",
       "    </tr>\n",
       "    <tr>\n",
       "      <th>2</th>\n",
       "      <td>3</td>\n",
       "      <td>[6, 7, 8]</td>\n",
       "      <td>0</td>\n",
       "      <td>[0, 0, 1, 0, 0, 0, 0, 0, 0, 1]</td>\n",
       "      <td>1</td>\n",
       "      <td>0</td>\n",
       "      <td>[1, 2, 3, 4, 5]</td>\n",
       "      <td>[9, 10, 2, 11, 12, 13, 14, 15, 16, 17]</td>\n",
       "      <td>[1.0, 0.0]</td>\n",
       "    </tr>\n",
       "    <tr>\n",
       "      <th>3</th>\n",
       "      <td>4</td>\n",
       "      <td>[10]</td>\n",
       "      <td>0</td>\n",
       "      <td>[0, 0, 0, 0, 0, 1, 0, 0, 0, 0]</td>\n",
       "      <td>0</td>\n",
       "      <td>0</td>\n",
       "      <td>[1, 2, 3, 4, 5, 6, 7, 8, 9]</td>\n",
       "      <td>[2, 11, 12, 13, 14, 15, 16, 17, 18, 19]</td>\n",
       "      <td>[0.0, 1.0]</td>\n",
       "    </tr>\n",
       "    <tr>\n",
       "      <th>4</th>\n",
       "      <td>5</td>\n",
       "      <td>[12, 13]</td>\n",
       "      <td>0</td>\n",
       "      <td>[0, 0, 0, 0, 0, 1, 0, 0, 0, 0]</td>\n",
       "      <td>0</td>\n",
       "      <td>0</td>\n",
       "      <td>[3, 4, 5, 6, 7, 8, 9, 10, 2, 11]</td>\n",
       "      <td>[14, 15, 16, 17, 18, 19, 4, 5, 20, 21]</td>\n",
       "      <td>[0.0, 1.0]</td>\n",
       "    </tr>\n",
       "  </tbody>\n",
       "</table>\n",
       "</div>"
      ],
      "text/plain": [
       "   id       text  is_pronoun                     entity_type  is_proper_name  \\\n",
       "0   1        [1]           0  [1, 0, 0, 0, 0, 0, 0, 0, 0, 0]               0   \n",
       "1   2     [4, 5]           0  [0, 0, 0, 0, 0, 1, 0, 0, 0, 0]               0   \n",
       "2   3  [6, 7, 8]           0  [0, 0, 1, 0, 0, 0, 0, 0, 0, 1]               1   \n",
       "3   4       [10]           0  [0, 0, 0, 0, 0, 1, 0, 0, 0, 0]               0   \n",
       "4   5   [12, 13]           0  [0, 0, 0, 0, 0, 1, 0, 0, 0, 0]               0   \n",
       "\n",
       "   is_first_person                    previous_words  \\\n",
       "0                0                                []   \n",
       "1                0                         [1, 2, 3]   \n",
       "2                0                   [1, 2, 3, 4, 5]   \n",
       "3                0       [1, 2, 3, 4, 5, 6, 7, 8, 9]   \n",
       "4                0  [3, 4, 5, 6, 7, 8, 9, 10, 2, 11]   \n",
       "\n",
       "                                next_words is_singleton  \n",
       "0          [2, 3, 4, 5, 6, 7, 8, 9, 10, 2]   [0.0, 1.0]  \n",
       "1      [6, 7, 8, 9, 10, 2, 11, 12, 13, 14]   [0.0, 1.0]  \n",
       "2   [9, 10, 2, 11, 12, 13, 14, 15, 16, 17]   [1.0, 0.0]  \n",
       "3  [2, 11, 12, 13, 14, 15, 16, 17, 18, 19]   [0.0, 1.0]  \n",
       "4   [14, 15, 16, 17, 18, 19, 4, 5, 20, 21]   [0.0, 1.0]  "
      ]
     },
     "execution_count": 3,
     "metadata": {},
     "output_type": "execute_result"
    }
   ],
   "source": [
    "data = get_markable_dataframe(\"data/training/markables.csv\", word_vector, idx_by_word)\n",
    "\n",
    "data.head()"
   ]
  },
  {
   "cell_type": "code",
   "execution_count": 4,
   "metadata": {},
   "outputs": [],
   "source": [
    "max_text_length = 10\n",
    "max_prev_words_length = 10\n",
    "max_next_words_length = 10\n",
    "\n",
    "data_text = pad_sequences(data.text, maxlen=max_text_length, padding='post')\n",
    "data_previous_words = pad_sequences(data.previous_words.map(lambda seq: seq[(-1*max_prev_words_length):]), maxlen=max_prev_words_length, padding='pre')\n",
    "data_next_words = pad_sequences(data.next_words.map(lambda seq: seq[:max_next_words_length]), maxlen=max_next_words_length, padding='post')\n",
    "data_syntactic = data[['is_pronoun', 'entity_type', 'is_proper_name', 'is_first_person']]\n",
    "\n",
    "data_syntactic = np.array(list(map(lambda p: reduce(lambda x,y: x + y, [i if type(i) is list else [i] for i in p]), data_syntactic.values)))\n",
    "label = np.vstack(data.is_singleton)"
   ]
  },
  {
   "cell_type": "markdown",
   "metadata": {},
   "source": [
    "# Build Model"
   ]
  },
  {
   "cell_type": "markdown",
   "metadata": {},
   "source": [
    "## Words"
   ]
  },
  {
   "cell_type": "code",
   "execution_count": 5,
   "metadata": {},
   "outputs": [],
   "source": [
    "words_model_builder = SingletonClassifierModelBuilder(\n",
    "    use_words_feature=True, \n",
    "    use_context_feature=False, \n",
    "    use_syntactic_feature=False,\n",
    "    embedding_matrix=embedding_matrix\n",
    ")"
   ]
  },
  {
   "cell_type": "code",
   "execution_count": 6,
   "metadata": {},
   "outputs": [],
   "source": [
    "words_model = words_model_builder.create_model()"
   ]
  },
  {
   "cell_type": "code",
   "execution_count": 7,
   "metadata": {},
   "outputs": [
    {
     "name": "stdout",
     "output_type": "stream",
     "text": [
      "Epoch 1/20\n",
      "5032/5032 [==============================] - 4s 731us/step - loss: 0.2993 - acc: 0.8591\n",
      "Epoch 2/20\n",
      "5032/5032 [==============================] - 2s 490us/step - loss: 0.1987 - acc: 0.8951\n",
      "Epoch 3/20\n",
      "5032/5032 [==============================] - 2s 463us/step - loss: 0.1655 - acc: 0.9231\n",
      "Epoch 4/20\n",
      "5032/5032 [==============================] - 3s 497us/step - loss: 0.1489 - acc: 0.9314\n",
      "Epoch 5/20\n",
      "5032/5032 [==============================] - 2s 459us/step - loss: 0.1339 - acc: 0.9388\n",
      "Epoch 6/20\n",
      "5032/5032 [==============================] - 2s 451us/step - loss: 0.1302 - acc: 0.9374\n",
      "Epoch 7/20\n",
      "5032/5032 [==============================] - 3s 506us/step - loss: 0.1401 - acc: 0.9394\n",
      "Epoch 8/20\n",
      "5032/5032 [==============================] - 3s 524us/step - loss: 0.1471 - acc: 0.9356\n",
      "Epoch 9/20\n",
      "5032/5032 [==============================] - 2s 490us/step - loss: 0.1195 - acc: 0.9436\n",
      "Epoch 10/20\n",
      "5032/5032 [==============================] - 3s 499us/step - loss: 0.1219 - acc: 0.9420\n",
      "Epoch 11/20\n",
      "5032/5032 [==============================] - 2s 487us/step - loss: 0.1113 - acc: 0.9457\n",
      "Epoch 12/20\n",
      "5032/5032 [==============================] - 2s 485us/step - loss: 0.1131 - acc: 0.9459\n",
      "Epoch 13/20\n",
      "5032/5032 [==============================] - 2s 477us/step - loss: 0.1167 - acc: 0.9440\n",
      "Epoch 14/20\n",
      "5032/5032 [==============================] - 2s 466us/step - loss: 0.1121 - acc: 0.9457\n",
      "Epoch 15/20\n",
      "5032/5032 [==============================] - 2s 459us/step - loss: 0.1123 - acc: 0.9432\n",
      "Epoch 16/20\n",
      "5032/5032 [==============================] - 2s 434us/step - loss: 0.1095 - acc: 0.9465\n",
      "Epoch 17/20\n",
      "5032/5032 [==============================] - 3s 500us/step - loss: 0.1236 - acc: 0.9457\n",
      "Epoch 18/20\n",
      "5032/5032 [==============================] - 2s 477us/step - loss: 0.1124 - acc: 0.9477\n",
      "Epoch 19/20\n",
      "5032/5032 [==============================] - 2s 491us/step - loss: 0.0970 - acc: 0.9481\n",
      "Epoch 20/20\n",
      "5032/5032 [==============================] - 2s 478us/step - loss: 0.0935 - acc: 0.9475\n"
     ]
    },
    {
     "data": {
      "text/plain": [
       "<tensorflow.python.keras.callbacks.History at 0x1a3d3c2128>"
      ]
     },
     "execution_count": 7,
     "metadata": {},
     "output_type": "execute_result"
    }
   ],
   "source": [
    "words_model.fit([data_text], label, epochs=20)"
   ]
  },
  {
   "cell_type": "code",
   "execution_count": 8,
   "metadata": {},
   "outputs": [],
   "source": [
    "words_model.save('models/singleton_classifiers/words.model')"
   ]
  },
  {
   "cell_type": "markdown",
   "metadata": {},
   "source": [
    "## Context"
   ]
  },
  {
   "cell_type": "code",
   "execution_count": 9,
   "metadata": {},
   "outputs": [],
   "source": [
    "context_model_builder = SingletonClassifierModelBuilder(\n",
    "    use_words_feature=False, \n",
    "    use_context_feature=True, \n",
    "    use_syntactic_feature=False,\n",
    "    embedding_matrix=embedding_matrix\n",
    ")"
   ]
  },
  {
   "cell_type": "code",
   "execution_count": 10,
   "metadata": {},
   "outputs": [],
   "source": [
    "context_model = context_model_builder.create_model()"
   ]
  },
  {
   "cell_type": "code",
   "execution_count": 11,
   "metadata": {},
   "outputs": [
    {
     "name": "stdout",
     "output_type": "stream",
     "text": [
      "Epoch 1/20\n",
      "5032/5032 [==============================] - 7s 1ms/step - loss: 0.5316 - acc: 0.8221\n",
      "Epoch 2/20\n",
      "5032/5032 [==============================] - 4s 793us/step - loss: 0.4127 - acc: 0.8374\n",
      "Epoch 3/20\n",
      "5032/5032 [==============================] - 4s 784us/step - loss: 0.3253 - acc: 0.8454\n",
      "Epoch 4/20\n",
      "5032/5032 [==============================] - 4s 798us/step - loss: 0.2788 - acc: 0.8720\n",
      "Epoch 5/20\n",
      "5032/5032 [==============================] - 4s 803us/step - loss: 0.2726 - acc: 0.8800\n",
      "Epoch 6/20\n",
      "5032/5032 [==============================] - 4s 763us/step - loss: 0.2105 - acc: 0.9163\n",
      "Epoch 7/20\n",
      "5032/5032 [==============================] - 4s 829us/step - loss: 0.1821 - acc: 0.9300\n",
      "Epoch 8/20\n",
      "5032/5032 [==============================] - 4s 811us/step - loss: 0.1554 - acc: 0.9428\n",
      "Epoch 9/20\n",
      "5032/5032 [==============================] - 4s 800us/step - loss: 0.1238 - acc: 0.9547\n",
      "Epoch 10/20\n",
      "5032/5032 [==============================] - 4s 774us/step - loss: 0.1135 - acc: 0.9610\n",
      "Epoch 11/20\n",
      "5032/5032 [==============================] - 4s 725us/step - loss: 0.0987 - acc: 0.9634\n",
      "Epoch 12/20\n",
      "5032/5032 [==============================] - 4s 782us/step - loss: 0.0883 - acc: 0.9666\n",
      "Epoch 13/20\n",
      "5032/5032 [==============================] - 4s 750us/step - loss: 0.1059 - acc: 0.9610\n",
      "Epoch 14/20\n",
      "5032/5032 [==============================] - 4s 756us/step - loss: 0.0932 - acc: 0.9742\n",
      "Epoch 15/20\n",
      "5032/5032 [==============================] - 4s 782us/step - loss: 0.0783 - acc: 0.9742\n",
      "Epoch 16/20\n",
      "5032/5032 [==============================] - 4s 778us/step - loss: 0.0794 - acc: 0.9775\n",
      "Epoch 17/20\n",
      "5032/5032 [==============================] - 4s 745us/step - loss: 0.0821 - acc: 0.9773\n",
      "Epoch 18/20\n",
      "5032/5032 [==============================] - 4s 707us/step - loss: 0.0676 - acc: 0.9811\n",
      "Epoch 19/20\n",
      "5032/5032 [==============================] - 5s 918us/step - loss: 0.0565 - acc: 0.9825\n",
      "Epoch 20/20\n",
      "5032/5032 [==============================] - 4s 771us/step - loss: 0.0807 - acc: 0.9750\n"
     ]
    },
    {
     "data": {
      "text/plain": [
       "<tensorflow.python.keras.callbacks.History at 0x1a490e52b0>"
      ]
     },
     "execution_count": 11,
     "metadata": {},
     "output_type": "execute_result"
    }
   ],
   "source": [
    "context_model.fit([data_previous_words, data_next_words], label, epochs=20)"
   ]
  },
  {
   "cell_type": "code",
   "execution_count": 12,
   "metadata": {},
   "outputs": [],
   "source": [
    "context_model.save('models/singleton_classifiers/context.model')"
   ]
  },
  {
   "cell_type": "markdown",
   "metadata": {},
   "source": [
    "## Syntactic"
   ]
  },
  {
   "cell_type": "code",
   "execution_count": 13,
   "metadata": {},
   "outputs": [],
   "source": [
    "syntactic_model_builder = SingletonClassifierModelBuilder(\n",
    "    use_words_feature=False, \n",
    "    use_context_feature=False, \n",
    "    use_syntactic_feature=True,\n",
    "    syntactic_features_num=data_syntactic.shape[1]\n",
    ")"
   ]
  },
  {
   "cell_type": "code",
   "execution_count": 14,
   "metadata": {},
   "outputs": [],
   "source": [
    "syntactic_model = syntactic_model_builder.create_model()"
   ]
  },
  {
   "cell_type": "code",
   "execution_count": 15,
   "metadata": {},
   "outputs": [
    {
     "name": "stdout",
     "output_type": "stream",
     "text": [
      "Epoch 1/20\n",
      "5032/5032 [==============================] - 2s 354us/step - loss: 0.4259 - acc: 0.8225\n",
      "Epoch 2/20\n",
      "5032/5032 [==============================] - 0s 97us/step - loss: 0.2623 - acc: 0.8416\n",
      "Epoch 3/20\n",
      "5032/5032 [==============================] - 1s 102us/step - loss: 0.2556 - acc: 0.8543\n",
      "Epoch 4/20\n",
      "5032/5032 [==============================] - 0s 94us/step - loss: 0.2528 - acc: 0.8525\n",
      "Epoch 5/20\n",
      "5032/5032 [==============================] - 0s 98us/step - loss: 0.2484 - acc: 0.8549\n",
      "Epoch 6/20\n",
      "5032/5032 [==============================] - 0s 94us/step - loss: 0.2525 - acc: 0.8583\n",
      "Epoch 7/20\n",
      "5032/5032 [==============================] - 0s 97us/step - loss: 0.2493 - acc: 0.8585\n",
      "Epoch 8/20\n",
      "5032/5032 [==============================] - 1s 120us/step - loss: 0.2475 - acc: 0.8591\n",
      "Epoch 9/20\n",
      "5032/5032 [==============================] - 1s 120us/step - loss: 0.2467 - acc: 0.8641\n",
      "Epoch 10/20\n",
      "5032/5032 [==============================] - 1s 103us/step - loss: 0.2470 - acc: 0.8593\n",
      "Epoch 11/20\n",
      "5032/5032 [==============================] - 0s 89us/step - loss: 0.2452 - acc: 0.8611\n",
      "Epoch 12/20\n",
      "5032/5032 [==============================] - 0s 90us/step - loss: 0.2471 - acc: 0.8605\n",
      "Epoch 13/20\n",
      "5032/5032 [==============================] - 0s 92us/step - loss: 0.2461 - acc: 0.8611\n",
      "Epoch 14/20\n",
      "5032/5032 [==============================] - 0s 90us/step - loss: 0.2452 - acc: 0.8625\n",
      "Epoch 15/20\n",
      "5032/5032 [==============================] - 0s 89us/step - loss: 0.2464 - acc: 0.8619\n",
      "Epoch 16/20\n",
      "5032/5032 [==============================] - 0s 88us/step - loss: 0.2454 - acc: 0.8611\n",
      "Epoch 17/20\n",
      "5032/5032 [==============================] - 0s 88us/step - loss: 0.2457 - acc: 0.8661\n",
      "Epoch 18/20\n",
      "5032/5032 [==============================] - 0s 95us/step - loss: 0.2446 - acc: 0.8613\n",
      "Epoch 19/20\n",
      "5032/5032 [==============================] - 1s 121us/step - loss: 0.2447 - acc: 0.8643\n",
      "Epoch 20/20\n",
      "5032/5032 [==============================] - 0s 97us/step - loss: 0.2457 - acc: 0.8635\n"
     ]
    },
    {
     "data": {
      "text/plain": [
       "<tensorflow.python.keras.callbacks.History at 0x1a4a1ed080>"
      ]
     },
     "execution_count": 15,
     "metadata": {},
     "output_type": "execute_result"
    }
   ],
   "source": [
    "syntactic_model.fit([data_syntactic], label, epochs=20)"
   ]
  },
  {
   "cell_type": "code",
   "execution_count": 16,
   "metadata": {},
   "outputs": [],
   "source": [
    "syntactic_model.save('models/singleton_classifiers/syntactic.model')"
   ]
  },
  {
   "cell_type": "markdown",
   "metadata": {},
   "source": [
    "## Words + Context"
   ]
  },
  {
   "cell_type": "code",
   "execution_count": 17,
   "metadata": {},
   "outputs": [],
   "source": [
    "words_context_model_builder = SingletonClassifierModelBuilder(\n",
    "    use_words_feature=True, \n",
    "    use_context_feature=True, \n",
    "    use_syntactic_feature=False,\n",
    "    embedding_matrix=embedding_matrix\n",
    ")"
   ]
  },
  {
   "cell_type": "code",
   "execution_count": 18,
   "metadata": {},
   "outputs": [],
   "source": [
    "words_context_model = words_context_model_builder.create_model()"
   ]
  },
  {
   "cell_type": "code",
   "execution_count": 19,
   "metadata": {},
   "outputs": [
    {
     "name": "stdout",
     "output_type": "stream",
     "text": [
      "Epoch 1/20\n",
      "5032/5032 [==============================] - 9s 2ms/step - loss: 0.3877 - acc: 0.8398\n",
      "Epoch 2/20\n",
      "5032/5032 [==============================] - 6s 1ms/step - loss: 0.1898 - acc: 0.9084\n",
      "Epoch 3/20\n",
      "5032/5032 [==============================] - 5s 978us/step - loss: 0.1417 - acc: 0.9404\n",
      "Epoch 4/20\n",
      "5032/5032 [==============================] - 5s 1ms/step - loss: 0.1227 - acc: 0.9485\n",
      "Epoch 5/20\n",
      "5032/5032 [==============================] - 6s 1ms/step - loss: 0.0960 - acc: 0.9597\n",
      "Epoch 6/20\n",
      "5032/5032 [==============================] - 6s 1ms/step - loss: 0.0807 - acc: 0.9676\n",
      "Epoch 7/20\n",
      "5032/5032 [==============================] - 5s 979us/step - loss: 0.0730 - acc: 0.9694\n",
      "Epoch 8/20\n",
      "5032/5032 [==============================] - 5s 1ms/step - loss: 0.0537 - acc: 0.9760\n",
      "Epoch 9/20\n",
      "5032/5032 [==============================] - 5s 980us/step - loss: 0.0495 - acc: 0.9787\n",
      "Epoch 10/20\n",
      "5032/5032 [==============================] - 5s 1ms/step - loss: 0.0478 - acc: 0.9803\n",
      "Epoch 11/20\n",
      "5032/5032 [==============================] - 5s 1ms/step - loss: 0.0504 - acc: 0.9819\n",
      "Epoch 12/20\n",
      "5032/5032 [==============================] - 5s 968us/step - loss: 0.0411 - acc: 0.9843\n",
      "Epoch 13/20\n",
      "5032/5032 [==============================] - 5s 976us/step - loss: 0.0402 - acc: 0.9843\n",
      "Epoch 14/20\n",
      "5032/5032 [==============================] - 5s 988us/step - loss: 0.0334 - acc: 0.9849\n",
      "Epoch 15/20\n",
      "5032/5032 [==============================] - 5s 992us/step - loss: 0.0478 - acc: 0.9843\n",
      "Epoch 16/20\n",
      "5032/5032 [==============================] - 5s 1ms/step - loss: 0.0586 - acc: 0.9809\n",
      "Epoch 17/20\n",
      "5032/5032 [==============================] - 5s 1ms/step - loss: 0.0536 - acc: 0.9817\n",
      "Epoch 18/20\n",
      "5032/5032 [==============================] - 5s 994us/step - loss: 0.0358 - acc: 0.9869\n",
      "Epoch 19/20\n",
      "5032/5032 [==============================] - 5s 1ms/step - loss: 0.0232 - acc: 0.9887\n",
      "Epoch 20/20\n",
      "5032/5032 [==============================] - 5s 1ms/step - loss: 0.0246 - acc: 0.9907\n"
     ]
    },
    {
     "data": {
      "text/plain": [
       "<tensorflow.python.keras.callbacks.History at 0x1a4c4edc18>"
      ]
     },
     "execution_count": 19,
     "metadata": {},
     "output_type": "execute_result"
    }
   ],
   "source": [
    "words_context_model.fit([data_text, data_previous_words, data_next_words], label, epochs=20)"
   ]
  },
  {
   "cell_type": "code",
   "execution_count": 20,
   "metadata": {},
   "outputs": [],
   "source": [
    "words_context_model.save('models/singleton_classifiers/words_context.model')"
   ]
  },
  {
   "cell_type": "markdown",
   "metadata": {},
   "source": [
    "## Words + Syntactic"
   ]
  },
  {
   "cell_type": "code",
   "execution_count": 21,
   "metadata": {},
   "outputs": [],
   "source": [
    "words_syntactic_model_builder = SingletonClassifierModelBuilder(\n",
    "    use_words_feature=True, \n",
    "    use_context_feature=False, \n",
    "    use_syntactic_feature=True,\n",
    "    embedding_matrix=embedding_matrix,\n",
    "    syntactic_features_num=data_syntactic.shape[1]\n",
    ")"
   ]
  },
  {
   "cell_type": "code",
   "execution_count": 22,
   "metadata": {},
   "outputs": [],
   "source": [
    "words_syntactic_model = words_syntactic_model_builder.create_model()"
   ]
  },
  {
   "cell_type": "code",
   "execution_count": 23,
   "metadata": {},
   "outputs": [
    {
     "name": "stdout",
     "output_type": "stream",
     "text": [
      "Epoch 1/20\n",
      "5032/5032 [==============================] - 5s 974us/step - loss: 0.3464 - acc: 0.8359\n",
      "Epoch 2/20\n",
      "5032/5032 [==============================] - 2s 445us/step - loss: 0.1945 - acc: 0.8824\n",
      "Epoch 3/20\n",
      "5032/5032 [==============================] - 2s 420us/step - loss: 0.1577 - acc: 0.9132\n",
      "Epoch 4/20\n",
      "5032/5032 [==============================] - 2s 416us/step - loss: 0.1378 - acc: 0.9281\n",
      "Epoch 5/20\n",
      "5032/5032 [==============================] - 2s 418us/step - loss: 0.1235 - acc: 0.9368\n",
      "Epoch 6/20\n",
      "5032/5032 [==============================] - 2s 419us/step - loss: 0.1106 - acc: 0.9408\n",
      "Epoch 7/20\n",
      "5032/5032 [==============================] - 2s 409us/step - loss: 0.1096 - acc: 0.9436\n",
      "Epoch 8/20\n",
      "5032/5032 [==============================] - 2s 429us/step - loss: 0.1076 - acc: 0.9465\n",
      "Epoch 9/20\n",
      "5032/5032 [==============================] - 2s 415us/step - loss: 0.1060 - acc: 0.9438\n",
      "Epoch 10/20\n",
      "5032/5032 [==============================] - 2s 404us/step - loss: 0.0993 - acc: 0.9483\n",
      "Epoch 11/20\n",
      "5032/5032 [==============================] - 2s 415us/step - loss: 0.0939 - acc: 0.9483\n",
      "Epoch 12/20\n",
      "5032/5032 [==============================] - 2s 420us/step - loss: 0.1040 - acc: 0.9463\n",
      "Epoch 13/20\n",
      "5032/5032 [==============================] - 2s 413us/step - loss: 0.1039 - acc: 0.9469\n",
      "Epoch 14/20\n",
      "5032/5032 [==============================] - 2s 412us/step - loss: 0.0961 - acc: 0.9477\n",
      "Epoch 15/20\n",
      "5032/5032 [==============================] - 2s 411us/step - loss: 0.0956 - acc: 0.9479\n",
      "Epoch 16/20\n",
      "5032/5032 [==============================] - 2s 418us/step - loss: 0.0920 - acc: 0.9501\n",
      "Epoch 17/20\n",
      "5032/5032 [==============================] - 2s 412us/step - loss: 0.0900 - acc: 0.9491\n",
      "Epoch 18/20\n",
      "5032/5032 [==============================] - 2s 438us/step - loss: 0.0924 - acc: 0.9505\n",
      "Epoch 19/20\n",
      "5032/5032 [==============================] - 2s 434us/step - loss: 0.0895 - acc: 0.9489\n",
      "Epoch 20/20\n",
      "5032/5032 [==============================] - 2s 441us/step - loss: 0.0857 - acc: 0.9487\n"
     ]
    },
    {
     "data": {
      "text/plain": [
       "<tensorflow.python.keras.callbacks.History at 0x1a4a7f4ef0>"
      ]
     },
     "execution_count": 23,
     "metadata": {},
     "output_type": "execute_result"
    }
   ],
   "source": [
    "words_syntactic_model.fit([data_text, data_syntactic], label, epochs=20)"
   ]
  },
  {
   "cell_type": "code",
   "execution_count": 24,
   "metadata": {},
   "outputs": [],
   "source": [
    "words_syntactic_model.save('models/singleton_classifiers/words_syntactic.model')"
   ]
  },
  {
   "cell_type": "markdown",
   "metadata": {},
   "source": [
    "## Context + Syntactic"
   ]
  },
  {
   "cell_type": "code",
   "execution_count": 25,
   "metadata": {},
   "outputs": [],
   "source": [
    "context_syntactic_model_builder = SingletonClassifierModelBuilder(\n",
    "    use_words_feature=False, \n",
    "    use_context_feature=True, \n",
    "    use_syntactic_feature=True,\n",
    "    embedding_matrix=embedding_matrix,\n",
    "    syntactic_features_num=data_syntactic.shape[1]\n",
    ")"
   ]
  },
  {
   "cell_type": "code",
   "execution_count": 26,
   "metadata": {},
   "outputs": [],
   "source": [
    "context_syntactic_model = context_syntactic_model_builder.create_model()"
   ]
  },
  {
   "cell_type": "code",
   "execution_count": 27,
   "metadata": {},
   "outputs": [
    {
     "name": "stdout",
     "output_type": "stream",
     "text": [
      "Epoch 1/20\n",
      "5032/5032 [==============================] - 6s 1ms/step - loss: 0.4985 - acc: 0.8221\n",
      "Epoch 2/20\n",
      "5032/5032 [==============================] - 3s 689us/step - loss: 0.2982 - acc: 0.8567\n",
      "Epoch 3/20\n",
      "5032/5032 [==============================] - 4s 697us/step - loss: 0.2295 - acc: 0.8923\n",
      "Epoch 4/20\n",
      "5032/5032 [==============================] - 3s 694us/step - loss: 0.2019 - acc: 0.9122\n",
      "Epoch 5/20\n",
      "5032/5032 [==============================] - 4s 713us/step - loss: 0.1638 - acc: 0.9328\n",
      "Epoch 6/20\n",
      "5032/5032 [==============================] - 3s 690us/step - loss: 0.1496 - acc: 0.9422\n",
      "Epoch 7/20\n",
      "5032/5032 [==============================] - 3s 694us/step - loss: 0.1195 - acc: 0.9535\n",
      "Epoch 8/20\n",
      "5032/5032 [==============================] - 4s 777us/step - loss: 0.1162 - acc: 0.9535\n",
      "Epoch 9/20\n",
      "5032/5032 [==============================] - 4s 769us/step - loss: 0.0915 - acc: 0.9688\n",
      "Epoch 10/20\n",
      "5032/5032 [==============================] - 4s 767us/step - loss: 0.1005 - acc: 0.9668\n",
      "Epoch 11/20\n",
      "5032/5032 [==============================] - 4s 707us/step - loss: 0.0778 - acc: 0.9712\n",
      "Epoch 12/20\n",
      "5032/5032 [==============================] - 3s 687us/step - loss: 0.0894 - acc: 0.9704\n",
      "Epoch 13/20\n",
      "5032/5032 [==============================] - 4s 823us/step - loss: 0.0826 - acc: 0.9728\n",
      "Epoch 14/20\n",
      "5032/5032 [==============================] - 4s 725us/step - loss: 0.0718 - acc: 0.9777\n",
      "Epoch 15/20\n",
      "5032/5032 [==============================] - 4s 728us/step - loss: 0.0574 - acc: 0.9815\n",
      "Epoch 16/20\n",
      "5032/5032 [==============================] - 4s 702us/step - loss: 0.0667 - acc: 0.9799\n",
      "Epoch 17/20\n",
      "5032/5032 [==============================] - 4s 702us/step - loss: 0.0534 - acc: 0.9827\n",
      "Epoch 18/20\n",
      "5032/5032 [==============================] - 4s 719us/step - loss: 0.0624 - acc: 0.9791\n",
      "Epoch 19/20\n",
      "5032/5032 [==============================] - 4s 781us/step - loss: 0.0538 - acc: 0.9839\n",
      "Epoch 20/20\n",
      "5032/5032 [==============================] - 4s 777us/step - loss: 0.0439 - acc: 0.9875\n"
     ]
    },
    {
     "data": {
      "text/plain": [
       "<tensorflow.python.keras.callbacks.History at 0x1a4f97d780>"
      ]
     },
     "execution_count": 27,
     "metadata": {},
     "output_type": "execute_result"
    }
   ],
   "source": [
    "context_syntactic_model.fit([data_previous_words, data_next_words, data_syntactic], label, epochs=20)"
   ]
  },
  {
   "cell_type": "code",
   "execution_count": 28,
   "metadata": {},
   "outputs": [],
   "source": [
    "context_syntactic_model.save('models/singleton_classifiers/context_syntactic.model')"
   ]
  },
  {
   "cell_type": "markdown",
   "metadata": {},
   "source": [
    "## Words + Context + Syntactic"
   ]
  },
  {
   "cell_type": "code",
   "execution_count": 29,
   "metadata": {},
   "outputs": [],
   "source": [
    "words_context_syntactic_model_builder = SingletonClassifierModelBuilder(\n",
    "    use_words_feature=True, \n",
    "    use_context_feature=True, \n",
    "    use_syntactic_feature=True,\n",
    "    embedding_matrix=embedding_matrix,\n",
    "    syntactic_features_num=data_syntactic.shape[1]\n",
    ")"
   ]
  },
  {
   "cell_type": "code",
   "execution_count": 30,
   "metadata": {},
   "outputs": [],
   "source": [
    "words_context_syntactic_model = words_context_syntactic_model_builder.create_model()"
   ]
  },
  {
   "cell_type": "code",
   "execution_count": 31,
   "metadata": {},
   "outputs": [
    {
     "name": "stdout",
     "output_type": "stream",
     "text": [
      "Epoch 1/20\n",
      "5032/5032 [==============================] - 9s 2ms/step - loss: 0.4045 - acc: 0.8309\n",
      "Epoch 2/20\n",
      "5032/5032 [==============================] - 6s 1ms/step - loss: 0.2114 - acc: 0.8961\n",
      "Epoch 3/20\n",
      "5032/5032 [==============================] - 6s 1ms/step - loss: 0.1602 - acc: 0.9243\n",
      "Epoch 4/20\n",
      "5032/5032 [==============================] - 7s 1ms/step - loss: 0.1322 - acc: 0.9416\n",
      "Epoch 5/20\n",
      "5032/5032 [==============================] - 6s 1ms/step - loss: 0.1010 - acc: 0.9601\n",
      "Epoch 6/20\n",
      "5032/5032 [==============================] - 6s 1ms/step - loss: 0.0824 - acc: 0.9694\n",
      "Epoch 7/20\n",
      "5032/5032 [==============================] - 6s 1ms/step - loss: 0.0687 - acc: 0.9722\n",
      "Epoch 8/20\n",
      "5032/5032 [==============================] - 6s 1ms/step - loss: 0.0536 - acc: 0.9795\n",
      "Epoch 9/20\n",
      "5032/5032 [==============================] - 6s 1ms/step - loss: 0.0489 - acc: 0.9817\n",
      "Epoch 10/20\n",
      "5032/5032 [==============================] - 6s 1ms/step - loss: 0.0390 - acc: 0.9843\n",
      "Epoch 11/20\n",
      "5032/5032 [==============================] - 5s 1ms/step - loss: 0.0455 - acc: 0.9819\n",
      "Epoch 12/20\n",
      "5032/5032 [==============================] - 5s 989us/step - loss: 0.0382 - acc: 0.9869\n",
      "Epoch 13/20\n",
      "5032/5032 [==============================] - 5s 1ms/step - loss: 0.0434 - acc: 0.9839\n",
      "Epoch 14/20\n",
      "5032/5032 [==============================] - 5s 1ms/step - loss: 0.0524 - acc: 0.9803\n",
      "Epoch 15/20\n",
      "5032/5032 [==============================] - 6s 1ms/step - loss: 0.0546 - acc: 0.9835\n",
      "Epoch 16/20\n",
      "5032/5032 [==============================] - 5s 1ms/step - loss: 0.0397 - acc: 0.9861\n",
      "Epoch 17/20\n",
      "5032/5032 [==============================] - 5s 1ms/step - loss: 0.0377 - acc: 0.9889\n",
      "Epoch 18/20\n",
      "5032/5032 [==============================] - 6s 1ms/step - loss: 0.0311 - acc: 0.9922\n",
      "Epoch 19/20\n",
      "5032/5032 [==============================] - 5s 1ms/step - loss: 0.0290 - acc: 0.9917\n",
      "Epoch 20/20\n",
      "5032/5032 [==============================] - 6s 1ms/step - loss: 0.0341 - acc: 0.9915\n"
     ]
    },
    {
     "data": {
      "text/plain": [
       "<tensorflow.python.keras.callbacks.History at 0x1a4ddd3be0>"
      ]
     },
     "execution_count": 31,
     "metadata": {},
     "output_type": "execute_result"
    }
   ],
   "source": [
    "words_context_syntactic_model.fit([data_text, data_previous_words, data_next_words, data_syntactic], label, epochs=20)"
   ]
  },
  {
   "cell_type": "code",
   "execution_count": 32,
   "metadata": {},
   "outputs": [],
   "source": [
    "words_context_syntactic_model.save('models/singleton_classifiers/words_context_syntactic.model')"
   ]
  }
 ],
 "metadata": {
  "kernelspec": {
   "display_name": "Python TA",
   "language": "python",
   "name": "ta-v2"
  },
  "language_info": {
   "codemirror_mode": {
    "name": "ipython",
    "version": 3
   },
   "file_extension": ".py",
   "mimetype": "text/x-python",
   "name": "python",
   "nbconvert_exporter": "python",
   "pygments_lexer": "ipython3",
   "version": "3.6.8"
  }
 },
 "nbformat": 4,
 "nbformat_minor": 2
}
