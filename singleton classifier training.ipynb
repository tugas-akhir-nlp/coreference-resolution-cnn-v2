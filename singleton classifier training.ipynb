{
 "cells": [
  {
   "cell_type": "code",
   "execution_count": 1,
   "metadata": {},
   "outputs": [],
   "source": [
    "import pandas as pd\n",
    "import numpy as np\n",
    "from utils.data_helper import get_markable_dataframe, get_embedding_variables\n",
    "from model_builders.singleton_classifier import SingletonClassifierModelBuilder\n",
    "from functools import reduce\n",
    "\n",
    "from tensorflow.keras.preprocessing.sequence import pad_sequences"
   ]
  },
  {
   "cell_type": "code",
   "execution_count": 2,
   "metadata": {},
   "outputs": [],
   "source": [
    "embedding_indexes_file_path = 'helper_files/embedding/embedding_indexes.txt'\n",
    "indexed_embedding_file_path = 'helper_files/embedding/indexed_embedding.txt'\n",
    "\n",
    "word_vector, embedding_matrix, idx_by_word, word_by_idx = get_embedding_variables(embedding_indexes_file_path, indexed_embedding_file_path)"
   ]
  },
  {
   "cell_type": "code",
   "execution_count": 3,
   "metadata": {},
   "outputs": [
    {
     "data": {
      "text/html": [
       "<div>\n",
       "<style scoped>\n",
       "    .dataframe tbody tr th:only-of-type {\n",
       "        vertical-align: middle;\n",
       "    }\n",
       "\n",
       "    .dataframe tbody tr th {\n",
       "        vertical-align: top;\n",
       "    }\n",
       "\n",
       "    .dataframe thead th {\n",
       "        text-align: right;\n",
       "    }\n",
       "</style>\n",
       "<table border=\"1\" class=\"dataframe\">\n",
       "  <thead>\n",
       "    <tr style=\"text-align: right;\">\n",
       "      <th></th>\n",
       "      <th>id</th>\n",
       "      <th>text</th>\n",
       "      <th>is_pronoun</th>\n",
       "      <th>entity_type</th>\n",
       "      <th>is_proper_name</th>\n",
       "      <th>is_first_person</th>\n",
       "      <th>previous_words</th>\n",
       "      <th>next_words</th>\n",
       "      <th>is_singleton</th>\n",
       "    </tr>\n",
       "  </thead>\n",
       "  <tbody>\n",
       "    <tr>\n",
       "      <th>0</th>\n",
       "      <td>1</td>\n",
       "      <td>[1]</td>\n",
       "      <td>0</td>\n",
       "      <td>[1, 0, 0, 0, 0, 0, 0, 0, 0, 0]</td>\n",
       "      <td>0</td>\n",
       "      <td>0</td>\n",
       "      <td>[]</td>\n",
       "      <td>[2, 3, 4, 5, 6, 7, 8, 9, 10, 2]</td>\n",
       "      <td>[0.0, 1.0]</td>\n",
       "    </tr>\n",
       "    <tr>\n",
       "      <th>1</th>\n",
       "      <td>2</td>\n",
       "      <td>[4, 5]</td>\n",
       "      <td>0</td>\n",
       "      <td>[0, 0, 0, 0, 0, 1, 0, 0, 0, 0]</td>\n",
       "      <td>0</td>\n",
       "      <td>0</td>\n",
       "      <td>[1, 2, 3]</td>\n",
       "      <td>[6, 7, 8, 9, 10, 2, 11, 12, 13, 14]</td>\n",
       "      <td>[0.0, 1.0]</td>\n",
       "    </tr>\n",
       "    <tr>\n",
       "      <th>2</th>\n",
       "      <td>3</td>\n",
       "      <td>[6, 7, 8]</td>\n",
       "      <td>0</td>\n",
       "      <td>[0, 0, 1, 0, 0, 0, 0, 0, 0, 1]</td>\n",
       "      <td>1</td>\n",
       "      <td>0</td>\n",
       "      <td>[1, 2, 3, 4, 5]</td>\n",
       "      <td>[9, 10, 2, 11, 12, 13, 14, 15, 16, 17]</td>\n",
       "      <td>[1.0, 0.0]</td>\n",
       "    </tr>\n",
       "    <tr>\n",
       "      <th>3</th>\n",
       "      <td>4</td>\n",
       "      <td>[10]</td>\n",
       "      <td>0</td>\n",
       "      <td>[0, 0, 0, 0, 0, 1, 0, 0, 0, 0]</td>\n",
       "      <td>0</td>\n",
       "      <td>0</td>\n",
       "      <td>[1, 2, 3, 4, 5, 6, 7, 8, 9]</td>\n",
       "      <td>[2, 11, 12, 13, 14, 15, 16, 17, 18, 19]</td>\n",
       "      <td>[0.0, 1.0]</td>\n",
       "    </tr>\n",
       "    <tr>\n",
       "      <th>4</th>\n",
       "      <td>5</td>\n",
       "      <td>[12, 13]</td>\n",
       "      <td>0</td>\n",
       "      <td>[0, 0, 0, 0, 0, 1, 0, 0, 0, 0]</td>\n",
       "      <td>0</td>\n",
       "      <td>0</td>\n",
       "      <td>[3, 4, 5, 6, 7, 8, 9, 10, 2, 11]</td>\n",
       "      <td>[14, 15, 16, 17, 18, 19, 4, 5, 20, 21]</td>\n",
       "      <td>[0.0, 1.0]</td>\n",
       "    </tr>\n",
       "  </tbody>\n",
       "</table>\n",
       "</div>"
      ],
      "text/plain": [
       "   id       text  is_pronoun                     entity_type  is_proper_name  \\\n",
       "0   1        [1]           0  [1, 0, 0, 0, 0, 0, 0, 0, 0, 0]               0   \n",
       "1   2     [4, 5]           0  [0, 0, 0, 0, 0, 1, 0, 0, 0, 0]               0   \n",
       "2   3  [6, 7, 8]           0  [0, 0, 1, 0, 0, 0, 0, 0, 0, 1]               1   \n",
       "3   4       [10]           0  [0, 0, 0, 0, 0, 1, 0, 0, 0, 0]               0   \n",
       "4   5   [12, 13]           0  [0, 0, 0, 0, 0, 1, 0, 0, 0, 0]               0   \n",
       "\n",
       "   is_first_person                    previous_words  \\\n",
       "0                0                                []   \n",
       "1                0                         [1, 2, 3]   \n",
       "2                0                   [1, 2, 3, 4, 5]   \n",
       "3                0       [1, 2, 3, 4, 5, 6, 7, 8, 9]   \n",
       "4                0  [3, 4, 5, 6, 7, 8, 9, 10, 2, 11]   \n",
       "\n",
       "                                next_words is_singleton  \n",
       "0          [2, 3, 4, 5, 6, 7, 8, 9, 10, 2]   [0.0, 1.0]  \n",
       "1      [6, 7, 8, 9, 10, 2, 11, 12, 13, 14]   [0.0, 1.0]  \n",
       "2   [9, 10, 2, 11, 12, 13, 14, 15, 16, 17]   [1.0, 0.0]  \n",
       "3  [2, 11, 12, 13, 14, 15, 16, 17, 18, 19]   [0.0, 1.0]  \n",
       "4   [14, 15, 16, 17, 18, 19, 4, 5, 20, 21]   [0.0, 1.0]  "
      ]
     },
     "execution_count": 3,
     "metadata": {},
     "output_type": "execute_result"
    }
   ],
   "source": [
    "data = get_markable_dataframe(\"data/training/markables.csv\", word_vector, idx_by_word)\n",
    "\n",
    "data.head()"
   ]
  },
  {
   "cell_type": "code",
   "execution_count": 4,
   "metadata": {},
   "outputs": [],
   "source": [
    "max_text_length = 10\n",
    "max_prev_words_length = 10\n",
    "max_next_words_length = 10\n",
    "\n",
    "data_text = pad_sequences(data.text, maxlen=max_text_length, padding='post')\n",
    "data_previous_words = pad_sequences(data.previous_words.map(lambda seq: seq[(-1*max_prev_words_length):]), maxlen=max_prev_words_length, padding='pre')\n",
    "data_next_words = pad_sequences(data.next_words.map(lambda seq: seq[:max_next_words_length]), maxlen=max_next_words_length, padding='post')\n",
    "data_syntactic = data[['is_pronoun', 'entity_type', 'is_proper_name', 'is_first_person']]\n",
    "\n",
    "data_syntactic = np.array(list(map(lambda p: reduce(lambda x,y: x + y, [i if type(i) is list else [i] for i in p]), data_syntactic.values)))\n",
    "label = np.vstack(data.is_singleton)"
   ]
  },
  {
   "cell_type": "markdown",
   "metadata": {},
   "source": [
    "# Build Model"
   ]
  },
  {
   "cell_type": "markdown",
   "metadata": {},
   "source": [
    "## Words"
   ]
  },
  {
   "cell_type": "code",
   "execution_count": 5,
   "metadata": {},
   "outputs": [],
   "source": [
    "words_model_builder = SingletonClassifierModelBuilder(\n",
    "    use_words_feature=True, \n",
    "    use_context_feature=False, \n",
    "    use_syntactic_feature=False,\n",
    "    embedding_matrix=embedding_matrix\n",
    ")"
   ]
  },
  {
   "cell_type": "code",
   "execution_count": 6,
   "metadata": {},
   "outputs": [],
   "source": [
    "words_model = words_model_builder.create_model()"
   ]
  },
  {
   "cell_type": "code",
   "execution_count": 7,
   "metadata": {},
   "outputs": [
    {
     "name": "stdout",
     "output_type": "stream",
     "text": [
      "Epoch 1/20\n",
      "5032/5032 [==============================] - 6s 1ms/step - loss: 0.2877 - acc: 0.8774\n",
      "Epoch 2/20\n",
      "5032/5032 [==============================] - 5s 937us/step - loss: 0.1854 - acc: 0.9171\n",
      "Epoch 3/20\n",
      "5032/5032 [==============================] - 5s 1ms/step - loss: 0.1481 - acc: 0.9298\n",
      "Epoch 4/20\n",
      "5032/5032 [==============================] - 6s 1ms/step - loss: 0.1360 - acc: 0.9362\n",
      "Epoch 5/20\n",
      "5032/5032 [==============================] - 5s 958us/step - loss: 0.1209 - acc: 0.9408\n",
      "Epoch 6/20\n",
      "5032/5032 [==============================] - 5s 1ms/step - loss: 0.1253 - acc: 0.9420\n",
      "Epoch 7/20\n",
      "5032/5032 [==============================] - 6s 1ms/step - loss: 0.1127 - acc: 0.9404\n",
      "Epoch 8/20\n",
      "5032/5032 [==============================] - 5s 1ms/step - loss: 0.1397 - acc: 0.9344\n",
      "Epoch 9/20\n",
      "5032/5032 [==============================] - 5s 1ms/step - loss: 0.1108 - acc: 0.9448\n",
      "Epoch 10/20\n",
      "5032/5032 [==============================] - 5s 1ms/step - loss: 0.1051 - acc: 0.9459\n",
      "Epoch 11/20\n",
      "5032/5032 [==============================] - 5s 1ms/step - loss: 0.1180 - acc: 0.9412\n",
      "Epoch 12/20\n",
      "5032/5032 [==============================] - 5s 907us/step - loss: 0.1170 - acc: 0.9412\n",
      "Epoch 13/20\n",
      "5032/5032 [==============================] - 5s 1ms/step - loss: 0.1005 - acc: 0.9477\n",
      "Epoch 14/20\n",
      "5032/5032 [==============================] - 5s 1ms/step - loss: 0.1015 - acc: 0.9446\n",
      "Epoch 15/20\n",
      "5032/5032 [==============================] - 6s 1ms/step - loss: 0.0977 - acc: 0.9463\n",
      "Epoch 16/20\n",
      "5032/5032 [==============================] - 5s 983us/step - loss: 0.1038 - acc: 0.9459\n",
      "Epoch 17/20\n",
      "5032/5032 [==============================] - 5s 1ms/step - loss: 0.1018 - acc: 0.9440\n",
      "Epoch 18/20\n",
      "5032/5032 [==============================] - 5s 1ms/step - loss: 0.1095 - acc: 0.9461\n",
      "Epoch 19/20\n",
      "5032/5032 [==============================] - 5s 1ms/step - loss: 0.1069 - acc: 0.9452\n",
      "Epoch 20/20\n",
      "5032/5032 [==============================] - 5s 933us/step - loss: 0.0993 - acc: 0.9471\n"
     ]
    },
    {
     "data": {
      "text/plain": [
       "<tensorflow.python.keras.callbacks.History at 0x139fbfb38>"
      ]
     },
     "execution_count": 7,
     "metadata": {},
     "output_type": "execute_result"
    }
   ],
   "source": [
    "words_model.fit([data_text], label, epochs=20)"
   ]
  },
  {
   "cell_type": "code",
   "execution_count": 8,
   "metadata": {},
   "outputs": [],
   "source": [
    "words_model.save('models/singleton_classifiers/words.model')"
   ]
  },
  {
   "cell_type": "markdown",
   "metadata": {},
   "source": [
    "## Context"
   ]
  },
  {
   "cell_type": "code",
   "execution_count": 9,
   "metadata": {},
   "outputs": [],
   "source": [
    "context_model_builder = SingletonClassifierModelBuilder(\n",
    "    use_words_feature=False, \n",
    "    use_context_feature=True, \n",
    "    use_syntactic_feature=False,\n",
    "    embedding_matrix=embedding_matrix\n",
    ")"
   ]
  },
  {
   "cell_type": "code",
   "execution_count": 10,
   "metadata": {},
   "outputs": [],
   "source": [
    "context_model = context_model_builder.create_model()"
   ]
  },
  {
   "cell_type": "code",
   "execution_count": 11,
   "metadata": {},
   "outputs": [
    {
     "name": "stdout",
     "output_type": "stream",
     "text": [
      "Epoch 1/20\n",
      "5032/5032 [==============================] - 10s 2ms/step - loss: 0.4636 - acc: 0.8309\n",
      "Epoch 2/20\n",
      "5032/5032 [==============================] - 7s 1ms/step - loss: 0.3546 - acc: 0.8601\n",
      "Epoch 3/20\n",
      "5032/5032 [==============================] - 8s 1ms/step - loss: 0.2402 - acc: 0.9155\n",
      "Epoch 4/20\n",
      "5032/5032 [==============================] - 8s 2ms/step - loss: 0.1375 - acc: 0.9501\n",
      "Epoch 5/20\n",
      "5032/5032 [==============================] - 8s 2ms/step - loss: 0.0884 - acc: 0.9696\n",
      "Epoch 6/20\n",
      "5032/5032 [==============================] - 8s 2ms/step - loss: 0.0810 - acc: 0.9762\n",
      "Epoch 7/20\n",
      "5032/5032 [==============================] - 8s 2ms/step - loss: 0.0442 - acc: 0.9867\n",
      "Epoch 8/20\n",
      "5032/5032 [==============================] - 8s 2ms/step - loss: 0.0471 - acc: 0.9869\n",
      "Epoch 9/20\n",
      "5032/5032 [==============================] - 8s 2ms/step - loss: 0.0441 - acc: 0.9879\n",
      "Epoch 10/20\n",
      "5032/5032 [==============================] - 10s 2ms/step - loss: 0.0378 - acc: 0.9887\n",
      "Epoch 11/20\n",
      "5032/5032 [==============================] - 8s 2ms/step - loss: 0.0268 - acc: 0.9922\n",
      "Epoch 12/20\n",
      "5032/5032 [==============================] - 8s 2ms/step - loss: 0.0205 - acc: 0.9956\n",
      "Epoch 13/20\n",
      "5032/5032 [==============================] - 8s 2ms/step - loss: 0.0253 - acc: 0.9932\n",
      "Epoch 14/20\n",
      "5032/5032 [==============================] - 8s 2ms/step - loss: 0.0114 - acc: 0.9968\n",
      "Epoch 15/20\n",
      "5032/5032 [==============================] - 8s 2ms/step - loss: 0.0156 - acc: 0.9940\n",
      "Epoch 16/20\n",
      "5032/5032 [==============================] - 8s 2ms/step - loss: 0.0250 - acc: 0.9924\n",
      "Epoch 17/20\n",
      "5032/5032 [==============================] - 8s 2ms/step - loss: 0.0234 - acc: 0.9932\n",
      "Epoch 18/20\n",
      "5032/5032 [==============================] - 8s 2ms/step - loss: 0.0225 - acc: 0.9930\n",
      "Epoch 19/20\n",
      "5032/5032 [==============================] - 9s 2ms/step - loss: 0.0118 - acc: 0.9972\n",
      "Epoch 20/20\n",
      "5032/5032 [==============================] - 8s 2ms/step - loss: 0.0167 - acc: 0.9944\n"
     ]
    },
    {
     "data": {
      "text/plain": [
       "<tensorflow.python.keras.callbacks.History at 0x1a43c89748>"
      ]
     },
     "execution_count": 11,
     "metadata": {},
     "output_type": "execute_result"
    }
   ],
   "source": [
    "context_model.fit([data_previous_words, data_next_words], label, epochs=20)"
   ]
  },
  {
   "cell_type": "code",
   "execution_count": 12,
   "metadata": {},
   "outputs": [],
   "source": [
    "context_model.save('models/singleton_classifiers/context.model')"
   ]
  },
  {
   "cell_type": "markdown",
   "metadata": {},
   "source": [
    "## Syntactic"
   ]
  },
  {
   "cell_type": "code",
   "execution_count": 13,
   "metadata": {},
   "outputs": [],
   "source": [
    "syntactic_model_builder = SingletonClassifierModelBuilder(\n",
    "    use_words_feature=False, \n",
    "    use_context_feature=False, \n",
    "    use_syntactic_feature=True,\n",
    "    syntactic_features_num=data_syntactic.shape[1]\n",
    ")"
   ]
  },
  {
   "cell_type": "code",
   "execution_count": 14,
   "metadata": {},
   "outputs": [],
   "source": [
    "syntactic_model = syntactic_model_builder.create_model()"
   ]
  },
  {
   "cell_type": "code",
   "execution_count": 15,
   "metadata": {},
   "outputs": [
    {
     "name": "stdout",
     "output_type": "stream",
     "text": [
      "Epoch 1/20\n",
      "5032/5032 [==============================] - 6s 1ms/step - loss: 0.3115 - acc: 0.8370\n",
      "Epoch 2/20\n",
      "5032/5032 [==============================] - 3s 653us/step - loss: 0.2672 - acc: 0.8396\n",
      "Epoch 3/20\n",
      "5032/5032 [==============================] - 3s 665us/step - loss: 0.2617 - acc: 0.8514\n",
      "Epoch 4/20\n",
      "5032/5032 [==============================] - 3s 684us/step - loss: 0.2633 - acc: 0.8605\n",
      "Epoch 5/20\n",
      "5032/5032 [==============================] - 3s 683us/step - loss: 0.2623 - acc: 0.8527\n",
      "Epoch 6/20\n",
      "5032/5032 [==============================] - 5s 906us/step - loss: 0.2557 - acc: 0.8579\n",
      "Epoch 7/20\n",
      "5032/5032 [==============================] - 3s 649us/step - loss: 0.2609 - acc: 0.8567\n",
      "Epoch 8/20\n",
      "5032/5032 [==============================] - 3s 691us/step - loss: 0.2533 - acc: 0.8589\n",
      "Epoch 9/20\n",
      "5032/5032 [==============================] - 4s 838us/step - loss: 0.2530 - acc: 0.8615\n",
      "Epoch 10/20\n",
      "5032/5032 [==============================] - 4s 730us/step - loss: 0.2516 - acc: 0.8623\n",
      "Epoch 11/20\n",
      "5032/5032 [==============================] - 4s 716us/step - loss: 0.2546 - acc: 0.8585\n",
      "Epoch 12/20\n",
      "5032/5032 [==============================] - 4s 728us/step - loss: 0.2508 - acc: 0.8627\n",
      "Epoch 13/20\n",
      "5032/5032 [==============================] - 4s 739us/step - loss: 0.2545 - acc: 0.8597\n",
      "Epoch 14/20\n",
      "5032/5032 [==============================] - 4s 773us/step - loss: 0.2566 - acc: 0.8629\n",
      "Epoch 15/20\n",
      "5032/5032 [==============================] - 4s 746us/step - loss: 0.2653 - acc: 0.8633\n",
      "Epoch 16/20\n",
      "5032/5032 [==============================] - 3s 687us/step - loss: 0.2524 - acc: 0.8627\n",
      "Epoch 17/20\n",
      "5032/5032 [==============================] - 3s 691us/step - loss: 0.2530 - acc: 0.8605\n",
      "Epoch 18/20\n",
      "5032/5032 [==============================] - 4s 745us/step - loss: 0.2556 - acc: 0.8653\n",
      "Epoch 19/20\n",
      "5032/5032 [==============================] - 4s 704us/step - loss: 0.2501 - acc: 0.8599\n",
      "Epoch 20/20\n",
      "5032/5032 [==============================] - 4s 704us/step - loss: 0.2539 - acc: 0.8565\n"
     ]
    },
    {
     "data": {
      "text/plain": [
       "<tensorflow.python.keras.callbacks.History at 0x1a56421a20>"
      ]
     },
     "execution_count": 15,
     "metadata": {},
     "output_type": "execute_result"
    }
   ],
   "source": [
    "syntactic_model.fit([data_syntactic], label, epochs=20)"
   ]
  },
  {
   "cell_type": "code",
   "execution_count": 16,
   "metadata": {},
   "outputs": [],
   "source": [
    "syntactic_model.save('models/singleton_classifiers/syntactic.model')"
   ]
  },
  {
   "cell_type": "markdown",
   "metadata": {},
   "source": [
    "## Words + Context"
   ]
  },
  {
   "cell_type": "code",
   "execution_count": 17,
   "metadata": {},
   "outputs": [],
   "source": [
    "words_context_model_builder = SingletonClassifierModelBuilder(\n",
    "    use_words_feature=True, \n",
    "    use_context_feature=True, \n",
    "    use_syntactic_feature=False,\n",
    "    embedding_matrix=embedding_matrix\n",
    ")"
   ]
  },
  {
   "cell_type": "code",
   "execution_count": 18,
   "metadata": {},
   "outputs": [],
   "source": [
    "words_context_model = words_context_model_builder.create_model()"
   ]
  },
  {
   "cell_type": "code",
   "execution_count": 19,
   "metadata": {},
   "outputs": [
    {
     "name": "stdout",
     "output_type": "stream",
     "text": [
      "Epoch 1/20\n",
      "5032/5032 [==============================] - 13s 2ms/step - loss: 0.3456 - acc: 0.8519\n",
      "Epoch 2/20\n",
      "5032/5032 [==============================] - 10s 2ms/step - loss: 0.1690 - acc: 0.9356\n",
      "Epoch 3/20\n",
      "5032/5032 [==============================] - 11s 2ms/step - loss: 0.0745 - acc: 0.9710\n",
      "Epoch 4/20\n",
      "5032/5032 [==============================] - 11s 2ms/step - loss: 0.0515 - acc: 0.9851\n",
      "Epoch 5/20\n",
      "5032/5032 [==============================] - 11s 2ms/step - loss: 0.0323 - acc: 0.9863\n",
      "Epoch 6/20\n",
      "5032/5032 [==============================] - 11s 2ms/step - loss: 0.0228 - acc: 0.9934\n",
      "Epoch 7/20\n",
      "5032/5032 [==============================] - 11s 2ms/step - loss: 0.0280 - acc: 0.9928\n",
      "Epoch 8/20\n",
      "5032/5032 [==============================] - 12s 2ms/step - loss: 0.0428 - acc: 0.9903\n",
      "Epoch 9/20\n",
      "5032/5032 [==============================] - 11s 2ms/step - loss: 0.0206 - acc: 0.9928\n",
      "Epoch 10/20\n",
      "5032/5032 [==============================] - 11s 2ms/step - loss: 0.0241 - acc: 0.9948\n",
      "Epoch 11/20\n",
      "5032/5032 [==============================] - 11s 2ms/step - loss: 0.0267 - acc: 0.9930\n",
      "Epoch 12/20\n",
      "5032/5032 [==============================] - 12s 2ms/step - loss: 0.0109 - acc: 0.9984\n",
      "Epoch 13/20\n",
      "5032/5032 [==============================] - 11s 2ms/step - loss: 0.0215 - acc: 0.9956\n",
      "Epoch 14/20\n",
      "5032/5032 [==============================] - 12s 2ms/step - loss: 0.0228 - acc: 0.9946\n",
      "Epoch 15/20\n",
      "5032/5032 [==============================] - 14s 3ms/step - loss: 0.0128 - acc: 0.9978\n",
      "Epoch 16/20\n",
      "5032/5032 [==============================] - 13s 3ms/step - loss: 0.0117 - acc: 0.9984\n",
      "Epoch 17/20\n",
      "5032/5032 [==============================] - 11s 2ms/step - loss: 0.0035 - acc: 0.9998\n",
      "Epoch 18/20\n",
      "5032/5032 [==============================] - 13s 3ms/step - loss: 0.0101 - acc: 0.9978\n",
      "Epoch 19/20\n",
      "5032/5032 [==============================] - 16s 3ms/step - loss: 0.0127 - acc: 0.9968\n",
      "Epoch 20/20\n",
      "5032/5032 [==============================] - 13s 2ms/step - loss: 0.0263 - acc: 0.9952\n"
     ]
    },
    {
     "data": {
      "text/plain": [
       "<tensorflow.python.keras.callbacks.History at 0x1a588a3978>"
      ]
     },
     "execution_count": 19,
     "metadata": {},
     "output_type": "execute_result"
    }
   ],
   "source": [
    "words_context_model.fit([data_text, data_previous_words, data_next_words], label, epochs=20)"
   ]
  },
  {
   "cell_type": "code",
   "execution_count": 20,
   "metadata": {},
   "outputs": [],
   "source": [
    "words_context_model.save('models/singleton_classifiers/words_context.model')"
   ]
  },
  {
   "cell_type": "markdown",
   "metadata": {},
   "source": [
    "## Words + Syntactic"
   ]
  },
  {
   "cell_type": "code",
   "execution_count": 21,
   "metadata": {},
   "outputs": [],
   "source": [
    "words_syntactic_model_builder = SingletonClassifierModelBuilder(\n",
    "    use_words_feature=True, \n",
    "    use_context_feature=False, \n",
    "    use_syntactic_feature=True,\n",
    "    embedding_matrix=embedding_matrix,\n",
    "    syntactic_features_num=data_syntactic.shape[1]\n",
    ")"
   ]
  },
  {
   "cell_type": "code",
   "execution_count": 22,
   "metadata": {},
   "outputs": [],
   "source": [
    "words_syntactic_model = words_syntactic_model_builder.create_model()"
   ]
  },
  {
   "cell_type": "code",
   "execution_count": 23,
   "metadata": {},
   "outputs": [
    {
     "name": "stdout",
     "output_type": "stream",
     "text": [
      "Epoch 1/20\n",
      "5032/5032 [==============================] - 9s 2ms/step - loss: 0.2551 - acc: 0.8768\n",
      "Epoch 2/20\n",
      "5032/5032 [==============================] - 6s 1ms/step - loss: 0.1654 - acc: 0.9223\n",
      "Epoch 3/20\n",
      "5032/5032 [==============================] - 6s 1ms/step - loss: 0.1409 - acc: 0.9306\n",
      "Epoch 4/20\n",
      "5032/5032 [==============================] - 6s 1ms/step - loss: 0.1306 - acc: 0.9394\n",
      "Epoch 5/20\n",
      "5032/5032 [==============================] - 6s 1ms/step - loss: 0.1246 - acc: 0.9398\n",
      "Epoch 6/20\n",
      "5032/5032 [==============================] - 6s 1ms/step - loss: 0.1115 - acc: 0.9440\n",
      "Epoch 7/20\n",
      "5032/5032 [==============================] - 7s 1ms/step - loss: 0.1184 - acc: 0.9390\n",
      "Epoch 8/20\n",
      "5032/5032 [==============================] - 6s 1ms/step - loss: 0.1078 - acc: 0.9416\n",
      "Epoch 9/20\n",
      "5032/5032 [==============================] - 6s 1ms/step - loss: 0.1009 - acc: 0.9475\n",
      "Epoch 10/20\n",
      "5032/5032 [==============================] - 6s 1ms/step - loss: 0.0998 - acc: 0.9438\n",
      "Epoch 11/20\n",
      "5032/5032 [==============================] - 6s 1ms/step - loss: 0.1116 - acc: 0.9428\n",
      "Epoch 12/20\n",
      "5032/5032 [==============================] - 6s 1ms/step - loss: 0.1011 - acc: 0.9465\n",
      "Epoch 13/20\n",
      "5032/5032 [==============================] - 6s 1ms/step - loss: 0.1046 - acc: 0.9453\n",
      "Epoch 14/20\n",
      "5032/5032 [==============================] - 6s 1ms/step - loss: 0.0982 - acc: 0.9507\n",
      "Epoch 15/20\n",
      "5032/5032 [==============================] - 6s 1ms/step - loss: 0.1021 - acc: 0.9491\n",
      "Epoch 16/20\n",
      "5032/5032 [==============================] - 6s 1ms/step - loss: 0.1005 - acc: 0.9511\n",
      "Epoch 17/20\n",
      "5032/5032 [==============================] - 6s 1ms/step - loss: 0.0977 - acc: 0.9507\n",
      "Epoch 18/20\n",
      "5032/5032 [==============================] - 7s 1ms/step - loss: 0.0928 - acc: 0.9503\n",
      "Epoch 19/20\n",
      "5032/5032 [==============================] - 6s 1ms/step - loss: 0.1018 - acc: 0.9491\n",
      "Epoch 20/20\n",
      "5032/5032 [==============================] - 6s 1ms/step - loss: 0.1049 - acc: 0.9485\n"
     ]
    },
    {
     "data": {
      "text/plain": [
       "<tensorflow.python.keras.callbacks.History at 0x1a5a448e10>"
      ]
     },
     "execution_count": 23,
     "metadata": {},
     "output_type": "execute_result"
    }
   ],
   "source": [
    "words_syntactic_model.fit([data_text, data_syntactic], label, epochs=20)"
   ]
  },
  {
   "cell_type": "code",
   "execution_count": 24,
   "metadata": {},
   "outputs": [],
   "source": [
    "words_syntactic_model.save('models/singleton_classifiers/words_syntactic.model')"
   ]
  },
  {
   "cell_type": "markdown",
   "metadata": {},
   "source": [
    "## Context + Syntactic"
   ]
  },
  {
   "cell_type": "code",
   "execution_count": 25,
   "metadata": {},
   "outputs": [],
   "source": [
    "context_syntactic_model_builder = SingletonClassifierModelBuilder(\n",
    "    use_words_feature=False, \n",
    "    use_context_feature=True, \n",
    "    use_syntactic_feature=True,\n",
    "    embedding_matrix=embedding_matrix,\n",
    "    syntactic_features_num=data_syntactic.shape[1]\n",
    ")"
   ]
  },
  {
   "cell_type": "code",
   "execution_count": 26,
   "metadata": {},
   "outputs": [],
   "source": [
    "context_syntactic_model = context_syntactic_model_builder.create_model()"
   ]
  },
  {
   "cell_type": "code",
   "execution_count": 27,
   "metadata": {},
   "outputs": [
    {
     "name": "stdout",
     "output_type": "stream",
     "text": [
      "Epoch 1/20\n",
      "5032/5032 [==============================] - 13s 3ms/step - loss: 0.3720 - acc: 0.8343\n",
      "Epoch 2/20\n",
      "5032/5032 [==============================] - 10s 2ms/step - loss: 0.2294 - acc: 0.8909\n",
      "Epoch 3/20\n",
      "5032/5032 [==============================] - 12s 2ms/step - loss: 0.1367 - acc: 0.9479\n",
      "Epoch 4/20\n",
      "5032/5032 [==============================] - 9s 2ms/step - loss: 0.0821 - acc: 0.9762\n",
      "Epoch 5/20\n",
      "5032/5032 [==============================] - 10s 2ms/step - loss: 0.0574 - acc: 0.9833\n",
      "Epoch 6/20\n",
      "5032/5032 [==============================] - 10s 2ms/step - loss: 0.0678 - acc: 0.9811\n",
      "Epoch 7/20\n",
      "5032/5032 [==============================] - 10s 2ms/step - loss: 0.0390 - acc: 0.9885\n",
      "Epoch 8/20\n",
      "5032/5032 [==============================] - 12s 2ms/step - loss: 0.0206 - acc: 0.9932\n",
      "Epoch 9/20\n",
      "5032/5032 [==============================] - 10s 2ms/step - loss: 0.0283 - acc: 0.9924\n",
      "Epoch 10/20\n",
      "5032/5032 [==============================] - 9s 2ms/step - loss: 0.0161 - acc: 0.9940\n",
      "Epoch 11/20\n",
      "5032/5032 [==============================] - 11s 2ms/step - loss: 0.0300 - acc: 0.9936\n",
      "Epoch 12/20\n",
      "5032/5032 [==============================] - 10s 2ms/step - loss: 0.0156 - acc: 0.9974\n",
      "Epoch 13/20\n",
      "5032/5032 [==============================] - 11s 2ms/step - loss: 0.0251 - acc: 0.9956\n",
      "Epoch 14/20\n",
      "5032/5032 [==============================] - 11s 2ms/step - loss: 0.0223 - acc: 0.9938\n",
      "Epoch 15/20\n",
      "5032/5032 [==============================] - 10s 2ms/step - loss: 0.0020 - acc: 0.9994\n",
      "Epoch 16/20\n",
      "5032/5032 [==============================] - 9s 2ms/step - loss: 2.1964e-04 - acc: 1.0000\n",
      "Epoch 17/20\n",
      "5032/5032 [==============================] - 10s 2ms/step - loss: 2.4977e-05 - acc: 1.0000\n",
      "Epoch 18/20\n",
      "5032/5032 [==============================] - 12s 2ms/step - loss: 3.1767e-05 - acc: 1.0000\n",
      "Epoch 19/20\n",
      "5032/5032 [==============================] - 10s 2ms/step - loss: 1.4633e-05 - acc: 1.0000\n",
      "Epoch 20/20\n",
      "5032/5032 [==============================] - 10s 2ms/step - loss: 2.6295e-05 - acc: 1.0000\n"
     ]
    },
    {
     "data": {
      "text/plain": [
       "<tensorflow.python.keras.callbacks.History at 0x1a59e4eeb8>"
      ]
     },
     "execution_count": 27,
     "metadata": {},
     "output_type": "execute_result"
    }
   ],
   "source": [
    "context_syntactic_model.fit([data_previous_words, data_next_words, data_syntactic], label, epochs=20)"
   ]
  },
  {
   "cell_type": "code",
   "execution_count": 28,
   "metadata": {},
   "outputs": [],
   "source": [
    "context_syntactic_model.save('models/singleton_classifiers/context_syntactic.model')"
   ]
  },
  {
   "cell_type": "markdown",
   "metadata": {},
   "source": [
    "## Words + Context + Syntactic"
   ]
  },
  {
   "cell_type": "code",
   "execution_count": 29,
   "metadata": {},
   "outputs": [],
   "source": [
    "words_context_syntactic_model_builder = SingletonClassifierModelBuilder(\n",
    "    use_words_feature=True, \n",
    "    use_context_feature=True, \n",
    "    use_syntactic_feature=True,\n",
    "    embedding_matrix=embedding_matrix,\n",
    "    syntactic_features_num=data_syntactic.shape[1]\n",
    ")"
   ]
  },
  {
   "cell_type": "code",
   "execution_count": 30,
   "metadata": {},
   "outputs": [],
   "source": [
    "words_context_syntactic_model = words_context_syntactic_model_builder.create_model()"
   ]
  },
  {
   "cell_type": "code",
   "execution_count": 31,
   "metadata": {},
   "outputs": [
    {
     "name": "stdout",
     "output_type": "stream",
     "text": [
      "Epoch 1/20\n",
      "5032/5032 [==============================] - 18s 4ms/step - loss: 0.3064 - acc: 0.8716\n",
      "Epoch 2/20\n",
      "5032/5032 [==============================] - 14s 3ms/step - loss: 0.1589 - acc: 0.9457\n",
      "Epoch 3/20\n",
      "5032/5032 [==============================] - 14s 3ms/step - loss: 0.0879 - acc: 0.9728\n",
      "Epoch 4/20\n",
      "5032/5032 [==============================] - 15s 3ms/step - loss: 0.0521 - acc: 0.9859\n",
      "Epoch 5/20\n",
      "5032/5032 [==============================] - 15s 3ms/step - loss: 0.0417 - acc: 0.9895\n",
      "Epoch 6/20\n",
      "5032/5032 [==============================] - 17s 3ms/step - loss: 0.0262 - acc: 0.9930\n",
      "Epoch 7/20\n",
      "5032/5032 [==============================] - 16s 3ms/step - loss: 0.0230 - acc: 0.9924\n",
      "Epoch 8/20\n",
      "5032/5032 [==============================] - 15s 3ms/step - loss: 0.0267 - acc: 0.9940\n",
      "Epoch 9/20\n",
      "5032/5032 [==============================] - 15s 3ms/step - loss: 0.0248 - acc: 0.9926\n",
      "Epoch 10/20\n",
      "5032/5032 [==============================] - 13s 3ms/step - loss: 0.0138 - acc: 0.9972\n",
      "Epoch 11/20\n",
      "5032/5032 [==============================] - 14s 3ms/step - loss: 0.0102 - acc: 0.9986\n",
      "Epoch 12/20\n",
      "5032/5032 [==============================] - 13s 3ms/step - loss: 0.0178 - acc: 0.9962\n",
      "Epoch 13/20\n",
      "5032/5032 [==============================] - 11s 2ms/step - loss: 0.0254 - acc: 0.9938\n",
      "Epoch 14/20\n",
      "5032/5032 [==============================] - 11s 2ms/step - loss: 0.0178 - acc: 0.9972\n",
      "Epoch 15/20\n",
      "5032/5032 [==============================] - 12s 2ms/step - loss: 0.0109 - acc: 0.9970\n",
      "Epoch 16/20\n",
      "5032/5032 [==============================] - 12s 2ms/step - loss: 0.0274 - acc: 0.9946\n",
      "Epoch 17/20\n",
      "5032/5032 [==============================] - 13s 3ms/step - loss: 0.0053 - acc: 0.9986\n",
      "Epoch 18/20\n",
      "5032/5032 [==============================] - 13s 3ms/step - loss: 0.0112 - acc: 0.9972\n",
      "Epoch 19/20\n",
      "5032/5032 [==============================] - 12s 2ms/step - loss: 0.0066 - acc: 0.9994\n",
      "Epoch 20/20\n",
      "5032/5032 [==============================] - 12s 2ms/step - loss: 0.0069 - acc: 0.9976\n"
     ]
    },
    {
     "data": {
      "text/plain": [
       "<tensorflow.python.keras.callbacks.History at 0x1a5dcfacf8>"
      ]
     },
     "execution_count": 31,
     "metadata": {},
     "output_type": "execute_result"
    }
   ],
   "source": [
    "words_context_syntactic_model.fit([data_text, data_previous_words, data_next_words, data_syntactic], label, epochs=20)"
   ]
  },
  {
   "cell_type": "code",
   "execution_count": 32,
   "metadata": {},
   "outputs": [],
   "source": [
    "words_context_syntactic_model.save('models/singleton_classifiers/words_context_syntactic.model')"
   ]
  }
 ],
 "metadata": {
  "kernelspec": {
   "display_name": "Python TA",
   "language": "python",
   "name": "ta-v2"
  },
  "language_info": {
   "codemirror_mode": {
    "name": "ipython",
    "version": 3
   },
   "file_extension": ".py",
   "mimetype": "text/x-python",
   "name": "python",
   "nbconvert_exporter": "python",
   "pygments_lexer": "ipython3",
   "version": "3.6.8"
  }
 },
 "nbformat": 4,
 "nbformat_minor": 2
}
