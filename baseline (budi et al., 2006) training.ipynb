{
 "cells": [
  {
   "cell_type": "code",
   "execution_count": 1,
   "metadata": {},
   "outputs": [],
   "source": [
    "from csv import DictReader\n",
    "from baseline.budi_et_al.model import Model\n",
    "from baseline.budi_et_al.rule import Rule"
   ]
  },
  {
   "cell_type": "code",
   "execution_count": 2,
   "metadata": {},
   "outputs": [],
   "source": [
    "def convert_field(value: str):\n",
    "    if value.isnumeric():\n",
    "        return int(value)\n",
    "    elif value.replace('.', '', 1).isnumeric():\n",
    "        return float(value)\n",
    "    \n",
    "    return value"
   ]
  },
  {
   "cell_type": "code",
   "execution_count": 3,
   "metadata": {},
   "outputs": [],
   "source": [
    "data_path = 'data/training/mention_pairs_for_budi_et_al_implementation.csv'\n",
    "\n",
    "data = []\n",
    "\n",
    "with open(data_path, 'r') as f:\n",
    "    csv_file = DictReader(f)\n",
    "    \n",
    "    for row in csv_file:\n",
    "        for field in row:\n",
    "            row[field] = convert_field(row[field])\n",
    "            \n",
    "        data.append(row)"
   ]
  },
  {
   "cell_type": "code",
   "execution_count": 4,
   "metadata": {},
   "outputs": [],
   "source": [
    "rule_fields = ['is_string_match', 'is_string_without_punctuation_match', 'is_abbreviation',\n",
    "               'is_first_pronoun', 'is_second_pronoun', 'is_on_one_sentence', 'is_substring',\n",
    "               'first_name_class', 'second_name_class']\n",
    "\n",
    "rules = [(Rule(**{field: rule[field] for field in rule_fields}), rule['is_coreference']) for rule in data]"
   ]
  },
  {
   "cell_type": "code",
   "execution_count": 5,
   "metadata": {},
   "outputs": [],
   "source": [
    "model = Model()\n",
    "\n",
    "for rule in rules:\n",
    "    model.add_rule(rule[0], rule[1])\n",
    "\n",
    "model.train()"
   ]
  },
  {
   "cell_type": "code",
   "execution_count": 6,
   "metadata": {},
   "outputs": [],
   "source": [
    "model.save('models/budi_et_al/model.csv')"
   ]
  }
 ],
 "metadata": {
  "kernelspec": {
   "display_name": "Python TA",
   "language": "python",
   "name": "ta-v2"
  },
  "language_info": {
   "codemirror_mode": {
    "name": "ipython",
    "version": 3
   },
   "file_extension": ".py",
   "mimetype": "text/x-python",
   "name": "python",
   "nbconvert_exporter": "python",
   "pygments_lexer": "ipython3",
   "version": "3.6.8"
  }
 },
 "nbformat": 4,
 "nbformat_minor": 2
}
